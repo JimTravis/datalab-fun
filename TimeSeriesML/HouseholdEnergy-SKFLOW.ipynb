{
 "cells": [
  {
   "cell_type": "markdown",
   "metadata": {},
   "source": [
    "# Household Power Consumption"
   ]
  },
  {
   "cell_type": "markdown",
   "metadata": {},
   "source": [
    "Interesting one...\n",
    "Would be good for a decent-sized test.  Several millions rows and lots of possible features."
   ]
  },
  {
   "cell_type": "markdown",
   "metadata": {},
   "source": [
    "## Example Raw Data"
   ]
  },
  {
   "cell_type": "markdown",
   "metadata": {},
   "source": [
    "`Date;Time;Global_active_power;Global_reactive_power;Voltage;Global_intensity;Sub_metering_1;Sub_metering_2;Sub_metering_3\n",
    "16/12/2006;17:24:00;4.216;0.418;234.840;18.400;0.000;1.000;17.000\n",
    "16/12/2006;17:25:00;5.360;0.436;233.630;23.000;0.000;1.000;16.000`"
   ]
  },
  {
   "cell_type": "markdown",
   "metadata": {},
   "source": [
    "## Data Format"
   ]
  },
  {
   "cell_type": "markdown",
   "metadata": {},
   "source": [
    "1. Date - DD/MM/YYYY\n",
    "2. Time - HH:MM:SS\n",
    "3. Household Global Minute-Averaged Active Power - KW/min\n",
    "4. Household Global Minute-Averaged Reactive Power - KW/min\n",
    "5. Minute-Averaged Voltage - V/min\n",
    "6. Household Global Minute-Averaged Current Intensity - A/min\n",
    "7. Energy Sub-Metering No. 1 - W/hr (kitchen - dishwasher, oven, microwave (hot plates not electric))\n",
    "8. Energy Sub-Metering No. 2 - W/hr (laundry room - washing-machine, tumble-drier, refrigerator, light)\n",
    "9. Energy Sub-Metering No. 3 - W/hr (water-heater, air-conditioner)\n",
    "\n",
    "** Some missing values, ~1.25%"
   ]
  },
  {
   "cell_type": "markdown",
   "metadata": {},
   "source": [
    "## Observations"
   ]
  },
  {
   "cell_type": "markdown",
   "metadata": {},
   "source": [
    "* #3 * 1000 / 60 => Household Global Active Power - W/hr\n",
    "* (#3 * 1000 / 60) - #7 - #8 - #9 => Rest of Home - W/hr"
   ]
  },
  {
   "cell_type": "markdown",
   "metadata": {},
   "source": [
    "## Other Stuff..."
   ]
  },
  {
   "cell_type": "markdown",
   "metadata": {},
   "source": [
    "* Active Power\n",
    "* Reactive Power\n",
    "* True Power = Active Power + Reactive Power?\n",
    "* Holidays, weekends..!\n",
    "* Aggregations..!  E.g. provide last week's data at min intervals, then one month at hour intervals, then last year, etc.\n",
    "\n",
    "* Daily patterns (people in morning, no one in day, people in evening, etc.)\n",
    "* Weekly patterns (weekdays vs weekends)\n",
    "* Seasonal patterns (spring, summer, etc.)\n",
    "* Overlays (holidays - Thanksgiving, Christmas, etc.)\n",
    "* Overlays (family vacations)"
   ]
  },
  {
   "cell_type": "markdown",
   "metadata": {},
   "source": [
    "## Models..."
   ]
  },
  {
   "cell_type": "markdown",
   "metadata": {},
   "source": [
    "* Regression on next minute's data...  This is sorta cute but how useful could it possibly be..?\n",
    "* Regression on next hour..?  Maybe, this feels right-ish...  Maybe, every 3 hours because that would cover a period in the life of the inhabitant (e.g. getting up and getting ready, working, etc.)"
   ]
  },
  {
   "cell_type": "markdown",
   "metadata": {},
   "source": [
    "## Get the Data, Mr Potata..."
   ]
  },
  {
   "cell_type": "code",
   "execution_count": 1,
   "metadata": {
    "collapsed": false
   },
   "outputs": [],
   "source": [
    "import pandas as pd\n",
    "from pandas.tools.plotting import autocorrelation_plot\n",
    "from pandas.tools.plotting import scatter_matrix\n",
    "\n",
    "import numpy as np\n",
    "\n",
    "import matplotlib.pyplot as plt\n",
    "\n",
    "import gcp.bigquery as bq"
   ]
  },
  {
   "cell_type": "code",
   "execution_count": 2,
   "metadata": {
    "collapsed": true
   },
   "outputs": [],
   "source": [
    "%%sql --module extraction\n",
    "\n",
    "DEFINE QUERY raw_data\n",
    "SELECT ts, global_active_power, global_reactive_power, voltage, intensity, sub_meter_1, sub_meter_2, sub_meter_3\n",
    "FROM [bingo-ml-1:electricity.household_usage_ts]\n",
    "ORDER BY ts ASC"
   ]
  },
  {
   "cell_type": "code",
   "execution_count": 3,
   "metadata": {
    "collapsed": false
   },
   "outputs": [
    {
     "data": {
      "text/html": [
       "\n",
       "    <div class=\"bqtv\" id=\"1_145194035843\"><table><tr><th>ts</th><th>global_active_power</th><th>global_reactive_power</th><th>voltage</th><th>intensity</th><th>sub_meter_1</th><th>sub_meter_2</th><th>sub_meter_3</th></tr><tr><td>2006-12-16 17:24:00</td><td>4.216</td><td>0.418</td><td>234.84</td><td>18.4</td><td>0.0</td><td>1.0</td><td>17.0</td></tr><tr><td>2006-12-16 17:25:00</td><td>5.36</td><td>0.436</td><td>233.63</td><td>23.0</td><td>0.0</td><td>1.0</td><td>16.0</td></tr><tr><td>2006-12-16 17:26:00</td><td>5.374</td><td>0.498</td><td>233.29</td><td>23.0</td><td>0.0</td><td>2.0</td><td>17.0</td></tr><tr><td>2006-12-16 17:27:00</td><td>5.388</td><td>0.502</td><td>233.74</td><td>23.0</td><td>0.0</td><td>1.0</td><td>17.0</td></tr><tr><td>2006-12-16 17:28:00</td><td>3.666</td><td>0.528</td><td>235.68</td><td>15.8</td><td>0.0</td><td>1.0</td><td>17.0</td></tr><tr><td>2006-12-16 17:29:00</td><td>3.52</td><td>0.522</td><td>235.02</td><td>15.0</td><td>0.0</td><td>2.0</td><td>17.0</td></tr><tr><td>2006-12-16 17:30:00</td><td>3.702</td><td>0.52</td><td>235.09</td><td>15.8</td><td>0.0</td><td>1.0</td><td>17.0</td></tr><tr><td>2006-12-16 17:31:00</td><td>3.7</td><td>0.52</td><td>235.22</td><td>15.8</td><td>0.0</td><td>1.0</td><td>17.0</td></tr><tr><td>2006-12-16 17:32:00</td><td>3.668</td><td>0.51</td><td>233.99</td><td>15.8</td><td>0.0</td><td>1.0</td><td>17.0</td></tr><tr><td>2006-12-16 17:33:00</td><td>3.662</td><td>0.51</td><td>233.86</td><td>15.8</td><td>0.0</td><td>2.0</td><td>16.0</td></tr><tr><td>2006-12-16 17:34:00</td><td>4.448</td><td>0.498</td><td>232.86</td><td>19.6</td><td>0.0</td><td>1.0</td><td>17.0</td></tr><tr><td>2006-12-16 17:35:00</td><td>5.412</td><td>0.47</td><td>232.78</td><td>23.2</td><td>0.0</td><td>1.0</td><td>17.0</td></tr><tr><td>2006-12-16 17:36:00</td><td>5.224</td><td>0.478</td><td>232.99</td><td>22.4</td><td>0.0</td><td>1.0</td><td>16.0</td></tr><tr><td>2006-12-16 17:37:00</td><td>5.268</td><td>0.398</td><td>232.91</td><td>22.6</td><td>0.0</td><td>2.0</td><td>17.0</td></tr><tr><td>2006-12-16 17:38:00</td><td>4.054</td><td>0.422</td><td>235.24</td><td>17.6</td><td>0.0</td><td>1.0</td><td>17.0</td></tr><tr><td>2006-12-16 17:39:00</td><td>3.384</td><td>0.282</td><td>237.14</td><td>14.2</td><td>0.0</td><td>0.0</td><td>17.0</td></tr><tr><td>2006-12-16 17:40:00</td><td>3.27</td><td>0.152</td><td>236.73</td><td>13.8</td><td>0.0</td><td>0.0</td><td>17.0</td></tr><tr><td>2006-12-16 17:41:00</td><td>3.43</td><td>0.156</td><td>237.06</td><td>14.4</td><td>0.0</td><td>0.0</td><td>17.0</td></tr><tr><td>2006-12-16 17:42:00</td><td>3.266</td><td>0.0</td><td>237.13</td><td>13.8</td><td>0.0</td><td>0.0</td><td>18.0</td></tr><tr><td>2006-12-16 17:43:00</td><td>3.728</td><td>0.0</td><td>235.84</td><td>16.4</td><td>0.0</td><td>0.0</td><td>17.0</td></tr><tr><td>2006-12-16 17:44:00</td><td>5.894</td><td>0.0</td><td>232.69</td><td>25.4</td><td>0.0</td><td>0.0</td><td>16.0</td></tr><tr><td>2006-12-16 17:45:00</td><td>7.706</td><td>0.0</td><td>230.98</td><td>33.2</td><td>0.0</td><td>0.0</td><td>17.0</td></tr><tr><td>2006-12-16 17:46:00</td><td>7.026</td><td>0.0</td><td>232.21</td><td>30.6</td><td>0.0</td><td>0.0</td><td>16.0</td></tr><tr><td>2006-12-16 17:47:00</td><td>5.174</td><td>0.0</td><td>234.19</td><td>22.0</td><td>0.0</td><td>0.0</td><td>17.0</td></tr><tr><td>2006-12-16 17:48:00</td><td>4.474</td><td>0.0</td><td>234.96</td><td>19.4</td><td>0.0</td><td>0.0</td><td>17.0</td></tr></table></div>\n",
       "    <br />(rows: 2049280, time: 0.6s, cached, job: job_Bn_X9dbEzuSyCYhxxZzbO2A52xM)<br />\n",
       "    <script>\n",
       "      require(['extensions/charting', 'element!1_145194035843', 'style!/static/extensions/charting.css'],\n",
       "        function(charts, dom) {\n",
       "          charts.render(dom,\n",
       "            {\n",
       "              chartStyle:\"paged_table\",\n",
       "              dataName:\"0\",\n",
       "              fields:\"ts,global_active_power,global_reactive_power,voltage,intensity,sub_meter_1,sub_meter_2,sub_meter_3\",\n",
       "              totalRows:2049280,\n",
       "              rowsPerPage:25,\n",
       "            }, {}, {\"rows\": [{\"c\": [{\"v\": \"2006-12-16T17:24:00\"}, {\"v\": 4.216}, {\"v\": 0.418}, {\"v\": 234.84}, {\"v\": 18.4}, {\"v\": 0.0}, {\"v\": 1.0}, {\"v\": 17.0}]}, {\"c\": [{\"v\": \"2006-12-16T17:25:00\"}, {\"v\": 5.36}, {\"v\": 0.436}, {\"v\": 233.63}, {\"v\": 23.0}, {\"v\": 0.0}, {\"v\": 1.0}, {\"v\": 16.0}]}, {\"c\": [{\"v\": \"2006-12-16T17:26:00\"}, {\"v\": 5.374}, {\"v\": 0.498}, {\"v\": 233.29}, {\"v\": 23.0}, {\"v\": 0.0}, {\"v\": 2.0}, {\"v\": 17.0}]}, {\"c\": [{\"v\": \"2006-12-16T17:27:00\"}, {\"v\": 5.388}, {\"v\": 0.502}, {\"v\": 233.74}, {\"v\": 23.0}, {\"v\": 0.0}, {\"v\": 1.0}, {\"v\": 17.0}]}, {\"c\": [{\"v\": \"2006-12-16T17:28:00\"}, {\"v\": 3.666}, {\"v\": 0.528}, {\"v\": 235.68}, {\"v\": 15.8}, {\"v\": 0.0}, {\"v\": 1.0}, {\"v\": 17.0}]}, {\"c\": [{\"v\": \"2006-12-16T17:29:00\"}, {\"v\": 3.52}, {\"v\": 0.522}, {\"v\": 235.02}, {\"v\": 15.0}, {\"v\": 0.0}, {\"v\": 2.0}, {\"v\": 17.0}]}, {\"c\": [{\"v\": \"2006-12-16T17:30:00\"}, {\"v\": 3.702}, {\"v\": 0.52}, {\"v\": 235.09}, {\"v\": 15.8}, {\"v\": 0.0}, {\"v\": 1.0}, {\"v\": 17.0}]}, {\"c\": [{\"v\": \"2006-12-16T17:31:00\"}, {\"v\": 3.7}, {\"v\": 0.52}, {\"v\": 235.22}, {\"v\": 15.8}, {\"v\": 0.0}, {\"v\": 1.0}, {\"v\": 17.0}]}, {\"c\": [{\"v\": \"2006-12-16T17:32:00\"}, {\"v\": 3.668}, {\"v\": 0.51}, {\"v\": 233.99}, {\"v\": 15.8}, {\"v\": 0.0}, {\"v\": 1.0}, {\"v\": 17.0}]}, {\"c\": [{\"v\": \"2006-12-16T17:33:00\"}, {\"v\": 3.662}, {\"v\": 0.51}, {\"v\": 233.86}, {\"v\": 15.8}, {\"v\": 0.0}, {\"v\": 2.0}, {\"v\": 16.0}]}, {\"c\": [{\"v\": \"2006-12-16T17:34:00\"}, {\"v\": 4.448}, {\"v\": 0.498}, {\"v\": 232.86}, {\"v\": 19.6}, {\"v\": 0.0}, {\"v\": 1.0}, {\"v\": 17.0}]}, {\"c\": [{\"v\": \"2006-12-16T17:35:00\"}, {\"v\": 5.412}, {\"v\": 0.47}, {\"v\": 232.78}, {\"v\": 23.2}, {\"v\": 0.0}, {\"v\": 1.0}, {\"v\": 17.0}]}, {\"c\": [{\"v\": \"2006-12-16T17:36:00\"}, {\"v\": 5.224}, {\"v\": 0.478}, {\"v\": 232.99}, {\"v\": 22.4}, {\"v\": 0.0}, {\"v\": 1.0}, {\"v\": 16.0}]}, {\"c\": [{\"v\": \"2006-12-16T17:37:00\"}, {\"v\": 5.268}, {\"v\": 0.398}, {\"v\": 232.91}, {\"v\": 22.6}, {\"v\": 0.0}, {\"v\": 2.0}, {\"v\": 17.0}]}, {\"c\": [{\"v\": \"2006-12-16T17:38:00\"}, {\"v\": 4.054}, {\"v\": 0.422}, {\"v\": 235.24}, {\"v\": 17.6}, {\"v\": 0.0}, {\"v\": 1.0}, {\"v\": 17.0}]}, {\"c\": [{\"v\": \"2006-12-16T17:39:00\"}, {\"v\": 3.384}, {\"v\": 0.282}, {\"v\": 237.14}, {\"v\": 14.2}, {\"v\": 0.0}, {\"v\": 0.0}, {\"v\": 17.0}]}, {\"c\": [{\"v\": \"2006-12-16T17:40:00\"}, {\"v\": 3.27}, {\"v\": 0.152}, {\"v\": 236.73}, {\"v\": 13.8}, {\"v\": 0.0}, {\"v\": 0.0}, {\"v\": 17.0}]}, {\"c\": [{\"v\": \"2006-12-16T17:41:00\"}, {\"v\": 3.43}, {\"v\": 0.156}, {\"v\": 237.06}, {\"v\": 14.4}, {\"v\": 0.0}, {\"v\": 0.0}, {\"v\": 17.0}]}, {\"c\": [{\"v\": \"2006-12-16T17:42:00\"}, {\"v\": 3.266}, {\"v\": 0.0}, {\"v\": 237.13}, {\"v\": 13.8}, {\"v\": 0.0}, {\"v\": 0.0}, {\"v\": 18.0}]}, {\"c\": [{\"v\": \"2006-12-16T17:43:00\"}, {\"v\": 3.728}, {\"v\": 0.0}, {\"v\": 235.84}, {\"v\": 16.4}, {\"v\": 0.0}, {\"v\": 0.0}, {\"v\": 17.0}]}, {\"c\": [{\"v\": \"2006-12-16T17:44:00\"}, {\"v\": 5.894}, {\"v\": 0.0}, {\"v\": 232.69}, {\"v\": 25.4}, {\"v\": 0.0}, {\"v\": 0.0}, {\"v\": 16.0}]}, {\"c\": [{\"v\": \"2006-12-16T17:45:00\"}, {\"v\": 7.706}, {\"v\": 0.0}, {\"v\": 230.98}, {\"v\": 33.2}, {\"v\": 0.0}, {\"v\": 0.0}, {\"v\": 17.0}]}, {\"c\": [{\"v\": \"2006-12-16T17:46:00\"}, {\"v\": 7.026}, {\"v\": 0.0}, {\"v\": 232.21}, {\"v\": 30.6}, {\"v\": 0.0}, {\"v\": 0.0}, {\"v\": 16.0}]}, {\"c\": [{\"v\": \"2006-12-16T17:47:00\"}, {\"v\": 5.174}, {\"v\": 0.0}, {\"v\": 234.19}, {\"v\": 22.0}, {\"v\": 0.0}, {\"v\": 0.0}, {\"v\": 17.0}]}, {\"c\": [{\"v\": \"2006-12-16T17:48:00\"}, {\"v\": 4.474}, {\"v\": 0.0}, {\"v\": 234.96}, {\"v\": 19.4}, {\"v\": 0.0}, {\"v\": 0.0}, {\"v\": 17.0}]}], \"cols\": [{\"type\": \"datetime\", \"id\": \"ts\", \"label\": \"ts\"}, {\"type\": \"number\", \"id\": \"global_active_power\", \"label\": \"global_active_power\"}, {\"type\": \"number\", \"id\": \"global_reactive_power\", \"label\": \"global_reactive_power\"}, {\"type\": \"number\", \"id\": \"voltage\", \"label\": \"voltage\"}, {\"type\": \"number\", \"id\": \"intensity\", \"label\": \"intensity\"}, {\"type\": \"number\", \"id\": \"sub_meter_1\", \"label\": \"sub_meter_1\"}, {\"type\": \"number\", \"id\": \"sub_meter_2\", \"label\": \"sub_meter_2\"}, {\"type\": \"number\", \"id\": \"sub_meter_3\", \"label\": \"sub_meter_3\"}]});\n",
       "        }\n",
       "      );\n",
       "    </script>\n",
       "  "
      ],
      "text/plain": [
       "QueryResultsTable job_Bn_X9dbEzuSyCYhxxZzbO2A52xM"
      ]
     },
     "execution_count": 3,
     "metadata": {},
     "output_type": "execute_result"
    }
   ],
   "source": [
    "raw_data_results = bq.Query(extraction.raw_data).results()\n",
    "raw_data_results"
   ]
  },
  {
   "cell_type": "code",
   "execution_count": 4,
   "metadata": {
    "collapsed": false
   },
   "outputs": [],
   "source": [
    "raw_data = raw_data_results.to_dataframe(start_row=0, max_rows=100000)"
   ]
  },
  {
   "cell_type": "code",
   "execution_count": 5,
   "metadata": {
    "collapsed": false
   },
   "outputs": [
    {
     "data": {
      "text/html": [
       "<div>\n",
       "<table border=\"1\" class=\"dataframe\">\n",
       "  <thead>\n",
       "    <tr style=\"text-align: right;\">\n",
       "      <th></th>\n",
       "      <th>ts</th>\n",
       "      <th>global_active_power</th>\n",
       "      <th>global_reactive_power</th>\n",
       "      <th>voltage</th>\n",
       "      <th>intensity</th>\n",
       "      <th>sub_meter_1</th>\n",
       "      <th>sub_meter_2</th>\n",
       "      <th>sub_meter_3</th>\n",
       "    </tr>\n",
       "  </thead>\n",
       "  <tbody>\n",
       "    <tr>\n",
       "      <th>0</th>\n",
       "      <td>2006-12-16 17:24:00</td>\n",
       "      <td>4.216</td>\n",
       "      <td>0.418</td>\n",
       "      <td>234.84</td>\n",
       "      <td>18.4</td>\n",
       "      <td>0</td>\n",
       "      <td>1</td>\n",
       "      <td>17</td>\n",
       "    </tr>\n",
       "    <tr>\n",
       "      <th>1</th>\n",
       "      <td>2006-12-16 17:25:00</td>\n",
       "      <td>5.360</td>\n",
       "      <td>0.436</td>\n",
       "      <td>233.63</td>\n",
       "      <td>23.0</td>\n",
       "      <td>0</td>\n",
       "      <td>1</td>\n",
       "      <td>16</td>\n",
       "    </tr>\n",
       "    <tr>\n",
       "      <th>2</th>\n",
       "      <td>2006-12-16 17:26:00</td>\n",
       "      <td>5.374</td>\n",
       "      <td>0.498</td>\n",
       "      <td>233.29</td>\n",
       "      <td>23.0</td>\n",
       "      <td>0</td>\n",
       "      <td>2</td>\n",
       "      <td>17</td>\n",
       "    </tr>\n",
       "    <tr>\n",
       "      <th>3</th>\n",
       "      <td>2006-12-16 17:27:00</td>\n",
       "      <td>5.388</td>\n",
       "      <td>0.502</td>\n",
       "      <td>233.74</td>\n",
       "      <td>23.0</td>\n",
       "      <td>0</td>\n",
       "      <td>1</td>\n",
       "      <td>17</td>\n",
       "    </tr>\n",
       "    <tr>\n",
       "      <th>4</th>\n",
       "      <td>2006-12-16 17:28:00</td>\n",
       "      <td>3.666</td>\n",
       "      <td>0.528</td>\n",
       "      <td>235.68</td>\n",
       "      <td>15.8</td>\n",
       "      <td>0</td>\n",
       "      <td>1</td>\n",
       "      <td>17</td>\n",
       "    </tr>\n",
       "    <tr>\n",
       "      <th>5</th>\n",
       "      <td>2006-12-16 17:29:00</td>\n",
       "      <td>3.520</td>\n",
       "      <td>0.522</td>\n",
       "      <td>235.02</td>\n",
       "      <td>15.0</td>\n",
       "      <td>0</td>\n",
       "      <td>2</td>\n",
       "      <td>17</td>\n",
       "    </tr>\n",
       "    <tr>\n",
       "      <th>6</th>\n",
       "      <td>2006-12-16 17:30:00</td>\n",
       "      <td>3.702</td>\n",
       "      <td>0.520</td>\n",
       "      <td>235.09</td>\n",
       "      <td>15.8</td>\n",
       "      <td>0</td>\n",
       "      <td>1</td>\n",
       "      <td>17</td>\n",
       "    </tr>\n",
       "    <tr>\n",
       "      <th>7</th>\n",
       "      <td>2006-12-16 17:31:00</td>\n",
       "      <td>3.700</td>\n",
       "      <td>0.520</td>\n",
       "      <td>235.22</td>\n",
       "      <td>15.8</td>\n",
       "      <td>0</td>\n",
       "      <td>1</td>\n",
       "      <td>17</td>\n",
       "    </tr>\n",
       "    <tr>\n",
       "      <th>8</th>\n",
       "      <td>2006-12-16 17:32:00</td>\n",
       "      <td>3.668</td>\n",
       "      <td>0.510</td>\n",
       "      <td>233.99</td>\n",
       "      <td>15.8</td>\n",
       "      <td>0</td>\n",
       "      <td>1</td>\n",
       "      <td>17</td>\n",
       "    </tr>\n",
       "    <tr>\n",
       "      <th>9</th>\n",
       "      <td>2006-12-16 17:33:00</td>\n",
       "      <td>3.662</td>\n",
       "      <td>0.510</td>\n",
       "      <td>233.86</td>\n",
       "      <td>15.8</td>\n",
       "      <td>0</td>\n",
       "      <td>2</td>\n",
       "      <td>16</td>\n",
       "    </tr>\n",
       "  </tbody>\n",
       "</table>\n",
       "</div>"
      ],
      "text/plain": [
       "                   ts  global_active_power  global_reactive_power  voltage  \\\n",
       "0 2006-12-16 17:24:00                4.216                  0.418   234.84   \n",
       "1 2006-12-16 17:25:00                5.360                  0.436   233.63   \n",
       "2 2006-12-16 17:26:00                5.374                  0.498   233.29   \n",
       "3 2006-12-16 17:27:00                5.388                  0.502   233.74   \n",
       "4 2006-12-16 17:28:00                3.666                  0.528   235.68   \n",
       "5 2006-12-16 17:29:00                3.520                  0.522   235.02   \n",
       "6 2006-12-16 17:30:00                3.702                  0.520   235.09   \n",
       "7 2006-12-16 17:31:00                3.700                  0.520   235.22   \n",
       "8 2006-12-16 17:32:00                3.668                  0.510   233.99   \n",
       "9 2006-12-16 17:33:00                3.662                  0.510   233.86   \n",
       "\n",
       "   intensity  sub_meter_1  sub_meter_2  sub_meter_3  \n",
       "0       18.4            0            1           17  \n",
       "1       23.0            0            1           16  \n",
       "2       23.0            0            2           17  \n",
       "3       23.0            0            1           17  \n",
       "4       15.8            0            1           17  \n",
       "5       15.0            0            2           17  \n",
       "6       15.8            0            1           17  \n",
       "7       15.8            0            1           17  \n",
       "8       15.8            0            1           17  \n",
       "9       15.8            0            2           16  "
      ]
     },
     "execution_count": 5,
     "metadata": {},
     "output_type": "execute_result"
    }
   ],
   "source": [
    "raw_data[:10]"
   ]
  },
  {
   "cell_type": "code",
   "execution_count": 6,
   "metadata": {
    "collapsed": false
   },
   "outputs": [
    {
     "data": {
      "text/html": [
       "<div>\n",
       "<table border=\"1\" class=\"dataframe\">\n",
       "  <thead>\n",
       "    <tr style=\"text-align: right;\">\n",
       "      <th></th>\n",
       "      <th>global_active_power</th>\n",
       "      <th>global_reactive_power</th>\n",
       "      <th>voltage</th>\n",
       "      <th>intensity</th>\n",
       "      <th>sub_meter_1</th>\n",
       "      <th>sub_meter_2</th>\n",
       "      <th>sub_meter_3</th>\n",
       "    </tr>\n",
       "    <tr>\n",
       "      <th>ts</th>\n",
       "      <th></th>\n",
       "      <th></th>\n",
       "      <th></th>\n",
       "      <th></th>\n",
       "      <th></th>\n",
       "      <th></th>\n",
       "      <th></th>\n",
       "    </tr>\n",
       "  </thead>\n",
       "  <tbody>\n",
       "    <tr>\n",
       "      <th>2006-12-16 17:24:00</th>\n",
       "      <td>4.216</td>\n",
       "      <td>0.418</td>\n",
       "      <td>234.84</td>\n",
       "      <td>18.4</td>\n",
       "      <td>0</td>\n",
       "      <td>1</td>\n",
       "      <td>17</td>\n",
       "    </tr>\n",
       "    <tr>\n",
       "      <th>2006-12-16 17:25:00</th>\n",
       "      <td>5.360</td>\n",
       "      <td>0.436</td>\n",
       "      <td>233.63</td>\n",
       "      <td>23.0</td>\n",
       "      <td>0</td>\n",
       "      <td>1</td>\n",
       "      <td>16</td>\n",
       "    </tr>\n",
       "    <tr>\n",
       "      <th>2006-12-16 17:26:00</th>\n",
       "      <td>5.374</td>\n",
       "      <td>0.498</td>\n",
       "      <td>233.29</td>\n",
       "      <td>23.0</td>\n",
       "      <td>0</td>\n",
       "      <td>2</td>\n",
       "      <td>17</td>\n",
       "    </tr>\n",
       "    <tr>\n",
       "      <th>2006-12-16 17:27:00</th>\n",
       "      <td>5.388</td>\n",
       "      <td>0.502</td>\n",
       "      <td>233.74</td>\n",
       "      <td>23.0</td>\n",
       "      <td>0</td>\n",
       "      <td>1</td>\n",
       "      <td>17</td>\n",
       "    </tr>\n",
       "    <tr>\n",
       "      <th>2006-12-16 17:28:00</th>\n",
       "      <td>3.666</td>\n",
       "      <td>0.528</td>\n",
       "      <td>235.68</td>\n",
       "      <td>15.8</td>\n",
       "      <td>0</td>\n",
       "      <td>1</td>\n",
       "      <td>17</td>\n",
       "    </tr>\n",
       "    <tr>\n",
       "      <th>2006-12-16 17:29:00</th>\n",
       "      <td>3.520</td>\n",
       "      <td>0.522</td>\n",
       "      <td>235.02</td>\n",
       "      <td>15.0</td>\n",
       "      <td>0</td>\n",
       "      <td>2</td>\n",
       "      <td>17</td>\n",
       "    </tr>\n",
       "    <tr>\n",
       "      <th>2006-12-16 17:30:00</th>\n",
       "      <td>3.702</td>\n",
       "      <td>0.520</td>\n",
       "      <td>235.09</td>\n",
       "      <td>15.8</td>\n",
       "      <td>0</td>\n",
       "      <td>1</td>\n",
       "      <td>17</td>\n",
       "    </tr>\n",
       "    <tr>\n",
       "      <th>2006-12-16 17:31:00</th>\n",
       "      <td>3.700</td>\n",
       "      <td>0.520</td>\n",
       "      <td>235.22</td>\n",
       "      <td>15.8</td>\n",
       "      <td>0</td>\n",
       "      <td>1</td>\n",
       "      <td>17</td>\n",
       "    </tr>\n",
       "    <tr>\n",
       "      <th>2006-12-16 17:32:00</th>\n",
       "      <td>3.668</td>\n",
       "      <td>0.510</td>\n",
       "      <td>233.99</td>\n",
       "      <td>15.8</td>\n",
       "      <td>0</td>\n",
       "      <td>1</td>\n",
       "      <td>17</td>\n",
       "    </tr>\n",
       "    <tr>\n",
       "      <th>2006-12-16 17:33:00</th>\n",
       "      <td>3.662</td>\n",
       "      <td>0.510</td>\n",
       "      <td>233.86</td>\n",
       "      <td>15.8</td>\n",
       "      <td>0</td>\n",
       "      <td>2</td>\n",
       "      <td>16</td>\n",
       "    </tr>\n",
       "  </tbody>\n",
       "</table>\n",
       "</div>"
      ],
      "text/plain": [
       "                     global_active_power  global_reactive_power  voltage  \\\n",
       "ts                                                                         \n",
       "2006-12-16 17:24:00                4.216                  0.418   234.84   \n",
       "2006-12-16 17:25:00                5.360                  0.436   233.63   \n",
       "2006-12-16 17:26:00                5.374                  0.498   233.29   \n",
       "2006-12-16 17:27:00                5.388                  0.502   233.74   \n",
       "2006-12-16 17:28:00                3.666                  0.528   235.68   \n",
       "2006-12-16 17:29:00                3.520                  0.522   235.02   \n",
       "2006-12-16 17:30:00                3.702                  0.520   235.09   \n",
       "2006-12-16 17:31:00                3.700                  0.520   235.22   \n",
       "2006-12-16 17:32:00                3.668                  0.510   233.99   \n",
       "2006-12-16 17:33:00                3.662                  0.510   233.86   \n",
       "\n",
       "                     intensity  sub_meter_1  sub_meter_2  sub_meter_3  \n",
       "ts                                                                     \n",
       "2006-12-16 17:24:00       18.4            0            1           17  \n",
       "2006-12-16 17:25:00       23.0            0            1           16  \n",
       "2006-12-16 17:26:00       23.0            0            2           17  \n",
       "2006-12-16 17:27:00       23.0            0            1           17  \n",
       "2006-12-16 17:28:00       15.8            0            1           17  \n",
       "2006-12-16 17:29:00       15.0            0            2           17  \n",
       "2006-12-16 17:30:00       15.8            0            1           17  \n",
       "2006-12-16 17:31:00       15.8            0            1           17  \n",
       "2006-12-16 17:32:00       15.8            0            1           17  \n",
       "2006-12-16 17:33:00       15.8            0            2           16  "
      ]
     },
     "execution_count": 6,
     "metadata": {},
     "output_type": "execute_result"
    }
   ],
   "source": [
    "training_data = raw_data.set_index('ts')\n",
    "training_data = training_data.resample('T', fill_method='ffill')\n",
    "training_data[:10]"
   ]
  },
  {
   "cell_type": "code",
   "execution_count": 7,
   "metadata": {
    "collapsed": false
   },
   "outputs": [
    {
     "data": {
      "text/html": [
       "<div>\n",
       "<table border=\"1\" class=\"dataframe\">\n",
       "  <thead>\n",
       "    <tr style=\"text-align: right;\">\n",
       "      <th></th>\n",
       "      <th>global_active_power</th>\n",
       "      <th>global_reactive_power</th>\n",
       "      <th>voltage</th>\n",
       "      <th>intensity</th>\n",
       "      <th>sub_meter_1</th>\n",
       "      <th>sub_meter_2</th>\n",
       "      <th>sub_meter_3</th>\n",
       "    </tr>\n",
       "  </thead>\n",
       "  <tbody>\n",
       "    <tr>\n",
       "      <th>count</th>\n",
       "      <td>100008.000000</td>\n",
       "      <td>100008.000000</td>\n",
       "      <td>100008.000000</td>\n",
       "      <td>100008.000000</td>\n",
       "      <td>100008.000000</td>\n",
       "      <td>100008.000000</td>\n",
       "      <td>100008.000000</td>\n",
       "    </tr>\n",
       "    <tr>\n",
       "      <th>mean</th>\n",
       "      <td>1.646368</td>\n",
       "      <td>0.128445</td>\n",
       "      <td>240.819521</td>\n",
       "      <td>6.960163</td>\n",
       "      <td>1.315425</td>\n",
       "      <td>1.909837</td>\n",
       "      <td>7.518409</td>\n",
       "    </tr>\n",
       "    <tr>\n",
       "      <th>std</th>\n",
       "      <td>1.343910</td>\n",
       "      <td>0.117188</td>\n",
       "      <td>3.463118</td>\n",
       "      <td>5.668531</td>\n",
       "      <td>6.689033</td>\n",
       "      <td>7.610505</td>\n",
       "      <td>8.668014</td>\n",
       "    </tr>\n",
       "    <tr>\n",
       "      <th>min</th>\n",
       "      <td>0.194000</td>\n",
       "      <td>0.000000</td>\n",
       "      <td>223.490000</td>\n",
       "      <td>0.800000</td>\n",
       "      <td>0.000000</td>\n",
       "      <td>0.000000</td>\n",
       "      <td>0.000000</td>\n",
       "    </tr>\n",
       "    <tr>\n",
       "      <th>25%</th>\n",
       "      <td>0.396000</td>\n",
       "      <td>0.000000</td>\n",
       "      <td>238.530000</td>\n",
       "      <td>1.800000</td>\n",
       "      <td>0.000000</td>\n",
       "      <td>0.000000</td>\n",
       "      <td>0.000000</td>\n",
       "    </tr>\n",
       "    <tr>\n",
       "      <th>50%</th>\n",
       "      <td>1.416000</td>\n",
       "      <td>0.116000</td>\n",
       "      <td>241.050000</td>\n",
       "      <td>5.800000</td>\n",
       "      <td>0.000000</td>\n",
       "      <td>0.000000</td>\n",
       "      <td>0.000000</td>\n",
       "    </tr>\n",
       "    <tr>\n",
       "      <th>75%</th>\n",
       "      <td>2.418000</td>\n",
       "      <td>0.198000</td>\n",
       "      <td>243.280000</td>\n",
       "      <td>10.000000</td>\n",
       "      <td>0.000000</td>\n",
       "      <td>1.000000</td>\n",
       "      <td>17.000000</td>\n",
       "    </tr>\n",
       "    <tr>\n",
       "      <th>max</th>\n",
       "      <td>9.410000</td>\n",
       "      <td>0.874000</td>\n",
       "      <td>251.700000</td>\n",
       "      <td>41.800000</td>\n",
       "      <td>77.000000</td>\n",
       "      <td>78.000000</td>\n",
       "      <td>20.000000</td>\n",
       "    </tr>\n",
       "  </tbody>\n",
       "</table>\n",
       "</div>"
      ],
      "text/plain": [
       "       global_active_power  global_reactive_power        voltage  \\\n",
       "count        100008.000000          100008.000000  100008.000000   \n",
       "mean              1.646368               0.128445     240.819521   \n",
       "std               1.343910               0.117188       3.463118   \n",
       "min               0.194000               0.000000     223.490000   \n",
       "25%               0.396000               0.000000     238.530000   \n",
       "50%               1.416000               0.116000     241.050000   \n",
       "75%               2.418000               0.198000     243.280000   \n",
       "max               9.410000               0.874000     251.700000   \n",
       "\n",
       "           intensity    sub_meter_1    sub_meter_2    sub_meter_3  \n",
       "count  100008.000000  100008.000000  100008.000000  100008.000000  \n",
       "mean        6.960163       1.315425       1.909837       7.518409  \n",
       "std         5.668531       6.689033       7.610505       8.668014  \n",
       "min         0.800000       0.000000       0.000000       0.000000  \n",
       "25%         1.800000       0.000000       0.000000       0.000000  \n",
       "50%         5.800000       0.000000       0.000000       0.000000  \n",
       "75%        10.000000       0.000000       1.000000      17.000000  \n",
       "max        41.800000      77.000000      78.000000      20.000000  "
      ]
     },
     "execution_count": 7,
     "metadata": {},
     "output_type": "execute_result"
    }
   ],
   "source": [
    "training_data.describe()"
   ]
  },
  {
   "cell_type": "code",
   "execution_count": 8,
   "metadata": {
    "collapsed": false
   },
   "outputs": [
    {
     "data": {
      "text/plain": [
       "'_ = training_data.plot(figsize=(20, 15))'"
      ]
     },
     "execution_count": 8,
     "metadata": {},
     "output_type": "execute_result"
    }
   ],
   "source": [
    "'''_ = training_data.plot(figsize=(20, 15))'''"
   ]
  },
  {
   "cell_type": "code",
   "execution_count": 9,
   "metadata": {
    "collapsed": false
   },
   "outputs": [
    {
     "data": {
      "text/plain": [
       "'_ = training_data.global_active_power.plot(figsize=(20, 15))'"
      ]
     },
     "execution_count": 9,
     "metadata": {},
     "output_type": "execute_result"
    }
   ],
   "source": [
    "'''_ = training_data.global_active_power.plot(figsize=(20, 15))'''"
   ]
  },
  {
   "cell_type": "code",
   "execution_count": 10,
   "metadata": {
    "collapsed": false
   },
   "outputs": [
    {
     "data": {
      "text/plain": [
       "'_ = training_data.global_reactive_power.plot(figsize=(20, 15))'"
      ]
     },
     "execution_count": 10,
     "metadata": {},
     "output_type": "execute_result"
    }
   ],
   "source": [
    "'''_ = training_data.global_reactive_power.plot(figsize=(20, 15))'''"
   ]
  },
  {
   "cell_type": "code",
   "execution_count": 11,
   "metadata": {
    "collapsed": false
   },
   "outputs": [
    {
     "data": {
      "text/plain": [
       "'_ = training_data.voltage.plot(figsize=(20, 15))'"
      ]
     },
     "execution_count": 11,
     "metadata": {},
     "output_type": "execute_result"
    }
   ],
   "source": [
    "'''_ = training_data.voltage.plot(figsize=(20, 15))'''"
   ]
  },
  {
   "cell_type": "code",
   "execution_count": 12,
   "metadata": {
    "collapsed": false
   },
   "outputs": [
    {
     "data": {
      "text/plain": [
       "'_ = training_data.intensity.plot(figsize=(20, 15))'"
      ]
     },
     "execution_count": 12,
     "metadata": {},
     "output_type": "execute_result"
    }
   ],
   "source": [
    "'''_ = training_data.intensity.plot(figsize=(20, 15))'''"
   ]
  },
  {
   "cell_type": "code",
   "execution_count": 13,
   "metadata": {
    "collapsed": false
   },
   "outputs": [
    {
     "data": {
      "text/plain": [
       "'_ = training_data.sub_meter_1.plot(figsize=(20, 15))'"
      ]
     },
     "execution_count": 13,
     "metadata": {},
     "output_type": "execute_result"
    }
   ],
   "source": [
    "'''_ = training_data.sub_meter_1.plot(figsize=(20, 15))'''"
   ]
  },
  {
   "cell_type": "code",
   "execution_count": 14,
   "metadata": {
    "collapsed": false
   },
   "outputs": [
    {
     "data": {
      "text/plain": [
       "'_ = training_data.sub_meter_2.plot(figsize=(20, 15))'"
      ]
     },
     "execution_count": 14,
     "metadata": {},
     "output_type": "execute_result"
    }
   ],
   "source": [
    "'''_ = training_data.sub_meter_2.plot(figsize=(20, 15))'''"
   ]
  },
  {
   "cell_type": "code",
   "execution_count": 15,
   "metadata": {
    "collapsed": false
   },
   "outputs": [
    {
     "data": {
      "text/plain": [
       "'_ = training_data.sub_meter_3.plot(figsize=(20, 15))'"
      ]
     },
     "execution_count": 15,
     "metadata": {},
     "output_type": "execute_result"
    }
   ],
   "source": [
    "'''_ = training_data.sub_meter_3.plot(figsize=(20, 15))'''"
   ]
  },
  {
   "cell_type": "code",
   "execution_count": 16,
   "metadata": {
    "collapsed": false
   },
   "outputs": [
    {
     "data": {
      "text/plain": [
       "\"_ = training_data.sub_meter_1.plot(figsize=(20, 15), label='sub_meter_1')\\n_ = training_data.sub_meter_2.plot(figsize=(20, 15), label='sub_meter_2')\\n_ = training_data.sub_meter_3.plot(figsize=(20, 15), label='sub_meter_3')\\n_ = plt.legend(loc='upper right')\""
      ]
     },
     "execution_count": 16,
     "metadata": {},
     "output_type": "execute_result"
    }
   ],
   "source": [
    "'''_ = training_data.sub_meter_1.plot(figsize=(20, 15), label='sub_meter_1')\n",
    "_ = training_data.sub_meter_2.plot(figsize=(20, 15), label='sub_meter_2')\n",
    "_ = training_data.sub_meter_3.plot(figsize=(20, 15), label='sub_meter_3')\n",
    "_ = plt.legend(loc='upper right')'''"
   ]
  },
  {
   "cell_type": "code",
   "execution_count": 17,
   "metadata": {
    "collapsed": false
   },
   "outputs": [
    {
     "data": {
      "text/plain": [
       "'training_data.corr()'"
      ]
     },
     "execution_count": 17,
     "metadata": {},
     "output_type": "execute_result"
    }
   ],
   "source": [
    "'''training_data.corr()'''"
   ]
  },
  {
   "cell_type": "code",
   "execution_count": 18,
   "metadata": {
    "collapsed": false
   },
   "outputs": [
    {
     "data": {
      "text/plain": [
       "\"_ = scatter_matrix(training_data, figsize=(20, 20), diagonal='kde')\""
      ]
     },
     "execution_count": 18,
     "metadata": {},
     "output_type": "execute_result"
    }
   ],
   "source": [
    "'''_ = scatter_matrix(training_data, figsize=(20, 20), diagonal='kde')'''"
   ]
  },
  {
   "cell_type": "code",
   "execution_count": 19,
   "metadata": {
    "collapsed": true
   },
   "outputs": [],
   "source": [
    "training_data_processed = training_data.copy()"
   ]
  },
  {
   "cell_type": "code",
   "execution_count": 20,
   "metadata": {
    "collapsed": false
   },
   "outputs": [
    {
     "data": {
      "text/html": [
       "<div>\n",
       "<table border=\"1\" class=\"dataframe\">\n",
       "  <thead>\n",
       "    <tr style=\"text-align: right;\">\n",
       "      <th></th>\n",
       "      <th>global_active_power</th>\n",
       "      <th>global_reactive_power</th>\n",
       "      <th>voltage</th>\n",
       "      <th>intensity</th>\n",
       "      <th>sub_meter_1</th>\n",
       "      <th>sub_meter_2</th>\n",
       "      <th>sub_meter_3</th>\n",
       "      <th>global_active_power_w_hr</th>\n",
       "      <th>global_reactive_power_w_hr</th>\n",
       "    </tr>\n",
       "    <tr>\n",
       "      <th>ts</th>\n",
       "      <th></th>\n",
       "      <th></th>\n",
       "      <th></th>\n",
       "      <th></th>\n",
       "      <th></th>\n",
       "      <th></th>\n",
       "      <th></th>\n",
       "      <th></th>\n",
       "      <th></th>\n",
       "    </tr>\n",
       "  </thead>\n",
       "  <tbody>\n",
       "    <tr>\n",
       "      <th>2006-12-16 17:24:00</th>\n",
       "      <td>4.216</td>\n",
       "      <td>0.418</td>\n",
       "      <td>234.84</td>\n",
       "      <td>18.4</td>\n",
       "      <td>0</td>\n",
       "      <td>1</td>\n",
       "      <td>17</td>\n",
       "      <td>70.266667</td>\n",
       "      <td>6.966667</td>\n",
       "    </tr>\n",
       "    <tr>\n",
       "      <th>2006-12-16 17:25:00</th>\n",
       "      <td>5.360</td>\n",
       "      <td>0.436</td>\n",
       "      <td>233.63</td>\n",
       "      <td>23.0</td>\n",
       "      <td>0</td>\n",
       "      <td>1</td>\n",
       "      <td>16</td>\n",
       "      <td>89.333333</td>\n",
       "      <td>7.266667</td>\n",
       "    </tr>\n",
       "    <tr>\n",
       "      <th>2006-12-16 17:26:00</th>\n",
       "      <td>5.374</td>\n",
       "      <td>0.498</td>\n",
       "      <td>233.29</td>\n",
       "      <td>23.0</td>\n",
       "      <td>0</td>\n",
       "      <td>2</td>\n",
       "      <td>17</td>\n",
       "      <td>89.566667</td>\n",
       "      <td>8.300000</td>\n",
       "    </tr>\n",
       "    <tr>\n",
       "      <th>2006-12-16 17:27:00</th>\n",
       "      <td>5.388</td>\n",
       "      <td>0.502</td>\n",
       "      <td>233.74</td>\n",
       "      <td>23.0</td>\n",
       "      <td>0</td>\n",
       "      <td>1</td>\n",
       "      <td>17</td>\n",
       "      <td>89.800000</td>\n",
       "      <td>8.366667</td>\n",
       "    </tr>\n",
       "    <tr>\n",
       "      <th>2006-12-16 17:28:00</th>\n",
       "      <td>3.666</td>\n",
       "      <td>0.528</td>\n",
       "      <td>235.68</td>\n",
       "      <td>15.8</td>\n",
       "      <td>0</td>\n",
       "      <td>1</td>\n",
       "      <td>17</td>\n",
       "      <td>61.100000</td>\n",
       "      <td>8.800000</td>\n",
       "    </tr>\n",
       "    <tr>\n",
       "      <th>2006-12-16 17:29:00</th>\n",
       "      <td>3.520</td>\n",
       "      <td>0.522</td>\n",
       "      <td>235.02</td>\n",
       "      <td>15.0</td>\n",
       "      <td>0</td>\n",
       "      <td>2</td>\n",
       "      <td>17</td>\n",
       "      <td>58.666667</td>\n",
       "      <td>8.700000</td>\n",
       "    </tr>\n",
       "    <tr>\n",
       "      <th>2006-12-16 17:30:00</th>\n",
       "      <td>3.702</td>\n",
       "      <td>0.520</td>\n",
       "      <td>235.09</td>\n",
       "      <td>15.8</td>\n",
       "      <td>0</td>\n",
       "      <td>1</td>\n",
       "      <td>17</td>\n",
       "      <td>61.700000</td>\n",
       "      <td>8.666667</td>\n",
       "    </tr>\n",
       "    <tr>\n",
       "      <th>2006-12-16 17:31:00</th>\n",
       "      <td>3.700</td>\n",
       "      <td>0.520</td>\n",
       "      <td>235.22</td>\n",
       "      <td>15.8</td>\n",
       "      <td>0</td>\n",
       "      <td>1</td>\n",
       "      <td>17</td>\n",
       "      <td>61.666667</td>\n",
       "      <td>8.666667</td>\n",
       "    </tr>\n",
       "    <tr>\n",
       "      <th>2006-12-16 17:32:00</th>\n",
       "      <td>3.668</td>\n",
       "      <td>0.510</td>\n",
       "      <td>233.99</td>\n",
       "      <td>15.8</td>\n",
       "      <td>0</td>\n",
       "      <td>1</td>\n",
       "      <td>17</td>\n",
       "      <td>61.133333</td>\n",
       "      <td>8.500000</td>\n",
       "    </tr>\n",
       "    <tr>\n",
       "      <th>2006-12-16 17:33:00</th>\n",
       "      <td>3.662</td>\n",
       "      <td>0.510</td>\n",
       "      <td>233.86</td>\n",
       "      <td>15.8</td>\n",
       "      <td>0</td>\n",
       "      <td>2</td>\n",
       "      <td>16</td>\n",
       "      <td>61.033333</td>\n",
       "      <td>8.500000</td>\n",
       "    </tr>\n",
       "  </tbody>\n",
       "</table>\n",
       "</div>"
      ],
      "text/plain": [
       "                     global_active_power  global_reactive_power  voltage  \\\n",
       "ts                                                                         \n",
       "2006-12-16 17:24:00                4.216                  0.418   234.84   \n",
       "2006-12-16 17:25:00                5.360                  0.436   233.63   \n",
       "2006-12-16 17:26:00                5.374                  0.498   233.29   \n",
       "2006-12-16 17:27:00                5.388                  0.502   233.74   \n",
       "2006-12-16 17:28:00                3.666                  0.528   235.68   \n",
       "2006-12-16 17:29:00                3.520                  0.522   235.02   \n",
       "2006-12-16 17:30:00                3.702                  0.520   235.09   \n",
       "2006-12-16 17:31:00                3.700                  0.520   235.22   \n",
       "2006-12-16 17:32:00                3.668                  0.510   233.99   \n",
       "2006-12-16 17:33:00                3.662                  0.510   233.86   \n",
       "\n",
       "                     intensity  sub_meter_1  sub_meter_2  sub_meter_3  \\\n",
       "ts                                                                      \n",
       "2006-12-16 17:24:00       18.4            0            1           17   \n",
       "2006-12-16 17:25:00       23.0            0            1           16   \n",
       "2006-12-16 17:26:00       23.0            0            2           17   \n",
       "2006-12-16 17:27:00       23.0            0            1           17   \n",
       "2006-12-16 17:28:00       15.8            0            1           17   \n",
       "2006-12-16 17:29:00       15.0            0            2           17   \n",
       "2006-12-16 17:30:00       15.8            0            1           17   \n",
       "2006-12-16 17:31:00       15.8            0            1           17   \n",
       "2006-12-16 17:32:00       15.8            0            1           17   \n",
       "2006-12-16 17:33:00       15.8            0            2           16   \n",
       "\n",
       "                     global_active_power_w_hr  global_reactive_power_w_hr  \n",
       "ts                                                                         \n",
       "2006-12-16 17:24:00                 70.266667                    6.966667  \n",
       "2006-12-16 17:25:00                 89.333333                    7.266667  \n",
       "2006-12-16 17:26:00                 89.566667                    8.300000  \n",
       "2006-12-16 17:27:00                 89.800000                    8.366667  \n",
       "2006-12-16 17:28:00                 61.100000                    8.800000  \n",
       "2006-12-16 17:29:00                 58.666667                    8.700000  \n",
       "2006-12-16 17:30:00                 61.700000                    8.666667  \n",
       "2006-12-16 17:31:00                 61.666667                    8.666667  \n",
       "2006-12-16 17:32:00                 61.133333                    8.500000  \n",
       "2006-12-16 17:33:00                 61.033333                    8.500000  "
      ]
     },
     "execution_count": 20,
     "metadata": {},
     "output_type": "execute_result"
    }
   ],
   "source": [
    "training_data_processed['global_active_power_w_hr'] = (training_data_processed.global_active_power * 1000) / 60\n",
    "training_data_processed['global_reactive_power_w_hr'] = (training_data_processed.global_reactive_power * 1000) / 60\n",
    "training_data_processed[:10]"
   ]
  },
  {
   "cell_type": "code",
   "execution_count": 21,
   "metadata": {
    "collapsed": false
   },
   "outputs": [
    {
     "data": {
      "text/html": [
       "<div>\n",
       "<table border=\"1\" class=\"dataframe\">\n",
       "  <thead>\n",
       "    <tr style=\"text-align: right;\">\n",
       "      <th></th>\n",
       "      <th>global_active_power</th>\n",
       "      <th>global_reactive_power</th>\n",
       "      <th>voltage</th>\n",
       "      <th>intensity</th>\n",
       "      <th>sub_meter_1</th>\n",
       "      <th>sub_meter_2</th>\n",
       "      <th>sub_meter_3</th>\n",
       "      <th>global_active_power_w_hr</th>\n",
       "      <th>global_reactive_power_w_hr</th>\n",
       "      <th>rest_of_home_pseudo_sub_meter</th>\n",
       "    </tr>\n",
       "    <tr>\n",
       "      <th>ts</th>\n",
       "      <th></th>\n",
       "      <th></th>\n",
       "      <th></th>\n",
       "      <th></th>\n",
       "      <th></th>\n",
       "      <th></th>\n",
       "      <th></th>\n",
       "      <th></th>\n",
       "      <th></th>\n",
       "      <th></th>\n",
       "    </tr>\n",
       "  </thead>\n",
       "  <tbody>\n",
       "    <tr>\n",
       "      <th>2006-12-16 17:24:00</th>\n",
       "      <td>4.216</td>\n",
       "      <td>0.418</td>\n",
       "      <td>234.84</td>\n",
       "      <td>18.4</td>\n",
       "      <td>0</td>\n",
       "      <td>1</td>\n",
       "      <td>17</td>\n",
       "      <td>70.266667</td>\n",
       "      <td>6.966667</td>\n",
       "      <td>52.266667</td>\n",
       "    </tr>\n",
       "    <tr>\n",
       "      <th>2006-12-16 17:25:00</th>\n",
       "      <td>5.360</td>\n",
       "      <td>0.436</td>\n",
       "      <td>233.63</td>\n",
       "      <td>23.0</td>\n",
       "      <td>0</td>\n",
       "      <td>1</td>\n",
       "      <td>16</td>\n",
       "      <td>89.333333</td>\n",
       "      <td>7.266667</td>\n",
       "      <td>72.333333</td>\n",
       "    </tr>\n",
       "    <tr>\n",
       "      <th>2006-12-16 17:26:00</th>\n",
       "      <td>5.374</td>\n",
       "      <td>0.498</td>\n",
       "      <td>233.29</td>\n",
       "      <td>23.0</td>\n",
       "      <td>0</td>\n",
       "      <td>2</td>\n",
       "      <td>17</td>\n",
       "      <td>89.566667</td>\n",
       "      <td>8.300000</td>\n",
       "      <td>70.566667</td>\n",
       "    </tr>\n",
       "    <tr>\n",
       "      <th>2006-12-16 17:27:00</th>\n",
       "      <td>5.388</td>\n",
       "      <td>0.502</td>\n",
       "      <td>233.74</td>\n",
       "      <td>23.0</td>\n",
       "      <td>0</td>\n",
       "      <td>1</td>\n",
       "      <td>17</td>\n",
       "      <td>89.800000</td>\n",
       "      <td>8.366667</td>\n",
       "      <td>71.800000</td>\n",
       "    </tr>\n",
       "    <tr>\n",
       "      <th>2006-12-16 17:28:00</th>\n",
       "      <td>3.666</td>\n",
       "      <td>0.528</td>\n",
       "      <td>235.68</td>\n",
       "      <td>15.8</td>\n",
       "      <td>0</td>\n",
       "      <td>1</td>\n",
       "      <td>17</td>\n",
       "      <td>61.100000</td>\n",
       "      <td>8.800000</td>\n",
       "      <td>43.100000</td>\n",
       "    </tr>\n",
       "    <tr>\n",
       "      <th>2006-12-16 17:29:00</th>\n",
       "      <td>3.520</td>\n",
       "      <td>0.522</td>\n",
       "      <td>235.02</td>\n",
       "      <td>15.0</td>\n",
       "      <td>0</td>\n",
       "      <td>2</td>\n",
       "      <td>17</td>\n",
       "      <td>58.666667</td>\n",
       "      <td>8.700000</td>\n",
       "      <td>39.666667</td>\n",
       "    </tr>\n",
       "    <tr>\n",
       "      <th>2006-12-16 17:30:00</th>\n",
       "      <td>3.702</td>\n",
       "      <td>0.520</td>\n",
       "      <td>235.09</td>\n",
       "      <td>15.8</td>\n",
       "      <td>0</td>\n",
       "      <td>1</td>\n",
       "      <td>17</td>\n",
       "      <td>61.700000</td>\n",
       "      <td>8.666667</td>\n",
       "      <td>43.700000</td>\n",
       "    </tr>\n",
       "    <tr>\n",
       "      <th>2006-12-16 17:31:00</th>\n",
       "      <td>3.700</td>\n",
       "      <td>0.520</td>\n",
       "      <td>235.22</td>\n",
       "      <td>15.8</td>\n",
       "      <td>0</td>\n",
       "      <td>1</td>\n",
       "      <td>17</td>\n",
       "      <td>61.666667</td>\n",
       "      <td>8.666667</td>\n",
       "      <td>43.666667</td>\n",
       "    </tr>\n",
       "    <tr>\n",
       "      <th>2006-12-16 17:32:00</th>\n",
       "      <td>3.668</td>\n",
       "      <td>0.510</td>\n",
       "      <td>233.99</td>\n",
       "      <td>15.8</td>\n",
       "      <td>0</td>\n",
       "      <td>1</td>\n",
       "      <td>17</td>\n",
       "      <td>61.133333</td>\n",
       "      <td>8.500000</td>\n",
       "      <td>43.133333</td>\n",
       "    </tr>\n",
       "    <tr>\n",
       "      <th>2006-12-16 17:33:00</th>\n",
       "      <td>3.662</td>\n",
       "      <td>0.510</td>\n",
       "      <td>233.86</td>\n",
       "      <td>15.8</td>\n",
       "      <td>0</td>\n",
       "      <td>2</td>\n",
       "      <td>16</td>\n",
       "      <td>61.033333</td>\n",
       "      <td>8.500000</td>\n",
       "      <td>43.033333</td>\n",
       "    </tr>\n",
       "  </tbody>\n",
       "</table>\n",
       "</div>"
      ],
      "text/plain": [
       "                     global_active_power  global_reactive_power  voltage  \\\n",
       "ts                                                                         \n",
       "2006-12-16 17:24:00                4.216                  0.418   234.84   \n",
       "2006-12-16 17:25:00                5.360                  0.436   233.63   \n",
       "2006-12-16 17:26:00                5.374                  0.498   233.29   \n",
       "2006-12-16 17:27:00                5.388                  0.502   233.74   \n",
       "2006-12-16 17:28:00                3.666                  0.528   235.68   \n",
       "2006-12-16 17:29:00                3.520                  0.522   235.02   \n",
       "2006-12-16 17:30:00                3.702                  0.520   235.09   \n",
       "2006-12-16 17:31:00                3.700                  0.520   235.22   \n",
       "2006-12-16 17:32:00                3.668                  0.510   233.99   \n",
       "2006-12-16 17:33:00                3.662                  0.510   233.86   \n",
       "\n",
       "                     intensity  sub_meter_1  sub_meter_2  sub_meter_3  \\\n",
       "ts                                                                      \n",
       "2006-12-16 17:24:00       18.4            0            1           17   \n",
       "2006-12-16 17:25:00       23.0            0            1           16   \n",
       "2006-12-16 17:26:00       23.0            0            2           17   \n",
       "2006-12-16 17:27:00       23.0            0            1           17   \n",
       "2006-12-16 17:28:00       15.8            0            1           17   \n",
       "2006-12-16 17:29:00       15.0            0            2           17   \n",
       "2006-12-16 17:30:00       15.8            0            1           17   \n",
       "2006-12-16 17:31:00       15.8            0            1           17   \n",
       "2006-12-16 17:32:00       15.8            0            1           17   \n",
       "2006-12-16 17:33:00       15.8            0            2           16   \n",
       "\n",
       "                     global_active_power_w_hr  global_reactive_power_w_hr  \\\n",
       "ts                                                                          \n",
       "2006-12-16 17:24:00                 70.266667                    6.966667   \n",
       "2006-12-16 17:25:00                 89.333333                    7.266667   \n",
       "2006-12-16 17:26:00                 89.566667                    8.300000   \n",
       "2006-12-16 17:27:00                 89.800000                    8.366667   \n",
       "2006-12-16 17:28:00                 61.100000                    8.800000   \n",
       "2006-12-16 17:29:00                 58.666667                    8.700000   \n",
       "2006-12-16 17:30:00                 61.700000                    8.666667   \n",
       "2006-12-16 17:31:00                 61.666667                    8.666667   \n",
       "2006-12-16 17:32:00                 61.133333                    8.500000   \n",
       "2006-12-16 17:33:00                 61.033333                    8.500000   \n",
       "\n",
       "                     rest_of_home_pseudo_sub_meter  \n",
       "ts                                                  \n",
       "2006-12-16 17:24:00                      52.266667  \n",
       "2006-12-16 17:25:00                      72.333333  \n",
       "2006-12-16 17:26:00                      70.566667  \n",
       "2006-12-16 17:27:00                      71.800000  \n",
       "2006-12-16 17:28:00                      43.100000  \n",
       "2006-12-16 17:29:00                      39.666667  \n",
       "2006-12-16 17:30:00                      43.700000  \n",
       "2006-12-16 17:31:00                      43.666667  \n",
       "2006-12-16 17:32:00                      43.133333  \n",
       "2006-12-16 17:33:00                      43.033333  "
      ]
     },
     "execution_count": 21,
     "metadata": {},
     "output_type": "execute_result"
    }
   ],
   "source": [
    "training_data_processed['rest_of_home_pseudo_sub_meter'] = \\\n",
    "  training_data_processed.global_active_power_w_hr \\\n",
    "  - training_data_processed.sub_meter_1 \\\n",
    "  - training_data_processed.sub_meter_2 \\\n",
    "  - training_data_processed.sub_meter_3\n",
    "training_data_processed[:10]"
   ]
  },
  {
   "cell_type": "code",
   "execution_count": 22,
   "metadata": {
    "collapsed": false
   },
   "outputs": [
    {
     "data": {
      "text/html": [
       "<div>\n",
       "<table border=\"1\" class=\"dataframe\">\n",
       "  <thead>\n",
       "    <tr style=\"text-align: right;\">\n",
       "      <th></th>\n",
       "      <th>global_active_power</th>\n",
       "      <th>global_reactive_power</th>\n",
       "      <th>voltage</th>\n",
       "      <th>intensity</th>\n",
       "      <th>sub_meter_1</th>\n",
       "      <th>sub_meter_2</th>\n",
       "      <th>sub_meter_3</th>\n",
       "      <th>rest_of_home_pseudo_sub_meter</th>\n",
       "    </tr>\n",
       "  </thead>\n",
       "  <tbody>\n",
       "    <tr>\n",
       "      <th>count</th>\n",
       "      <td>100008.000000</td>\n",
       "      <td>100008.000000</td>\n",
       "      <td>100008.000000</td>\n",
       "      <td>100008.000000</td>\n",
       "      <td>100008.000000</td>\n",
       "      <td>100008.000000</td>\n",
       "      <td>100008.000000</td>\n",
       "      <td>100008.000000</td>\n",
       "    </tr>\n",
       "    <tr>\n",
       "      <th>mean</th>\n",
       "      <td>0.157592</td>\n",
       "      <td>0.146963</td>\n",
       "      <td>0.614304</td>\n",
       "      <td>0.150248</td>\n",
       "      <td>0.017083</td>\n",
       "      <td>0.024485</td>\n",
       "      <td>0.375920</td>\n",
       "      <td>0.126514</td>\n",
       "    </tr>\n",
       "    <tr>\n",
       "      <th>std</th>\n",
       "      <td>0.145824</td>\n",
       "      <td>0.134082</td>\n",
       "      <td>0.122762</td>\n",
       "      <td>0.138257</td>\n",
       "      <td>0.086871</td>\n",
       "      <td>0.097571</td>\n",
       "      <td>0.433401</td>\n",
       "      <td>0.122835</td>\n",
       "    </tr>\n",
       "    <tr>\n",
       "      <th>min</th>\n",
       "      <td>0.000000</td>\n",
       "      <td>0.000000</td>\n",
       "      <td>0.000000</td>\n",
       "      <td>0.000000</td>\n",
       "      <td>0.000000</td>\n",
       "      <td>0.000000</td>\n",
       "      <td>0.000000</td>\n",
       "      <td>0.000000</td>\n",
       "    </tr>\n",
       "    <tr>\n",
       "      <th>25%</th>\n",
       "      <td>0.021918</td>\n",
       "      <td>0.000000</td>\n",
       "      <td>0.533144</td>\n",
       "      <td>0.024390</td>\n",
       "      <td>0.000000</td>\n",
       "      <td>0.000000</td>\n",
       "      <td>0.000000</td>\n",
       "      <td>0.033387</td>\n",
       "    </tr>\n",
       "    <tr>\n",
       "      <th>50%</th>\n",
       "      <td>0.132595</td>\n",
       "      <td>0.132723</td>\n",
       "      <td>0.622474</td>\n",
       "      <td>0.121951</td>\n",
       "      <td>0.000000</td>\n",
       "      <td>0.000000</td>\n",
       "      <td>0.000000</td>\n",
       "      <td>0.065428</td>\n",
       "    </tr>\n",
       "    <tr>\n",
       "      <th>75%</th>\n",
       "      <td>0.241319</td>\n",
       "      <td>0.226545</td>\n",
       "      <td>0.701524</td>\n",
       "      <td>0.224390</td>\n",
       "      <td>0.000000</td>\n",
       "      <td>0.012821</td>\n",
       "      <td>0.850000</td>\n",
       "      <td>0.202208</td>\n",
       "    </tr>\n",
       "    <tr>\n",
       "      <th>max</th>\n",
       "      <td>1.000000</td>\n",
       "      <td>1.000000</td>\n",
       "      <td>1.000000</td>\n",
       "      <td>1.000000</td>\n",
       "      <td>1.000000</td>\n",
       "      <td>1.000000</td>\n",
       "      <td>1.000000</td>\n",
       "      <td>1.000000</td>\n",
       "    </tr>\n",
       "  </tbody>\n",
       "</table>\n",
       "</div>"
      ],
      "text/plain": [
       "       global_active_power  global_reactive_power        voltage  \\\n",
       "count        100008.000000          100008.000000  100008.000000   \n",
       "mean              0.157592               0.146963       0.614304   \n",
       "std               0.145824               0.134082       0.122762   \n",
       "min               0.000000               0.000000       0.000000   \n",
       "25%               0.021918               0.000000       0.533144   \n",
       "50%               0.132595               0.132723       0.622474   \n",
       "75%               0.241319               0.226545       0.701524   \n",
       "max               1.000000               1.000000       1.000000   \n",
       "\n",
       "           intensity    sub_meter_1    sub_meter_2    sub_meter_3  \\\n",
       "count  100008.000000  100008.000000  100008.000000  100008.000000   \n",
       "mean        0.150248       0.017083       0.024485       0.375920   \n",
       "std         0.138257       0.086871       0.097571       0.433401   \n",
       "min         0.000000       0.000000       0.000000       0.000000   \n",
       "25%         0.024390       0.000000       0.000000       0.000000   \n",
       "50%         0.121951       0.000000       0.000000       0.000000   \n",
       "75%         0.224390       0.000000       0.012821       0.850000   \n",
       "max         1.000000       1.000000       1.000000       1.000000   \n",
       "\n",
       "       rest_of_home_pseudo_sub_meter  \n",
       "count                  100008.000000  \n",
       "mean                        0.126514  \n",
       "std                         0.122835  \n",
       "min                         0.000000  \n",
       "25%                         0.033387  \n",
       "50%                         0.065428  \n",
       "75%                         0.202208  \n",
       "max                         1.000000  "
      ]
     },
     "execution_count": 22,
     "metadata": {},
     "output_type": "execute_result"
    }
   ],
   "source": [
    "training_data_scaled = training_data_processed.copy()\n",
    "\n",
    "from sklearn.preprocessing import MinMaxScaler\n",
    "\n",
    "training_data_scaled = training_data_scaled.apply(lambda x: MinMaxScaler().fit_transform(x))\n",
    "  \n",
    "training_data_scaled = training_data_scaled.drop('global_active_power_w_hr', 1)\n",
    "training_data_scaled = training_data_scaled.drop('global_reactive_power_w_hr', 1)\n",
    "  \n",
    "training_data_scaled.describe()"
   ]
  },
  {
   "cell_type": "code",
   "execution_count": 23,
   "metadata": {
    "collapsed": false
   },
   "outputs": [
    {
     "data": {
      "text/plain": [
       "\"plot = training_data_scaled.plot(figsize=(20, 15))\\nplot.set_ylim([0.0,1.2])\\n_ = plot.legend(loc='upper right')\""
      ]
     },
     "execution_count": 23,
     "metadata": {},
     "output_type": "execute_result"
    }
   ],
   "source": [
    "'''plot = training_data_scaled.plot(figsize=(20, 15))\n",
    "plot.set_ylim([0.0,1.2])\n",
    "_ = plot.legend(loc='upper right')'''"
   ]
  },
  {
   "cell_type": "code",
   "execution_count": 24,
   "metadata": {
    "collapsed": false
   },
   "outputs": [
    {
     "data": {
      "text/plain": [
       "\"fig = plt.figure()\\nfig.set_figwidth(20)\\nfig.set_figheight(15)\\n\\n_ = autocorrelation_plot(training_data_scaled.global_active_power, label='global_active_power')\\n_ = autocorrelation_plot(training_data_scaled.global_reactive_power, label='global_reactive_power')\\n_ = autocorrelation_plot(training_data_scaled.voltage, label='voltage')\\n_ = autocorrelation_plot(training_data_scaled.intensity, label='intensity')\\n_ = autocorrelation_plot(training_data_scaled.sub_meter_1, label='sub_meter_1')\\n_ = autocorrelation_plot(training_data_scaled.sub_meter_2, label='sub_meter_2')\\n_ = autocorrelation_plot(training_data_scaled.sub_meter_3, label='sub_meter_3')\\n_ = autocorrelation_plot(training_data_scaled.rest_of_home_pseudo_sub_meter, label='rest_of_home_pseudo_sub_meter')\\n\\n_ = plt.legend(loc='upper right')\""
      ]
     },
     "execution_count": 24,
     "metadata": {},
     "output_type": "execute_result"
    }
   ],
   "source": [
    "'''fig = plt.figure()\n",
    "fig.set_figwidth(20)\n",
    "fig.set_figheight(15)\n",
    "\n",
    "_ = autocorrelation_plot(training_data_scaled.global_active_power, label='global_active_power')\n",
    "_ = autocorrelation_plot(training_data_scaled.global_reactive_power, label='global_reactive_power')\n",
    "_ = autocorrelation_plot(training_data_scaled.voltage, label='voltage')\n",
    "_ = autocorrelation_plot(training_data_scaled.intensity, label='intensity')\n",
    "_ = autocorrelation_plot(training_data_scaled.sub_meter_1, label='sub_meter_1')\n",
    "_ = autocorrelation_plot(training_data_scaled.sub_meter_2, label='sub_meter_2')\n",
    "_ = autocorrelation_plot(training_data_scaled.sub_meter_3, label='sub_meter_3')\n",
    "_ = autocorrelation_plot(training_data_scaled.rest_of_home_pseudo_sub_meter, label='rest_of_home_pseudo_sub_meter')\n",
    "\n",
    "_ = plt.legend(loc='upper right')'''"
   ]
  },
  {
   "cell_type": "code",
   "execution_count": 25,
   "metadata": {
    "collapsed": false
   },
   "outputs": [
    {
     "data": {
      "text/html": [
       "<div>\n",
       "<table border=\"1\" class=\"dataframe\">\n",
       "  <thead>\n",
       "    <tr style=\"text-align: right;\">\n",
       "      <th></th>\n",
       "      <th>global_active_power</th>\n",
       "      <th>global_reactive_power</th>\n",
       "      <th>voltage</th>\n",
       "      <th>intensity</th>\n",
       "      <th>sub_meter_1</th>\n",
       "      <th>sub_meter_2</th>\n",
       "      <th>sub_meter_3</th>\n",
       "      <th>rest_of_home_pseudo_sub_meter</th>\n",
       "    </tr>\n",
       "    <tr>\n",
       "      <th>ts</th>\n",
       "      <th></th>\n",
       "      <th></th>\n",
       "      <th></th>\n",
       "      <th></th>\n",
       "      <th></th>\n",
       "      <th></th>\n",
       "      <th></th>\n",
       "      <th></th>\n",
       "    </tr>\n",
       "  </thead>\n",
       "  <tbody>\n",
       "    <tr>\n",
       "      <th>2006-12-16 17:24:00</th>\n",
       "      <td>0.436415</td>\n",
       "      <td>0.478261</td>\n",
       "      <td>0.402340</td>\n",
       "      <td>0.429268</td>\n",
       "      <td>0</td>\n",
       "      <td>0.012821</td>\n",
       "      <td>0.85</td>\n",
       "      <td>0.413840</td>\n",
       "    </tr>\n",
       "    <tr>\n",
       "      <th>2006-12-16 17:25:00</th>\n",
       "      <td>0.560547</td>\n",
       "      <td>0.498856</td>\n",
       "      <td>0.359447</td>\n",
       "      <td>0.541463</td>\n",
       "      <td>0</td>\n",
       "      <td>0.012821</td>\n",
       "      <td>0.80</td>\n",
       "      <td>0.575929</td>\n",
       "    </tr>\n",
       "  </tbody>\n",
       "</table>\n",
       "</div>"
      ],
      "text/plain": [
       "                     global_active_power  global_reactive_power   voltage  \\\n",
       "ts                                                                          \n",
       "2006-12-16 17:24:00             0.436415               0.478261  0.402340   \n",
       "2006-12-16 17:25:00             0.560547               0.498856  0.359447   \n",
       "\n",
       "                     intensity  sub_meter_1  sub_meter_2  sub_meter_3  \\\n",
       "ts                                                                      \n",
       "2006-12-16 17:24:00   0.429268            0     0.012821         0.85   \n",
       "2006-12-16 17:25:00   0.541463            0     0.012821         0.80   \n",
       "\n",
       "                     rest_of_home_pseudo_sub_meter  \n",
       "ts                                                  \n",
       "2006-12-16 17:24:00                       0.413840  \n",
       "2006-12-16 17:25:00                       0.575929  "
      ]
     },
     "execution_count": 25,
     "metadata": {},
     "output_type": "execute_result"
    }
   ],
   "source": [
    "training_data_scaled[:2]"
   ]
  },
  {
   "cell_type": "code",
   "execution_count": 26,
   "metadata": {
    "collapsed": false
   },
   "outputs": [
    {
     "data": {
      "text/html": [
       "<div>\n",
       "<table border=\"1\" class=\"dataframe\">\n",
       "  <thead>\n",
       "    <tr style=\"text-align: right;\">\n",
       "      <th></th>\n",
       "      <th>global_active_power</th>\n",
       "      <th>global_reactive_power</th>\n",
       "      <th>voltage</th>\n",
       "      <th>intensity</th>\n",
       "      <th>sub_meter_1</th>\n",
       "      <th>sub_meter_2</th>\n",
       "      <th>sub_meter_3</th>\n",
       "      <th>rest_of_home_pseudo_sub_meter</th>\n",
       "    </tr>\n",
       "    <tr>\n",
       "      <th>ts</th>\n",
       "      <th></th>\n",
       "      <th></th>\n",
       "      <th></th>\n",
       "      <th></th>\n",
       "      <th></th>\n",
       "      <th></th>\n",
       "      <th></th>\n",
       "      <th></th>\n",
       "    </tr>\n",
       "  </thead>\n",
       "  <tbody>\n",
       "    <tr>\n",
       "      <th>2007-02-24 04:10:00</th>\n",
       "      <td>0.022569</td>\n",
       "      <td>0.286041</td>\n",
       "      <td>0.631691</td>\n",
       "      <td>0.029268</td>\n",
       "      <td>0</td>\n",
       "      <td>0.025641</td>\n",
       "      <td>0</td>\n",
       "      <td>0.029618</td>\n",
       "    </tr>\n",
       "    <tr>\n",
       "      <th>2007-02-24 04:11:00</th>\n",
       "      <td>0.022352</td>\n",
       "      <td>0.283753</td>\n",
       "      <td>0.620702</td>\n",
       "      <td>0.024390</td>\n",
       "      <td>0</td>\n",
       "      <td>0.012821</td>\n",
       "      <td>0</td>\n",
       "      <td>0.037426</td>\n",
       "    </tr>\n",
       "  </tbody>\n",
       "</table>\n",
       "</div>"
      ],
      "text/plain": [
       "                     global_active_power  global_reactive_power   voltage  \\\n",
       "ts                                                                          \n",
       "2007-02-24 04:10:00             0.022569               0.286041  0.631691   \n",
       "2007-02-24 04:11:00             0.022352               0.283753  0.620702   \n",
       "\n",
       "                     intensity  sub_meter_1  sub_meter_2  sub_meter_3  \\\n",
       "ts                                                                      \n",
       "2007-02-24 04:10:00   0.029268            0     0.025641            0   \n",
       "2007-02-24 04:11:00   0.024390            0     0.012821            0   \n",
       "\n",
       "                     rest_of_home_pseudo_sub_meter  \n",
       "ts                                                  \n",
       "2007-02-24 04:10:00                       0.029618  \n",
       "2007-02-24 04:11:00                       0.037426  "
      ]
     },
     "execution_count": 26,
     "metadata": {},
     "output_type": "execute_result"
    }
   ],
   "source": [
    "training_data_scaled[-2:]"
   ]
  },
  {
   "cell_type": "code",
   "execution_count": 27,
   "metadata": {
    "collapsed": false
   },
   "outputs": [
    {
     "data": {
      "text/plain": [
       "'import matplotlib\\nplot.xaxis.set_major_locator(matplotlib.dates.AutoDateLocator())'"
      ]
     },
     "execution_count": 27,
     "metadata": {},
     "output_type": "execute_result"
    },
    {
     "data": {
      "image/png": "[encoded data removed]",
      "text/plain": [
       "<matplotlib.figure.Figure at 0x7f82369b3a90>"
      ]
     },
     "metadata": {},
     "output_type": "display_data"
    }
   ],
   "source": [
    "# Let's try some aggregations...\n",
    "\n",
    "'''training_data_aggregated_5_min = training_data_processed.copy()\n",
    "training_data_aggregated_5_min = training_data_aggregated.resample('5T', how='sum')\n",
    "\n",
    "training_data_aggregated_15_min = training_data_processed.copy()\n",
    "training_data_aggregated_15_min = training_data_aggregated.resample('15T', how='sum')\n",
    "\n",
    "training_data_aggregated_1_hr = training_data_processed.copy()\n",
    "training_data_aggregated_1_hr = training_data_aggregated_1_hr.resample('H', how='sum')'''\n",
    "\n",
    "training_data_aggregated_1_day = training_data_processed.copy()\n",
    "training_data_aggregated_1_day = training_data_aggregated_1_day.resample('D', how='sum')\n",
    "\n",
    "plot = training_data_aggregated_1_day.global_active_power.plot(kind='bar')\n",
    "plot.figure.set_figwidth(20)\n",
    "_ = plot.figure.set_figheight(15)\n",
    "\n",
    "'''import matplotlib\n",
    "plot.xaxis.set_major_locator(matplotlib.dates.AutoDateLocator())'''"
   ]
  },
  {
   "cell_type": "code",
   "execution_count": 28,
   "metadata": {
    "collapsed": true
   },
   "outputs": [],
   "source": [
    "import tensorflow as tf"
   ]
  },
  {
   "cell_type": "code",
   "execution_count": 29,
   "metadata": {
    "collapsed": false
   },
   "outputs": [
    {
     "name": "stdout",
     "output_type": "stream",
     "text": [
      "10000\n",
      "20000\n",
      "30000\n",
      "40000\n",
      "50000\n",
      "60000\n",
      "70000\n",
      "80000\n",
      "90000\n",
      "100000\n"
     ]
    },
    {
     "data": {
      "text/html": [
       "<div>\n",
       "<table border=\"1\" class=\"dataframe\">\n",
       "  <thead>\n",
       "    <tr style=\"text-align: right;\">\n",
       "      <th></th>\n",
       "      <th>1</th>\n",
       "      <th>2</th>\n",
       "      <th>3</th>\n",
       "      <th>4</th>\n",
       "      <th>5</th>\n",
       "      <th>6</th>\n",
       "      <th>7</th>\n",
       "      <th>8</th>\n",
       "      <th>9</th>\n",
       "      <th>10</th>\n",
       "      <th>...</th>\n",
       "      <th>232</th>\n",
       "      <th>233</th>\n",
       "      <th>234</th>\n",
       "      <th>235</th>\n",
       "      <th>236</th>\n",
       "      <th>237</th>\n",
       "      <th>238</th>\n",
       "      <th>239</th>\n",
       "      <th>240</th>\n",
       "      <th>241</th>\n",
       "    </tr>\n",
       "    <tr>\n",
       "      <th>0</th>\n",
       "      <th></th>\n",
       "      <th></th>\n",
       "      <th></th>\n",
       "      <th></th>\n",
       "      <th></th>\n",
       "      <th></th>\n",
       "      <th></th>\n",
       "      <th></th>\n",
       "      <th></th>\n",
       "      <th></th>\n",
       "      <th></th>\n",
       "      <th></th>\n",
       "      <th></th>\n",
       "      <th></th>\n",
       "      <th></th>\n",
       "      <th></th>\n",
       "      <th></th>\n",
       "      <th></th>\n",
       "      <th></th>\n",
       "      <th></th>\n",
       "      <th></th>\n",
       "    </tr>\n",
       "  </thead>\n",
       "  <tbody>\n",
       "    <tr>\n",
       "      <th>2006-12-16 17:55:00</th>\n",
       "      <td>0.386719</td>\n",
       "      <td>0.274089</td>\n",
       "      <td>0.323785</td>\n",
       "      <td>0.332465</td>\n",
       "      <td>0.329210</td>\n",
       "      <td>0.330078</td>\n",
       "      <td>0.331380</td>\n",
       "      <td>0.464410</td>\n",
       "      <td>0.540365</td>\n",
       "      <td>0.741319</td>\n",
       "      <td>...</td>\n",
       "      <td>0.445073</td>\n",
       "      <td>0.339257</td>\n",
       "      <td>0.340065</td>\n",
       "      <td>0.344373</td>\n",
       "      <td>0.344642</td>\n",
       "      <td>0.312062</td>\n",
       "      <td>0.339795</td>\n",
       "      <td>0.571621</td>\n",
       "      <td>0.561659</td>\n",
       "      <td>0.575929</td>\n",
       "    </tr>\n",
       "    <tr>\n",
       "      <th>2006-12-16 17:56:00</th>\n",
       "      <td>0.450087</td>\n",
       "      <td>0.386719</td>\n",
       "      <td>0.274089</td>\n",
       "      <td>0.323785</td>\n",
       "      <td>0.332465</td>\n",
       "      <td>0.329210</td>\n",
       "      <td>0.330078</td>\n",
       "      <td>0.331380</td>\n",
       "      <td>0.464410</td>\n",
       "      <td>0.540365</td>\n",
       "      <td>...</td>\n",
       "      <td>0.574852</td>\n",
       "      <td>0.445073</td>\n",
       "      <td>0.339257</td>\n",
       "      <td>0.340065</td>\n",
       "      <td>0.344373</td>\n",
       "      <td>0.344642</td>\n",
       "      <td>0.312062</td>\n",
       "      <td>0.339795</td>\n",
       "      <td>0.571621</td>\n",
       "      <td>0.561659</td>\n",
       "    </tr>\n",
       "    <tr>\n",
       "      <th>2006-12-16 17:57:00</th>\n",
       "      <td>0.468533</td>\n",
       "      <td>0.450087</td>\n",
       "      <td>0.386719</td>\n",
       "      <td>0.274089</td>\n",
       "      <td>0.323785</td>\n",
       "      <td>0.332465</td>\n",
       "      <td>0.329210</td>\n",
       "      <td>0.330078</td>\n",
       "      <td>0.331380</td>\n",
       "      <td>0.464410</td>\n",
       "      <td>...</td>\n",
       "      <td>0.557620</td>\n",
       "      <td>0.574852</td>\n",
       "      <td>0.445073</td>\n",
       "      <td>0.339257</td>\n",
       "      <td>0.340065</td>\n",
       "      <td>0.344373</td>\n",
       "      <td>0.344642</td>\n",
       "      <td>0.312062</td>\n",
       "      <td>0.339795</td>\n",
       "      <td>0.571621</td>\n",
       "    </tr>\n",
       "    <tr>\n",
       "      <th>2006-12-16 17:58:00</th>\n",
       "      <td>0.419271</td>\n",
       "      <td>0.468533</td>\n",
       "      <td>0.450087</td>\n",
       "      <td>0.386719</td>\n",
       "      <td>0.274089</td>\n",
       "      <td>0.323785</td>\n",
       "      <td>0.332465</td>\n",
       "      <td>0.329210</td>\n",
       "      <td>0.330078</td>\n",
       "      <td>0.331380</td>\n",
       "      <td>...</td>\n",
       "      <td>0.547388</td>\n",
       "      <td>0.557620</td>\n",
       "      <td>0.574852</td>\n",
       "      <td>0.445073</td>\n",
       "      <td>0.339257</td>\n",
       "      <td>0.340065</td>\n",
       "      <td>0.344373</td>\n",
       "      <td>0.344642</td>\n",
       "      <td>0.312062</td>\n",
       "      <td>0.339795</td>\n",
       "    </tr>\n",
       "    <tr>\n",
       "      <th>2006-12-16 17:59:00</th>\n",
       "      <td>0.247179</td>\n",
       "      <td>0.419271</td>\n",
       "      <td>0.468533</td>\n",
       "      <td>0.450087</td>\n",
       "      <td>0.386719</td>\n",
       "      <td>0.274089</td>\n",
       "      <td>0.323785</td>\n",
       "      <td>0.332465</td>\n",
       "      <td>0.329210</td>\n",
       "      <td>0.330078</td>\n",
       "      <td>...</td>\n",
       "      <td>0.392030</td>\n",
       "      <td>0.547388</td>\n",
       "      <td>0.557620</td>\n",
       "      <td>0.574852</td>\n",
       "      <td>0.445073</td>\n",
       "      <td>0.339257</td>\n",
       "      <td>0.340065</td>\n",
       "      <td>0.344373</td>\n",
       "      <td>0.344642</td>\n",
       "      <td>0.312062</td>\n",
       "    </tr>\n",
       "    <tr>\n",
       "      <th>2006-12-16 18:00:00</th>\n",
       "      <td>0.281684</td>\n",
       "      <td>0.247179</td>\n",
       "      <td>0.419271</td>\n",
       "      <td>0.468533</td>\n",
       "      <td>0.450087</td>\n",
       "      <td>0.386719</td>\n",
       "      <td>0.274089</td>\n",
       "      <td>0.323785</td>\n",
       "      <td>0.332465</td>\n",
       "      <td>0.329210</td>\n",
       "      <td>...</td>\n",
       "      <td>0.309908</td>\n",
       "      <td>0.392030</td>\n",
       "      <td>0.547388</td>\n",
       "      <td>0.557620</td>\n",
       "      <td>0.574852</td>\n",
       "      <td>0.445073</td>\n",
       "      <td>0.339257</td>\n",
       "      <td>0.340065</td>\n",
       "      <td>0.344373</td>\n",
       "      <td>0.344642</td>\n",
       "    </tr>\n",
       "    <tr>\n",
       "      <th>2006-12-16 18:01:00</th>\n",
       "      <td>0.263672</td>\n",
       "      <td>0.281684</td>\n",
       "      <td>0.247179</td>\n",
       "      <td>0.419271</td>\n",
       "      <td>0.468533</td>\n",
       "      <td>0.450087</td>\n",
       "      <td>0.386719</td>\n",
       "      <td>0.274089</td>\n",
       "      <td>0.323785</td>\n",
       "      <td>0.332465</td>\n",
       "      <td>...</td>\n",
       "      <td>0.294561</td>\n",
       "      <td>0.309908</td>\n",
       "      <td>0.392030</td>\n",
       "      <td>0.547388</td>\n",
       "      <td>0.557620</td>\n",
       "      <td>0.574852</td>\n",
       "      <td>0.445073</td>\n",
       "      <td>0.339257</td>\n",
       "      <td>0.340065</td>\n",
       "      <td>0.344373</td>\n",
       "    </tr>\n",
       "    <tr>\n",
       "      <th>2006-12-16 18:02:00</th>\n",
       "      <td>0.279731</td>\n",
       "      <td>0.263672</td>\n",
       "      <td>0.281684</td>\n",
       "      <td>0.247179</td>\n",
       "      <td>0.419271</td>\n",
       "      <td>0.468533</td>\n",
       "      <td>0.450087</td>\n",
       "      <td>0.386719</td>\n",
       "      <td>0.274089</td>\n",
       "      <td>0.323785</td>\n",
       "      <td>...</td>\n",
       "      <td>0.316101</td>\n",
       "      <td>0.294561</td>\n",
       "      <td>0.309908</td>\n",
       "      <td>0.392030</td>\n",
       "      <td>0.547388</td>\n",
       "      <td>0.557620</td>\n",
       "      <td>0.574852</td>\n",
       "      <td>0.445073</td>\n",
       "      <td>0.339257</td>\n",
       "      <td>0.340065</td>\n",
       "    </tr>\n",
       "    <tr>\n",
       "      <th>2006-12-16 18:03:00</th>\n",
       "      <td>0.384766</td>\n",
       "      <td>0.279731</td>\n",
       "      <td>0.263672</td>\n",
       "      <td>0.281684</td>\n",
       "      <td>0.247179</td>\n",
       "      <td>0.419271</td>\n",
       "      <td>0.468533</td>\n",
       "      <td>0.450087</td>\n",
       "      <td>0.386719</td>\n",
       "      <td>0.274089</td>\n",
       "      <td>...</td>\n",
       "      <td>0.285945</td>\n",
       "      <td>0.316101</td>\n",
       "      <td>0.294561</td>\n",
       "      <td>0.309908</td>\n",
       "      <td>0.392030</td>\n",
       "      <td>0.547388</td>\n",
       "      <td>0.557620</td>\n",
       "      <td>0.574852</td>\n",
       "      <td>0.445073</td>\n",
       "      <td>0.339257</td>\n",
       "    </tr>\n",
       "    <tr>\n",
       "      <th>2006-12-16 18:04:00</th>\n",
       "      <td>0.513672</td>\n",
       "      <td>0.384766</td>\n",
       "      <td>0.279731</td>\n",
       "      <td>0.263672</td>\n",
       "      <td>0.281684</td>\n",
       "      <td>0.247179</td>\n",
       "      <td>0.419271</td>\n",
       "      <td>0.468533</td>\n",
       "      <td>0.450087</td>\n",
       "      <td>0.386719</td>\n",
       "      <td>...</td>\n",
       "      <td>0.356220</td>\n",
       "      <td>0.285945</td>\n",
       "      <td>0.316101</td>\n",
       "      <td>0.294561</td>\n",
       "      <td>0.309908</td>\n",
       "      <td>0.392030</td>\n",
       "      <td>0.547388</td>\n",
       "      <td>0.557620</td>\n",
       "      <td>0.574852</td>\n",
       "      <td>0.445073</td>\n",
       "    </tr>\n",
       "  </tbody>\n",
       "</table>\n",
       "<p>10 rows × 241 columns</p>\n",
       "</div>"
      ],
      "text/plain": [
       "                          1         2         3         4         5    \\\n",
       "0                                                                       \n",
       "2006-12-16 17:55:00  0.386719  0.274089  0.323785  0.332465  0.329210   \n",
       "2006-12-16 17:56:00  0.450087  0.386719  0.274089  0.323785  0.332465   \n",
       "2006-12-16 17:57:00  0.468533  0.450087  0.386719  0.274089  0.323785   \n",
       "2006-12-16 17:58:00  0.419271  0.468533  0.450087  0.386719  0.274089   \n",
       "2006-12-16 17:59:00  0.247179  0.419271  0.468533  0.450087  0.386719   \n",
       "2006-12-16 18:00:00  0.281684  0.247179  0.419271  0.468533  0.450087   \n",
       "2006-12-16 18:01:00  0.263672  0.281684  0.247179  0.419271  0.468533   \n",
       "2006-12-16 18:02:00  0.279731  0.263672  0.281684  0.247179  0.419271   \n",
       "2006-12-16 18:03:00  0.384766  0.279731  0.263672  0.281684  0.247179   \n",
       "2006-12-16 18:04:00  0.513672  0.384766  0.279731  0.263672  0.281684   \n",
       "\n",
       "                          6         7         8         9         10   \\\n",
       "0                                                                       \n",
       "2006-12-16 17:55:00  0.330078  0.331380  0.464410  0.540365  0.741319   \n",
       "2006-12-16 17:56:00  0.329210  0.330078  0.331380  0.464410  0.540365   \n",
       "2006-12-16 17:57:00  0.332465  0.329210  0.330078  0.331380  0.464410   \n",
       "2006-12-16 17:58:00  0.323785  0.332465  0.329210  0.330078  0.331380   \n",
       "2006-12-16 17:59:00  0.274089  0.323785  0.332465  0.329210  0.330078   \n",
       "2006-12-16 18:00:00  0.386719  0.274089  0.323785  0.332465  0.329210   \n",
       "2006-12-16 18:01:00  0.450087  0.386719  0.274089  0.323785  0.332465   \n",
       "2006-12-16 18:02:00  0.468533  0.450087  0.386719  0.274089  0.323785   \n",
       "2006-12-16 18:03:00  0.419271  0.468533  0.450087  0.386719  0.274089   \n",
       "2006-12-16 18:04:00  0.247179  0.419271  0.468533  0.450087  0.386719   \n",
       "\n",
       "                       ...          232       233       234       235  \\\n",
       "0                      ...                                              \n",
       "2006-12-16 17:55:00    ...     0.445073  0.339257  0.340065  0.344373   \n",
       "2006-12-16 17:56:00    ...     0.574852  0.445073  0.339257  0.340065   \n",
       "2006-12-16 17:57:00    ...     0.557620  0.574852  0.445073  0.339257   \n",
       "2006-12-16 17:58:00    ...     0.547388  0.557620  0.574852  0.445073   \n",
       "2006-12-16 17:59:00    ...     0.392030  0.547388  0.557620  0.574852   \n",
       "2006-12-16 18:00:00    ...     0.309908  0.392030  0.547388  0.557620   \n",
       "2006-12-16 18:01:00    ...     0.294561  0.309908  0.392030  0.547388   \n",
       "2006-12-16 18:02:00    ...     0.316101  0.294561  0.309908  0.392030   \n",
       "2006-12-16 18:03:00    ...     0.285945  0.316101  0.294561  0.309908   \n",
       "2006-12-16 18:04:00    ...     0.356220  0.285945  0.316101  0.294561   \n",
       "\n",
       "                          236       237       238       239       240  \\\n",
       "0                                                                       \n",
       "2006-12-16 17:55:00  0.344642  0.312062  0.339795  0.571621  0.561659   \n",
       "2006-12-16 17:56:00  0.344373  0.344642  0.312062  0.339795  0.571621   \n",
       "2006-12-16 17:57:00  0.340065  0.344373  0.344642  0.312062  0.339795   \n",
       "2006-12-16 17:58:00  0.339257  0.340065  0.344373  0.344642  0.312062   \n",
       "2006-12-16 17:59:00  0.445073  0.339257  0.340065  0.344373  0.344642   \n",
       "2006-12-16 18:00:00  0.574852  0.445073  0.339257  0.340065  0.344373   \n",
       "2006-12-16 18:01:00  0.557620  0.574852  0.445073  0.339257  0.340065   \n",
       "2006-12-16 18:02:00  0.547388  0.557620  0.574852  0.445073  0.339257   \n",
       "2006-12-16 18:03:00  0.392030  0.547388  0.557620  0.574852  0.445073   \n",
       "2006-12-16 18:04:00  0.309908  0.392030  0.547388  0.557620  0.574852   \n",
       "\n",
       "                          241  \n",
       "0                              \n",
       "2006-12-16 17:55:00  0.575929  \n",
       "2006-12-16 17:56:00  0.561659  \n",
       "2006-12-16 17:57:00  0.571621  \n",
       "2006-12-16 17:58:00  0.339795  \n",
       "2006-12-16 17:59:00  0.312062  \n",
       "2006-12-16 18:00:00  0.344642  \n",
       "2006-12-16 18:01:00  0.344373  \n",
       "2006-12-16 18:02:00  0.340065  \n",
       "2006-12-16 18:03:00  0.339257  \n",
       "2006-12-16 18:04:00  0.445073  \n",
       "\n",
       "[10 rows x 241 columns]"
      ]
     },
     "execution_count": 29,
     "metadata": {},
     "output_type": "execute_result"
    }
   ],
   "source": [
    "window = 30\n",
    "\n",
    "training_data_tf_rows = []\n",
    "for i in range(window+1, len(training_data_scaled)):\n",
    "  ts = training_data_scaled.index[i]\n",
    "  value = training_data_scaled.global_active_power[i]\n",
    "  global_active_power_feature = training_data_scaled.global_active_power[i-1:i-1-window:-1]\n",
    "  global_reactive_power_feature = training_data_scaled.global_reactive_power[i-1:i-1-window:-1]\n",
    "  voltage_feature = training_data_scaled.voltage[i-1:i-1-window:-1]\n",
    "  intensity_feature = training_data_scaled.intensity[i-1:i-1-window:-1]\n",
    "  sub_meter_1_feature = training_data_scaled.sub_meter_1[i-1:i-1-window:-1]\n",
    "  sub_meter_2_feature = training_data_scaled.sub_meter_2[i-1:i-1-window:-1]\n",
    "  sub_meter_3_feature = training_data_scaled.sub_meter_3[i-1:i-1-window:-1]\n",
    "  rest_of_home_pseudo_sub_meter_feature = training_data_scaled.rest_of_home_pseudo_sub_meter[i-1:i-1-window:-1]\n",
    "    \n",
    "  training_data_tf_row = np.concatenate([[ts], [value],\n",
    "                                      global_active_power_feature.values,\n",
    "                                      global_reactive_power_feature.values,\n",
    "                                      voltage_feature.values,\n",
    "                                      intensity_feature.values,\n",
    "                                      sub_meter_1_feature.values,\n",
    "                                      sub_meter_2_feature.values,\n",
    "                                      sub_meter_3_feature.values,\n",
    "                                      rest_of_home_pseudo_sub_meter_feature.values])\n",
    "  training_data_tf_row_dict = dict(enumerate(training_data_tf_row))\n",
    "  training_data_tf_rows.append(training_data_tf_row_dict)\n",
    "  #training_data_tf_row_df = pd.DataFrame([training_data_tf_row])\n",
    "  #training_data_tf = pd.concat([training_data_tf, training_data_tf_row_df])\n",
    "  \n",
    "  if (i%10000 == 0):\n",
    "    print i\n",
    "  \n",
    "training_data_tf = pd.DataFrame(training_data_tf_rows)\n",
    "training_data_tf = training_data_tf.set_index(0)\n",
    "training_data_tf[:10]"
   ]
  },
  {
   "cell_type": "code",
   "execution_count": 30,
   "metadata": {
    "collapsed": false
   },
   "outputs": [],
   "source": [
    "training_predictors_tf = training_data_tf[training_data_tf.columns[1:]]\n",
    "training_classes_tf = training_data_tf[training_data_tf.columns[0]]"
   ]
  },
  {
   "cell_type": "code",
   "execution_count": 31,
   "metadata": {
    "collapsed": false
   },
   "outputs": [
    {
     "data": {
      "text/html": [
       "<div>\n",
       "<table border=\"1\" class=\"dataframe\">\n",
       "  <thead>\n",
       "    <tr style=\"text-align: right;\">\n",
       "      <th></th>\n",
       "      <th>2</th>\n",
       "      <th>3</th>\n",
       "      <th>4</th>\n",
       "      <th>5</th>\n",
       "      <th>6</th>\n",
       "      <th>7</th>\n",
       "      <th>8</th>\n",
       "      <th>9</th>\n",
       "      <th>10</th>\n",
       "      <th>11</th>\n",
       "      <th>...</th>\n",
       "      <th>232</th>\n",
       "      <th>233</th>\n",
       "      <th>234</th>\n",
       "      <th>235</th>\n",
       "      <th>236</th>\n",
       "      <th>237</th>\n",
       "      <th>238</th>\n",
       "      <th>239</th>\n",
       "      <th>240</th>\n",
       "      <th>241</th>\n",
       "    </tr>\n",
       "    <tr>\n",
       "      <th>0</th>\n",
       "      <th></th>\n",
       "      <th></th>\n",
       "      <th></th>\n",
       "      <th></th>\n",
       "      <th></th>\n",
       "      <th></th>\n",
       "      <th></th>\n",
       "      <th></th>\n",
       "      <th></th>\n",
       "      <th></th>\n",
       "      <th></th>\n",
       "      <th></th>\n",
       "      <th></th>\n",
       "      <th></th>\n",
       "      <th></th>\n",
       "      <th></th>\n",
       "      <th></th>\n",
       "      <th></th>\n",
       "      <th></th>\n",
       "      <th></th>\n",
       "      <th></th>\n",
       "    </tr>\n",
       "  </thead>\n",
       "  <tbody>\n",
       "    <tr>\n",
       "      <th>2006-12-16 17:55:00</th>\n",
       "      <td>0.274089</td>\n",
       "      <td>0.323785</td>\n",
       "      <td>0.332465</td>\n",
       "      <td>0.329210</td>\n",
       "      <td>0.330078</td>\n",
       "      <td>0.331380</td>\n",
       "      <td>0.464410</td>\n",
       "      <td>0.540365</td>\n",
       "      <td>0.741319</td>\n",
       "      <td>0.815104</td>\n",
       "      <td>...</td>\n",
       "      <td>0.445073</td>\n",
       "      <td>0.339257</td>\n",
       "      <td>0.340065</td>\n",
       "      <td>0.344373</td>\n",
       "      <td>0.344642</td>\n",
       "      <td>0.312062</td>\n",
       "      <td>0.339795</td>\n",
       "      <td>0.571621</td>\n",
       "      <td>0.561659</td>\n",
       "      <td>0.575929</td>\n",
       "    </tr>\n",
       "    <tr>\n",
       "      <th>2006-12-16 17:56:00</th>\n",
       "      <td>0.386719</td>\n",
       "      <td>0.274089</td>\n",
       "      <td>0.323785</td>\n",
       "      <td>0.332465</td>\n",
       "      <td>0.329210</td>\n",
       "      <td>0.330078</td>\n",
       "      <td>0.331380</td>\n",
       "      <td>0.464410</td>\n",
       "      <td>0.540365</td>\n",
       "      <td>0.741319</td>\n",
       "      <td>...</td>\n",
       "      <td>0.574852</td>\n",
       "      <td>0.445073</td>\n",
       "      <td>0.339257</td>\n",
       "      <td>0.340065</td>\n",
       "      <td>0.344373</td>\n",
       "      <td>0.344642</td>\n",
       "      <td>0.312062</td>\n",
       "      <td>0.339795</td>\n",
       "      <td>0.571621</td>\n",
       "      <td>0.561659</td>\n",
       "    </tr>\n",
       "    <tr>\n",
       "      <th>2006-12-16 17:57:00</th>\n",
       "      <td>0.450087</td>\n",
       "      <td>0.386719</td>\n",
       "      <td>0.274089</td>\n",
       "      <td>0.323785</td>\n",
       "      <td>0.332465</td>\n",
       "      <td>0.329210</td>\n",
       "      <td>0.330078</td>\n",
       "      <td>0.331380</td>\n",
       "      <td>0.464410</td>\n",
       "      <td>0.540365</td>\n",
       "      <td>...</td>\n",
       "      <td>0.557620</td>\n",
       "      <td>0.574852</td>\n",
       "      <td>0.445073</td>\n",
       "      <td>0.339257</td>\n",
       "      <td>0.340065</td>\n",
       "      <td>0.344373</td>\n",
       "      <td>0.344642</td>\n",
       "      <td>0.312062</td>\n",
       "      <td>0.339795</td>\n",
       "      <td>0.571621</td>\n",
       "    </tr>\n",
       "    <tr>\n",
       "      <th>2006-12-16 17:58:00</th>\n",
       "      <td>0.468533</td>\n",
       "      <td>0.450087</td>\n",
       "      <td>0.386719</td>\n",
       "      <td>0.274089</td>\n",
       "      <td>0.323785</td>\n",
       "      <td>0.332465</td>\n",
       "      <td>0.329210</td>\n",
       "      <td>0.330078</td>\n",
       "      <td>0.331380</td>\n",
       "      <td>0.464410</td>\n",
       "      <td>...</td>\n",
       "      <td>0.547388</td>\n",
       "      <td>0.557620</td>\n",
       "      <td>0.574852</td>\n",
       "      <td>0.445073</td>\n",
       "      <td>0.339257</td>\n",
       "      <td>0.340065</td>\n",
       "      <td>0.344373</td>\n",
       "      <td>0.344642</td>\n",
       "      <td>0.312062</td>\n",
       "      <td>0.339795</td>\n",
       "    </tr>\n",
       "    <tr>\n",
       "      <th>2006-12-16 17:59:00</th>\n",
       "      <td>0.419271</td>\n",
       "      <td>0.468533</td>\n",
       "      <td>0.450087</td>\n",
       "      <td>0.386719</td>\n",
       "      <td>0.274089</td>\n",
       "      <td>0.323785</td>\n",
       "      <td>0.332465</td>\n",
       "      <td>0.329210</td>\n",
       "      <td>0.330078</td>\n",
       "      <td>0.331380</td>\n",
       "      <td>...</td>\n",
       "      <td>0.392030</td>\n",
       "      <td>0.547388</td>\n",
       "      <td>0.557620</td>\n",
       "      <td>0.574852</td>\n",
       "      <td>0.445073</td>\n",
       "      <td>0.339257</td>\n",
       "      <td>0.340065</td>\n",
       "      <td>0.344373</td>\n",
       "      <td>0.344642</td>\n",
       "      <td>0.312062</td>\n",
       "    </tr>\n",
       "  </tbody>\n",
       "</table>\n",
       "<p>5 rows × 240 columns</p>\n",
       "</div>"
      ],
      "text/plain": [
       "                          2         3         4         5         6    \\\n",
       "0                                                                       \n",
       "2006-12-16 17:55:00  0.274089  0.323785  0.332465  0.329210  0.330078   \n",
       "2006-12-16 17:56:00  0.386719  0.274089  0.323785  0.332465  0.329210   \n",
       "2006-12-16 17:57:00  0.450087  0.386719  0.274089  0.323785  0.332465   \n",
       "2006-12-16 17:58:00  0.468533  0.450087  0.386719  0.274089  0.323785   \n",
       "2006-12-16 17:59:00  0.419271  0.468533  0.450087  0.386719  0.274089   \n",
       "\n",
       "                          7         8         9         10        11   \\\n",
       "0                                                                       \n",
       "2006-12-16 17:55:00  0.331380  0.464410  0.540365  0.741319  0.815104   \n",
       "2006-12-16 17:56:00  0.330078  0.331380  0.464410  0.540365  0.741319   \n",
       "2006-12-16 17:57:00  0.329210  0.330078  0.331380  0.464410  0.540365   \n",
       "2006-12-16 17:58:00  0.332465  0.329210  0.330078  0.331380  0.464410   \n",
       "2006-12-16 17:59:00  0.323785  0.332465  0.329210  0.330078  0.331380   \n",
       "\n",
       "                       ...          232       233       234       235  \\\n",
       "0                      ...                                              \n",
       "2006-12-16 17:55:00    ...     0.445073  0.339257  0.340065  0.344373   \n",
       "2006-12-16 17:56:00    ...     0.574852  0.445073  0.339257  0.340065   \n",
       "2006-12-16 17:57:00    ...     0.557620  0.574852  0.445073  0.339257   \n",
       "2006-12-16 17:58:00    ...     0.547388  0.557620  0.574852  0.445073   \n",
       "2006-12-16 17:59:00    ...     0.392030  0.547388  0.557620  0.574852   \n",
       "\n",
       "                          236       237       238       239       240  \\\n",
       "0                                                                       \n",
       "2006-12-16 17:55:00  0.344642  0.312062  0.339795  0.571621  0.561659   \n",
       "2006-12-16 17:56:00  0.344373  0.344642  0.312062  0.339795  0.571621   \n",
       "2006-12-16 17:57:00  0.340065  0.344373  0.344642  0.312062  0.339795   \n",
       "2006-12-16 17:58:00  0.339257  0.340065  0.344373  0.344642  0.312062   \n",
       "2006-12-16 17:59:00  0.445073  0.339257  0.340065  0.344373  0.344642   \n",
       "\n",
       "                          241  \n",
       "0                              \n",
       "2006-12-16 17:55:00  0.575929  \n",
       "2006-12-16 17:56:00  0.561659  \n",
       "2006-12-16 17:57:00  0.571621  \n",
       "2006-12-16 17:58:00  0.339795  \n",
       "2006-12-16 17:59:00  0.312062  \n",
       "\n",
       "[5 rows x 240 columns]"
      ]
     },
     "execution_count": 31,
     "metadata": {},
     "output_type": "execute_result"
    }
   ],
   "source": [
    "training_predictors_tf[:5]"
   ]
  },
  {
   "cell_type": "code",
   "execution_count": 32,
   "metadata": {
    "collapsed": false
   },
   "outputs": [
    {
     "data": {
      "text/plain": [
       "0\n",
       "2006-12-16 17:55:00    0.386719\n",
       "2006-12-16 17:56:00    0.450087\n",
       "2006-12-16 17:57:00    0.468533\n",
       "2006-12-16 17:58:00    0.419271\n",
       "2006-12-16 17:59:00    0.247179\n",
       "Name: 1, dtype: float64"
      ]
     },
     "execution_count": 32,
     "metadata": {},
     "output_type": "execute_result"
    }
   ],
   "source": [
    "training_classes_tf[:5]"
   ]
  },
  {
   "cell_type": "code",
   "execution_count": 33,
   "metadata": {
    "collapsed": false
   },
   "outputs": [
    {
     "name": "stdout",
     "output_type": "stream",
     "text": [
      "Downloading/unpacking git+git://github.com/google/skflow.git\n",
      "  Cloning git://github.com/google/skflow.git to /tmp/pip-0wZXNE-build\n",
      "  Running setup.py (path:/tmp/pip-0wZXNE-build/setup.py) egg_info for package from git+git://github.com/google/skflow.git\n",
      "    \n",
      "  Requirement already satisfied (use --upgrade to upgrade): skflow==0.0.1 from git+git://github.com/google/skflow.git in /usr/local/lib/python2.7/dist-packages\n",
      "Requirement already satisfied (use --upgrade to upgrade): sklearn in /usr/local/lib/python2.7/dist-packages (from skflow==0.0.1)\n",
      "Requirement already satisfied (use --upgrade to upgrade): scipy in /usr/local/lib/python2.7/dist-packages (from skflow==0.0.1)\n",
      "Requirement already satisfied (use --upgrade to upgrade): numpy in /usr/local/lib/python2.7/dist-packages (from skflow==0.0.1)\n",
      "Requirement already satisfied (use --upgrade to upgrade): scikit-learn in /usr/local/lib/python2.7/dist-packages (from sklearn->skflow==0.0.1)\n",
      "Cleaning up...\n"
     ]
    }
   ],
   "source": [
    "!pip install git+git://github.com/google/skflow.git"
   ]
  },
  {
   "cell_type": "code",
   "execution_count": 34,
   "metadata": {
    "collapsed": false
   },
   "outputs": [
    {
     "data": {
      "text/plain": [
       "(array([[ 0.01497396,  0.01497396,  0.01540799, ...,  0.03392569,\n",
       "          0.02907916,  0.02207862],\n",
       "        [ 0.14756944,  0.14800347,  0.14800347, ...,  0.03473344,\n",
       "          0.02557889,  0.03365644],\n",
       "        [ 0.02387153,  0.02170139,  0.02387153, ...,  0.04631125,\n",
       "          0.0455035 ,  0.04711901],\n",
       "        ..., \n",
       "        [ 0.3578559 ,  0.34678819,  0.34657118, ...,  0.23721055,\n",
       "          0.22455574,  0.23317178],\n",
       "        [ 0.03125   ,  0.03168403,  0.02560764, ...,  0.02180937,\n",
       "          0.02207862,  0.02207862],\n",
       "        [ 0.11697049,  0.11631944,  0.11545139, ...,  0.02800215,\n",
       "          0.03796446,  0.03069467]]),\n",
       " array([ 0.01497396,  0.14735243,  0.02170139, ...,  0.35503472,\n",
       "         0.03103299,  0.11740451]))"
      ]
     },
     "execution_count": 34,
     "metadata": {},
     "output_type": "execute_result"
    }
   ],
   "source": [
    "import skflow\n",
    "from sklearn.cross_validation import train_test_split\n",
    "from sklearn.metrics import mean_squared_error\n",
    "\n",
    "y, X = training_classes_tf.values, training_predictors_tf.values\n",
    "X_train, X_test, y_train, y_test = train_test_split(X, y, test_size=0.2, random_state=42)\n",
    "\n",
    "X_test, y_test"
   ]
  },
  {
   "cell_type": "code",
   "execution_count": 35,
   "metadata": {
    "collapsed": false
   },
   "outputs": [
    {
     "name": "stdout",
     "output_type": "stream",
     "text": [
      "Step #1, avg. loss: 0.06411\n",
      "Step #5001, avg. loss: 0.01146\n",
      "Step #10001, avg. loss: 0.00588\n",
      "Step #15001, avg. loss: 0.00490\n",
      "Step #20001, avg. loss: 0.00443\n",
      "Step #25001, avg. loss: 0.00390\n",
      "Step #30001, avg. loss: 0.00350\n",
      "Step #35001, avg. loss: 0.00295\n",
      "Step #40001, avg. loss: 0.00322\n",
      "Step #45001, avg. loss: 0.00295\n",
      "MSE: 0.002594\n"
     ]
    }
   ],
   "source": [
    "regressor = skflow.TensorFlowDNNRegressor(\n",
    "  hidden_units=[250, 250],\n",
    "  steps=50000, \n",
    "  learning_rate=0.001, \n",
    "  batch_size=1)\n",
    "regressor.fit(X_train, y_train)\n",
    "score = mean_squared_error(regressor.predict(X_test), y_test)\n",
    "print('MSE: {0:f}'.format(score))"
   ]
  },
  {
   "cell_type": "code",
   "execution_count": 36,
   "metadata": {
    "collapsed": false
   },
   "outputs": [
    {
     "name": "stdout",
     "output_type": "stream",
     "text": [
      "0      float64\n",
      "xyz    float32\n",
      "dtype: object\n"
     ]
    },
    {
     "data": {
      "text/plain": [
       "'xyz = regressor.predict(X_test)\\nprint len(xyz)\\n\\nprint len(y_test)'"
      ]
     },
     "execution_count": 36,
     "metadata": {},
     "output_type": "execute_result"
    }
   ],
   "source": [
    "tmpd = pd.DataFrame(y_test)\n",
    "tmpd['xyz'] = regressor.predict(X_test)\n",
    "print tmpd[:10].dtypes\n",
    "\n",
    "'''xyz = regressor.predict(X_test)\n",
    "print len(xyz)\n",
    "\n",
    "print len(y_test)'''"
   ]
  },
  {
   "cell_type": "code",
   "execution_count": 37,
   "metadata": {
    "collapsed": false
   },
   "outputs": [
    {
     "data": {
      "image/png": "[encoded data removed]",
      "text/plain": [
       "<matplotlib.figure.Figure at 0x7f822c9de150>"
      ]
     },
     "metadata": {},
     "output_type": "display_data"
    }
   ],
   "source": [
    "#_ = tmpd[150:200].plot(kind='bar', figsize=(20, 15))\n",
    "_ = tmpd[:100].plot(style='-o', figsize=(20, 15))"
   ]
  }
 ],
 "metadata": {
  "kernelspec": {
   "display_name": "Python 2",
   "language": "python",
   "name": "python2"
  },
  "language_info": {
   "codemirror_mode": {
    "name": "ipython",
    "version": 2
   },
   "file_extension": ".py",
   "mimetype": "text/x-python",
   "name": "python",
   "nbconvert_exporter": "python",
   "pygments_lexer": "ipython2",
   "version": "2.7.9"
  }
 },
 "nbformat": 4,
 "nbformat_minor": 0
}
