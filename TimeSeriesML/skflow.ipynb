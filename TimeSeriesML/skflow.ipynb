{
 "cells": [
  {
   "cell_type": "code",
   "execution_count": 3,
   "metadata": {
    "collapsed": false
   },
   "outputs": [
    {
     "name": "stdout",
     "output_type": "stream",
     "text": [
      "Downloading/unpacking git+git://github.com/google/skflow.git\n",
      "  Cloning git://github.com/google/skflow.git to /tmp/pip-6Pqvai-build\n",
      "  Running setup.py (path:/tmp/pip-6Pqvai-build/setup.py) egg_info for package from git+git://github.com/google/skflow.git\n",
      "    \n",
      "  Requirement already satisfied (use --upgrade to upgrade): skflow==0.0.1 from git+git://github.com/google/skflow.git in /usr/local/lib/python2.7/dist-packages\n",
      "Requirement already satisfied (use --upgrade to upgrade): sklearn in /usr/local/lib/python2.7/dist-packages (from skflow==0.0.1)\n",
      "Requirement already satisfied (use --upgrade to upgrade): scipy in /usr/local/lib/python2.7/dist-packages (from skflow==0.0.1)\n",
      "Requirement already satisfied (use --upgrade to upgrade): numpy in /usr/local/lib/python2.7/dist-packages (from skflow==0.0.1)\n",
      "Requirement already satisfied (use --upgrade to upgrade): scikit-learn in /usr/local/lib/python2.7/dist-packages (from sklearn->skflow==0.0.1)\n",
      "Cleaning up...\n"
     ]
    }
   ],
   "source": [
    "!pip install git+git://github.com/google/skflow.git"
   ]
  },
  {
   "cell_type": "code",
   "execution_count": 16,
   "metadata": {
    "collapsed": false
   },
   "outputs": [
    {
     "name": "stdout",
     "output_type": "stream",
     "text": [
      "converted 'https://raw.githubusercontent.com/ilblackdragon/tf_examples/master/data/titanic_train.csv' (ANSI_X3.4-1968) -> 'https://raw.githubusercontent.com/ilblackdragon/tf_examples/master/data/titanic_train.csv' (UTF-8)\n",
      "--2015-12-30 03:03:45--  https://raw.githubusercontent.com/ilblackdragon/tf_examples/master/data/titanic_train.csv\n",
      "Resolving raw.githubusercontent.com (raw.githubusercontent.com)... 23.235.44.133\n",
      "Connecting to raw.githubusercontent.com (raw.githubusercontent.com)|23.235.44.133|:443... connected.\n",
      "HTTP request sent, awaiting response... 200 OK\n",
      "Length: 61194 (60K) [text/plain]\n",
      "Saving to: 'titanic_train.csv.1'\n",
      "\n",
      "titanic_train.csv.1 100%[=====================>]  59.76K  --.-KB/s   in 0.02s  \n",
      "\n",
      "2015-12-30 03:03:45 (3.62 MB/s) - 'titanic_train.csv.1' saved [61194/61194]\n",
      "\n"
     ]
    }
   ],
   "source": [
    "!wget https://raw.githubusercontent.com/ilblackdragon/tf_examples/master/data/titanic_train.csv"
   ]
  },
  {
   "cell_type": "code",
   "execution_count": 42,
   "metadata": {
    "collapsed": true
   },
   "outputs": [],
   "source": [
    "import pandas as pd\n",
    "import tensorflow as tf"
   ]
  },
  {
   "cell_type": "code",
   "execution_count": 22,
   "metadata": {
    "collapsed": false
   },
   "outputs": [
    {
     "name": "stdout",
     "output_type": "stream",
     "text": [
      "(891, 12)\n",
      "\n",
      "Index([u'PassengerId', u'Survived', u'Pclass', u'Name', u'Sex', u'Age',\n",
      "       u'SibSp', u'Parch', u'Ticket', u'Fare', u'Cabin', u'Embarked'],\n",
      "      dtype='object')\n"
     ]
    }
   ],
   "source": [
    "data = pd.read_csv('./titanic_train.csv.1')\n",
    "print data.shape\n",
    "print\n",
    "print data.columns"
   ]
  },
  {
   "cell_type": "code",
   "execution_count": 33,
   "metadata": {
    "collapsed": false
   },
   "outputs": [
    {
     "name": "stdout",
     "output_type": "stream",
     "text": [
      "0.664804469274\n"
     ]
    }
   ],
   "source": [
    "from sklearn.cross_validation import train_test_split\n",
    "from sklearn import linear_model\n",
    "from sklearn.metrics import accuracy_score\n",
    "\n",
    "y, X = data['Survived'], data[['Age', 'SibSp', 'Fare']].fillna(0)\n",
    "X_train, X_test, y_train, y_test = train_test_split(X, y, test_size=0.2, random_state=42)\n",
    "lr = linear_model.LogisticRegression()\n",
    "lr.fit(X_train, y_train)\n",
    "print accuracy_score(lr.predict(X_test), y_test)"
   ]
  },
  {
   "cell_type": "code",
   "execution_count": 38,
   "metadata": {
    "collapsed": false
   },
   "outputs": [
    {
     "name": "stdout",
     "output_type": "stream",
     "text": [
      "Step #1, avg. loss: 12.88252\n",
      "Step #1001, avg. loss: 1.79783\n",
      "Step #2001, avg. loss: 0.64108\n",
      "Step #3001, avg. loss: 0.63567\n",
      "Step #4001, avg. loss: 0.63207\n",
      "Step #5001, avg. loss: 0.62982\n",
      "Step #6001, avg. loss: 0.62828\n",
      "Step #7001, avg. loss: 0.62727\n",
      "Step #8001, avg. loss: 0.62652\n",
      "Step #9001, avg. loss: 0.62518\n",
      "0.68156424581\n"
     ]
    }
   ],
   "source": [
    "import skflow\n",
    "import random\n",
    "random.seed(42)\n",
    "classifier = skflow.TensorFlowLinearClassifier(n_classes=2, batch_size=128, steps=10000, learning_rate=0.001)\n",
    "classifier.fit(X_train, y_train)\n",
    "print accuracy_score(classifier.predict(X_test), y_test)"
   ]
  },
  {
   "cell_type": "code",
   "execution_count": 40,
   "metadata": {
    "collapsed": false
   },
   "outputs": [
    {
     "name": "stdout",
     "output_type": "stream",
     "text": [
      "Step #1, avg. loss: 4.59664\n",
      "Step #1001, avg. loss: 0.61644\n",
      "Step #2001, avg. loss: 0.60255\n",
      "Step #3001, avg. loss: 0.59327\n",
      "Step #4001, avg. loss: 0.58888\n",
      "Step #5001, avg. loss: 0.58315\n",
      "Step #6001, avg. loss: 0.57910\n",
      "Step #7001, avg. loss: 0.57743\n",
      "Step #8001, avg. loss: 0.57549\n",
      "Step #9001, avg. loss: 0.56933\n",
      "Accuracy: 0.709497\n"
     ]
    }
   ],
   "source": [
    "classifier = skflow.TensorFlowDNNClassifier(\n",
    "  hidden_units=[10, 20, 10], \n",
    "  n_classes=2, \n",
    "  batch_size=128, \n",
    "  steps=10000, \n",
    "  learning_rate=0.05)\n",
    "classifier.fit(X_train, y_train)\n",
    "score = accuracy_score(classifier.predict(X_test), y_test)\n",
    "print(\"Accuracy: %f\" % score)"
   ]
  },
  {
   "cell_type": "code",
   "execution_count": 48,
   "metadata": {
    "collapsed": false
   },
   "outputs": [
    {
     "name": "stdout",
     "output_type": "stream",
     "text": [
      "Step #1, avg. loss: 0.84445\n",
      "Step #1001, avg. loss: 0.60971\n",
      "Step #2001, avg. loss: 0.59504\n",
      "Step #3001, avg. loss: 0.58751\n",
      "Step #4001, avg. loss: 0.58594\n",
      "Step #5001, avg. loss: 0.58155\n",
      "Step #6001, avg. loss: 0.57681\n",
      "Step #7001, avg. loss: 0.57600\n",
      "Step #8001, avg. loss: 0.57471\n",
      "Step #9001, avg. loss: 0.57230\n",
      "Accuracy: 0.692737\n"
     ]
    }
   ],
   "source": [
    "def dnn_tanh(X, y):\n",
    "  layers = skflow.ops.dnn(X, [10, 20, 10], tf.tanh)\n",
    "  return skflow.models.logistic_regression(layers, y)\n",
    "\n",
    "classifier = skflow.TensorFlowEstimator(\n",
    "  model_fn=dnn_tanh, \n",
    "  n_classes=2,\n",
    "  batch_size=128,\n",
    "  steps=10000,\n",
    "  learning_rate=0.05)\n",
    "classifier.fit(X_train, y_train)\n",
    "score = accuracy_score(classifier.predict(X_test), y_test)\n",
    "print(\"Accuracy: %f\" % score)"
   ]
  }
 ],
 "metadata": {
  "kernelspec": {
   "display_name": "Python 2",
   "language": "python",
   "name": "python2"
  },
  "language_info": {
   "codemirror_mode": {
    "name": "ipython",
    "version": 2
   },
   "file_extension": ".py",
   "mimetype": "text/x-python",
   "name": "python",
   "nbconvert_exporter": "python",
   "pygments_lexer": "ipython2",
   "version": "2.7.9"
  }
 },
 "nbformat": 4,
 "nbformat_minor": 0
}
