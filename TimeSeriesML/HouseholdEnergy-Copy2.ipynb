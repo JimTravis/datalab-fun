{
 "cells": [
  {
   "cell_type": "markdown",
   "metadata": {},
   "source": [
    "# Household Power Consumption"
   ]
  },
  {
   "cell_type": "markdown",
   "metadata": {},
   "source": [
    "Interesting one...\n",
    "Would be good for a decent-sized test.  Several millions rows and lots of possible features."
   ]
  },
  {
   "cell_type": "markdown",
   "metadata": {},
   "source": [
    "## Example Raw Data"
   ]
  },
  {
   "cell_type": "markdown",
   "metadata": {},
   "source": [
    "`Date;Time;Global_active_power;Global_reactive_power;Voltage;Global_intensity;Sub_metering_1;Sub_metering_2;Sub_metering_3\n",
    "16/12/2006;17:24:00;4.216;0.418;234.840;18.400;0.000;1.000;17.000\n",
    "16/12/2006;17:25:00;5.360;0.436;233.630;23.000;0.000;1.000;16.000`"
   ]
  },
  {
   "cell_type": "markdown",
   "metadata": {},
   "source": [
    "## Data Format"
   ]
  },
  {
   "cell_type": "markdown",
   "metadata": {},
   "source": [
    "1. Date - DD/MM/YYYY\n",
    "2. Time - HH:MM:SS\n",
    "3. Household Global Minute-Averaged Active Power - KW/min\n",
    "4. Household Global Minute-Averaged Reactive Power - KW/min\n",
    "5. Minute-Averaged Voltage - V/min\n",
    "6. Household Global Minute-Averaged Current Intensity - A/min\n",
    "7. Energy Sub-Metering No. 1 - W/hr (kitchen - dishwasher, oven, microwave (hot plates not electric))\n",
    "8. Energy Sub-Metering No. 2 - W/hr (laundry room - washing-machine, tumble-drier, refrigerator, light)\n",
    "9. Energy Sub-Metering No. 3 - W/hr (water-heater, air-conditioner)\n",
    "\n",
    "** Some missing values, ~1.25%"
   ]
  },
  {
   "cell_type": "markdown",
   "metadata": {},
   "source": [
    "## Observations"
   ]
  },
  {
   "cell_type": "markdown",
   "metadata": {},
   "source": [
    "* #3 * 1000 / 60 => Household Global Active Power - W/hr\n",
    "* (#3 * 1000 / 60) - #7 - #8 - #9 => Rest of Home - W/hr"
   ]
  },
  {
   "cell_type": "markdown",
   "metadata": {},
   "source": [
    "## Other Stuff..."
   ]
  },
  {
   "cell_type": "markdown",
   "metadata": {},
   "source": [
    "* Active Power\n",
    "* Reactive Power\n",
    "* True Power = Active Power + Reactive Power?\n",
    "* Holidays, weekends..!\n",
    "* Aggregations..!  E.g. provide last week's data at min intervals, then one month at hour intervals, then last year, etc.\n",
    "\n",
    "* Daily patterns (people in morning, no one in day, people in evening, etc.)\n",
    "* Weekly patterns (weekdays vs weekends)\n",
    "* Seasonal patterns (spring, summer, etc.)\n",
    "* Overlays (holidays - Thanksgiving, Christmas, etc.)\n",
    "* Overlays (family vacations)"
   ]
  },
  {
   "cell_type": "markdown",
   "metadata": {},
   "source": [
    "## Models..."
   ]
  },
  {
   "cell_type": "markdown",
   "metadata": {},
   "source": [
    "* Regression on next minute's data...  This is sorta cute but how useful could it possibly be..?\n",
    "* Regression on next hour..?  Maybe, this feels right-ish...  Maybe, every 3 hours because that would cover a period in the life of the inhabitant (e.g. getting up and getting ready, working, etc.)"
   ]
  },
  {
   "cell_type": "markdown",
   "metadata": {},
   "source": [
    "## Get the Data, Mr Potata..."
   ]
  },
  {
   "cell_type": "code",
   "execution_count": 116,
   "metadata": {
    "collapsed": false
   },
   "outputs": [],
   "source": [
    "import pandas as pd\n",
    "from pandas.tools.plotting import autocorrelation_plot\n",
    "from pandas.tools.plotting import scatter_matrix\n",
    "\n",
    "import numpy as np\n",
    "\n",
    "import matplotlib.pyplot as plt\n",
    "\n",
    "import gcp.bigquery as bq"
   ]
  },
  {
   "cell_type": "code",
   "execution_count": 117,
   "metadata": {
    "collapsed": true
   },
   "outputs": [],
   "source": [
    "%%sql --module extraction\n",
    "\n",
    "DEFINE QUERY raw_data\n",
    "SELECT ts, global_active_power, global_reactive_power, voltage, intensity, sub_meter_1, sub_meter_2, sub_meter_3\n",
    "FROM [bingo-ml-1:electricity.household_usage_ts]\n",
    "ORDER BY ts ASC"
   ]
  },
  {
   "cell_type": "code",
   "execution_count": 118,
   "metadata": {
    "collapsed": false
   },
   "outputs": [
    {
     "data": {
      "text/html": [
       "\n",
       "    <div class=\"bqtv\" id=\"3_145153514693\"><table><tr><th>ts</th><th>global_active_power</th><th>global_reactive_power</th><th>voltage</th><th>intensity</th><th>sub_meter_1</th><th>sub_meter_2</th><th>sub_meter_3</th></tr><tr><td>2006-12-16 17:24:00</td><td>4.216</td><td>0.418</td><td>234.84</td><td>18.4</td><td>0.0</td><td>1.0</td><td>17.0</td></tr><tr><td>2006-12-16 17:25:00</td><td>5.36</td><td>0.436</td><td>233.63</td><td>23.0</td><td>0.0</td><td>1.0</td><td>16.0</td></tr><tr><td>2006-12-16 17:26:00</td><td>5.374</td><td>0.498</td><td>233.29</td><td>23.0</td><td>0.0</td><td>2.0</td><td>17.0</td></tr><tr><td>2006-12-16 17:27:00</td><td>5.388</td><td>0.502</td><td>233.74</td><td>23.0</td><td>0.0</td><td>1.0</td><td>17.0</td></tr><tr><td>2006-12-16 17:28:00</td><td>3.666</td><td>0.528</td><td>235.68</td><td>15.8</td><td>0.0</td><td>1.0</td><td>17.0</td></tr><tr><td>2006-12-16 17:29:00</td><td>3.52</td><td>0.522</td><td>235.02</td><td>15.0</td><td>0.0</td><td>2.0</td><td>17.0</td></tr><tr><td>2006-12-16 17:30:00</td><td>3.702</td><td>0.52</td><td>235.09</td><td>15.8</td><td>0.0</td><td>1.0</td><td>17.0</td></tr><tr><td>2006-12-16 17:31:00</td><td>3.7</td><td>0.52</td><td>235.22</td><td>15.8</td><td>0.0</td><td>1.0</td><td>17.0</td></tr><tr><td>2006-12-16 17:32:00</td><td>3.668</td><td>0.51</td><td>233.99</td><td>15.8</td><td>0.0</td><td>1.0</td><td>17.0</td></tr><tr><td>2006-12-16 17:33:00</td><td>3.662</td><td>0.51</td><td>233.86</td><td>15.8</td><td>0.0</td><td>2.0</td><td>16.0</td></tr><tr><td>2006-12-16 17:34:00</td><td>4.448</td><td>0.498</td><td>232.86</td><td>19.6</td><td>0.0</td><td>1.0</td><td>17.0</td></tr><tr><td>2006-12-16 17:35:00</td><td>5.412</td><td>0.47</td><td>232.78</td><td>23.2</td><td>0.0</td><td>1.0</td><td>17.0</td></tr><tr><td>2006-12-16 17:36:00</td><td>5.224</td><td>0.478</td><td>232.99</td><td>22.4</td><td>0.0</td><td>1.0</td><td>16.0</td></tr><tr><td>2006-12-16 17:37:00</td><td>5.268</td><td>0.398</td><td>232.91</td><td>22.6</td><td>0.0</td><td>2.0</td><td>17.0</td></tr><tr><td>2006-12-16 17:38:00</td><td>4.054</td><td>0.422</td><td>235.24</td><td>17.6</td><td>0.0</td><td>1.0</td><td>17.0</td></tr><tr><td>2006-12-16 17:39:00</td><td>3.384</td><td>0.282</td><td>237.14</td><td>14.2</td><td>0.0</td><td>0.0</td><td>17.0</td></tr><tr><td>2006-12-16 17:40:00</td><td>3.27</td><td>0.152</td><td>236.73</td><td>13.8</td><td>0.0</td><td>0.0</td><td>17.0</td></tr><tr><td>2006-12-16 17:41:00</td><td>3.43</td><td>0.156</td><td>237.06</td><td>14.4</td><td>0.0</td><td>0.0</td><td>17.0</td></tr><tr><td>2006-12-16 17:42:00</td><td>3.266</td><td>0.0</td><td>237.13</td><td>13.8</td><td>0.0</td><td>0.0</td><td>18.0</td></tr><tr><td>2006-12-16 17:43:00</td><td>3.728</td><td>0.0</td><td>235.84</td><td>16.4</td><td>0.0</td><td>0.0</td><td>17.0</td></tr><tr><td>2006-12-16 17:44:00</td><td>5.894</td><td>0.0</td><td>232.69</td><td>25.4</td><td>0.0</td><td>0.0</td><td>16.0</td></tr><tr><td>2006-12-16 17:45:00</td><td>7.706</td><td>0.0</td><td>230.98</td><td>33.2</td><td>0.0</td><td>0.0</td><td>17.0</td></tr><tr><td>2006-12-16 17:46:00</td><td>7.026</td><td>0.0</td><td>232.21</td><td>30.6</td><td>0.0</td><td>0.0</td><td>16.0</td></tr><tr><td>2006-12-16 17:47:00</td><td>5.174</td><td>0.0</td><td>234.19</td><td>22.0</td><td>0.0</td><td>0.0</td><td>17.0</td></tr><tr><td>2006-12-16 17:48:00</td><td>4.474</td><td>0.0</td><td>234.96</td><td>19.4</td><td>0.0</td><td>0.0</td><td>17.0</td></tr></table></div>\n",
       "    <br />(rows: 2049280, time: 0.8s, cached, job: job__7WGxwQeMA1jLfhlRheEMwKDQxo)<br />\n",
       "    <script>\n",
       "      require(['extensions/charting', 'element!3_145153514693', 'style!/static/extensions/charting.css'],\n",
       "        function(charts, dom) {\n",
       "          charts.render(dom,\n",
       "            {\n",
       "              chartStyle:\"paged_table\",\n",
       "              dataName:\"0\",\n",
       "              fields:\"ts,global_active_power,global_reactive_power,voltage,intensity,sub_meter_1,sub_meter_2,sub_meter_3\",\n",
       "              totalRows:2049280,\n",
       "              rowsPerPage:25,\n",
       "            }, {}, {\"rows\": [{\"c\": [{\"v\": \"2006-12-16T17:24:00\"}, {\"v\": 4.216}, {\"v\": 0.418}, {\"v\": 234.84}, {\"v\": 18.4}, {\"v\": 0.0}, {\"v\": 1.0}, {\"v\": 17.0}]}, {\"c\": [{\"v\": \"2006-12-16T17:25:00\"}, {\"v\": 5.36}, {\"v\": 0.436}, {\"v\": 233.63}, {\"v\": 23.0}, {\"v\": 0.0}, {\"v\": 1.0}, {\"v\": 16.0}]}, {\"c\": [{\"v\": \"2006-12-16T17:26:00\"}, {\"v\": 5.374}, {\"v\": 0.498}, {\"v\": 233.29}, {\"v\": 23.0}, {\"v\": 0.0}, {\"v\": 2.0}, {\"v\": 17.0}]}, {\"c\": [{\"v\": \"2006-12-16T17:27:00\"}, {\"v\": 5.388}, {\"v\": 0.502}, {\"v\": 233.74}, {\"v\": 23.0}, {\"v\": 0.0}, {\"v\": 1.0}, {\"v\": 17.0}]}, {\"c\": [{\"v\": \"2006-12-16T17:28:00\"}, {\"v\": 3.666}, {\"v\": 0.528}, {\"v\": 235.68}, {\"v\": 15.8}, {\"v\": 0.0}, {\"v\": 1.0}, {\"v\": 17.0}]}, {\"c\": [{\"v\": \"2006-12-16T17:29:00\"}, {\"v\": 3.52}, {\"v\": 0.522}, {\"v\": 235.02}, {\"v\": 15.0}, {\"v\": 0.0}, {\"v\": 2.0}, {\"v\": 17.0}]}, {\"c\": [{\"v\": \"2006-12-16T17:30:00\"}, {\"v\": 3.702}, {\"v\": 0.52}, {\"v\": 235.09}, {\"v\": 15.8}, {\"v\": 0.0}, {\"v\": 1.0}, {\"v\": 17.0}]}, {\"c\": [{\"v\": \"2006-12-16T17:31:00\"}, {\"v\": 3.7}, {\"v\": 0.52}, {\"v\": 235.22}, {\"v\": 15.8}, {\"v\": 0.0}, {\"v\": 1.0}, {\"v\": 17.0}]}, {\"c\": [{\"v\": \"2006-12-16T17:32:00\"}, {\"v\": 3.668}, {\"v\": 0.51}, {\"v\": 233.99}, {\"v\": 15.8}, {\"v\": 0.0}, {\"v\": 1.0}, {\"v\": 17.0}]}, {\"c\": [{\"v\": \"2006-12-16T17:33:00\"}, {\"v\": 3.662}, {\"v\": 0.51}, {\"v\": 233.86}, {\"v\": 15.8}, {\"v\": 0.0}, {\"v\": 2.0}, {\"v\": 16.0}]}, {\"c\": [{\"v\": \"2006-12-16T17:34:00\"}, {\"v\": 4.448}, {\"v\": 0.498}, {\"v\": 232.86}, {\"v\": 19.6}, {\"v\": 0.0}, {\"v\": 1.0}, {\"v\": 17.0}]}, {\"c\": [{\"v\": \"2006-12-16T17:35:00\"}, {\"v\": 5.412}, {\"v\": 0.47}, {\"v\": 232.78}, {\"v\": 23.2}, {\"v\": 0.0}, {\"v\": 1.0}, {\"v\": 17.0}]}, {\"c\": [{\"v\": \"2006-12-16T17:36:00\"}, {\"v\": 5.224}, {\"v\": 0.478}, {\"v\": 232.99}, {\"v\": 22.4}, {\"v\": 0.0}, {\"v\": 1.0}, {\"v\": 16.0}]}, {\"c\": [{\"v\": \"2006-12-16T17:37:00\"}, {\"v\": 5.268}, {\"v\": 0.398}, {\"v\": 232.91}, {\"v\": 22.6}, {\"v\": 0.0}, {\"v\": 2.0}, {\"v\": 17.0}]}, {\"c\": [{\"v\": \"2006-12-16T17:38:00\"}, {\"v\": 4.054}, {\"v\": 0.422}, {\"v\": 235.24}, {\"v\": 17.6}, {\"v\": 0.0}, {\"v\": 1.0}, {\"v\": 17.0}]}, {\"c\": [{\"v\": \"2006-12-16T17:39:00\"}, {\"v\": 3.384}, {\"v\": 0.282}, {\"v\": 237.14}, {\"v\": 14.2}, {\"v\": 0.0}, {\"v\": 0.0}, {\"v\": 17.0}]}, {\"c\": [{\"v\": \"2006-12-16T17:40:00\"}, {\"v\": 3.27}, {\"v\": 0.152}, {\"v\": 236.73}, {\"v\": 13.8}, {\"v\": 0.0}, {\"v\": 0.0}, {\"v\": 17.0}]}, {\"c\": [{\"v\": \"2006-12-16T17:41:00\"}, {\"v\": 3.43}, {\"v\": 0.156}, {\"v\": 237.06}, {\"v\": 14.4}, {\"v\": 0.0}, {\"v\": 0.0}, {\"v\": 17.0}]}, {\"c\": [{\"v\": \"2006-12-16T17:42:00\"}, {\"v\": 3.266}, {\"v\": 0.0}, {\"v\": 237.13}, {\"v\": 13.8}, {\"v\": 0.0}, {\"v\": 0.0}, {\"v\": 18.0}]}, {\"c\": [{\"v\": \"2006-12-16T17:43:00\"}, {\"v\": 3.728}, {\"v\": 0.0}, {\"v\": 235.84}, {\"v\": 16.4}, {\"v\": 0.0}, {\"v\": 0.0}, {\"v\": 17.0}]}, {\"c\": [{\"v\": \"2006-12-16T17:44:00\"}, {\"v\": 5.894}, {\"v\": 0.0}, {\"v\": 232.69}, {\"v\": 25.4}, {\"v\": 0.0}, {\"v\": 0.0}, {\"v\": 16.0}]}, {\"c\": [{\"v\": \"2006-12-16T17:45:00\"}, {\"v\": 7.706}, {\"v\": 0.0}, {\"v\": 230.98}, {\"v\": 33.2}, {\"v\": 0.0}, {\"v\": 0.0}, {\"v\": 17.0}]}, {\"c\": [{\"v\": \"2006-12-16T17:46:00\"}, {\"v\": 7.026}, {\"v\": 0.0}, {\"v\": 232.21}, {\"v\": 30.6}, {\"v\": 0.0}, {\"v\": 0.0}, {\"v\": 16.0}]}, {\"c\": [{\"v\": \"2006-12-16T17:47:00\"}, {\"v\": 5.174}, {\"v\": 0.0}, {\"v\": 234.19}, {\"v\": 22.0}, {\"v\": 0.0}, {\"v\": 0.0}, {\"v\": 17.0}]}, {\"c\": [{\"v\": \"2006-12-16T17:48:00\"}, {\"v\": 4.474}, {\"v\": 0.0}, {\"v\": 234.96}, {\"v\": 19.4}, {\"v\": 0.0}, {\"v\": 0.0}, {\"v\": 17.0}]}], \"cols\": [{\"type\": \"datetime\", \"id\": \"ts\", \"label\": \"ts\"}, {\"type\": \"number\", \"id\": \"global_active_power\", \"label\": \"global_active_power\"}, {\"type\": \"number\", \"id\": \"global_reactive_power\", \"label\": \"global_reactive_power\"}, {\"type\": \"number\", \"id\": \"voltage\", \"label\": \"voltage\"}, {\"type\": \"number\", \"id\": \"intensity\", \"label\": \"intensity\"}, {\"type\": \"number\", \"id\": \"sub_meter_1\", \"label\": \"sub_meter_1\"}, {\"type\": \"number\", \"id\": \"sub_meter_2\", \"label\": \"sub_meter_2\"}, {\"type\": \"number\", \"id\": \"sub_meter_3\", \"label\": \"sub_meter_3\"}]});\n",
       "        }\n",
       "      );\n",
       "    </script>\n",
       "  "
      ],
      "text/plain": [
       "QueryResultsTable job__7WGxwQeMA1jLfhlRheEMwKDQxo"
      ]
     },
     "execution_count": 118,
     "metadata": {},
     "output_type": "execute_result"
    }
   ],
   "source": [
    "raw_data_results = bq.Query(extraction.raw_data).results()\n",
    "raw_data_results"
   ]
  },
  {
   "cell_type": "code",
   "execution_count": 119,
   "metadata": {
    "collapsed": false
   },
   "outputs": [],
   "source": [
    "raw_data = raw_data_results.to_dataframe(start_row=0, max_rows=500000)"
   ]
  },
  {
   "cell_type": "code",
   "execution_count": 120,
   "metadata": {
    "collapsed": false
   },
   "outputs": [
    {
     "data": {
      "text/html": [
       "<div>\n",
       "<table border=\"1\" class=\"dataframe\">\n",
       "  <thead>\n",
       "    <tr style=\"text-align: right;\">\n",
       "      <th></th>\n",
       "      <th>ts</th>\n",
       "      <th>global_active_power</th>\n",
       "      <th>global_reactive_power</th>\n",
       "      <th>voltage</th>\n",
       "      <th>intensity</th>\n",
       "      <th>sub_meter_1</th>\n",
       "      <th>sub_meter_2</th>\n",
       "      <th>sub_meter_3</th>\n",
       "    </tr>\n",
       "  </thead>\n",
       "  <tbody>\n",
       "    <tr>\n",
       "      <th>0</th>\n",
       "      <td>2006-12-16 17:24:00</td>\n",
       "      <td>4.216</td>\n",
       "      <td>0.418</td>\n",
       "      <td>234.84</td>\n",
       "      <td>18.4</td>\n",
       "      <td>0</td>\n",
       "      <td>1</td>\n",
       "      <td>17</td>\n",
       "    </tr>\n",
       "    <tr>\n",
       "      <th>1</th>\n",
       "      <td>2006-12-16 17:25:00</td>\n",
       "      <td>5.360</td>\n",
       "      <td>0.436</td>\n",
       "      <td>233.63</td>\n",
       "      <td>23.0</td>\n",
       "      <td>0</td>\n",
       "      <td>1</td>\n",
       "      <td>16</td>\n",
       "    </tr>\n",
       "    <tr>\n",
       "      <th>2</th>\n",
       "      <td>2006-12-16 17:26:00</td>\n",
       "      <td>5.374</td>\n",
       "      <td>0.498</td>\n",
       "      <td>233.29</td>\n",
       "      <td>23.0</td>\n",
       "      <td>0</td>\n",
       "      <td>2</td>\n",
       "      <td>17</td>\n",
       "    </tr>\n",
       "    <tr>\n",
       "      <th>3</th>\n",
       "      <td>2006-12-16 17:27:00</td>\n",
       "      <td>5.388</td>\n",
       "      <td>0.502</td>\n",
       "      <td>233.74</td>\n",
       "      <td>23.0</td>\n",
       "      <td>0</td>\n",
       "      <td>1</td>\n",
       "      <td>17</td>\n",
       "    </tr>\n",
       "    <tr>\n",
       "      <th>4</th>\n",
       "      <td>2006-12-16 17:28:00</td>\n",
       "      <td>3.666</td>\n",
       "      <td>0.528</td>\n",
       "      <td>235.68</td>\n",
       "      <td>15.8</td>\n",
       "      <td>0</td>\n",
       "      <td>1</td>\n",
       "      <td>17</td>\n",
       "    </tr>\n",
       "    <tr>\n",
       "      <th>5</th>\n",
       "      <td>2006-12-16 17:29:00</td>\n",
       "      <td>3.520</td>\n",
       "      <td>0.522</td>\n",
       "      <td>235.02</td>\n",
       "      <td>15.0</td>\n",
       "      <td>0</td>\n",
       "      <td>2</td>\n",
       "      <td>17</td>\n",
       "    </tr>\n",
       "    <tr>\n",
       "      <th>6</th>\n",
       "      <td>2006-12-16 17:30:00</td>\n",
       "      <td>3.702</td>\n",
       "      <td>0.520</td>\n",
       "      <td>235.09</td>\n",
       "      <td>15.8</td>\n",
       "      <td>0</td>\n",
       "      <td>1</td>\n",
       "      <td>17</td>\n",
       "    </tr>\n",
       "    <tr>\n",
       "      <th>7</th>\n",
       "      <td>2006-12-16 17:31:00</td>\n",
       "      <td>3.700</td>\n",
       "      <td>0.520</td>\n",
       "      <td>235.22</td>\n",
       "      <td>15.8</td>\n",
       "      <td>0</td>\n",
       "      <td>1</td>\n",
       "      <td>17</td>\n",
       "    </tr>\n",
       "    <tr>\n",
       "      <th>8</th>\n",
       "      <td>2006-12-16 17:32:00</td>\n",
       "      <td>3.668</td>\n",
       "      <td>0.510</td>\n",
       "      <td>233.99</td>\n",
       "      <td>15.8</td>\n",
       "      <td>0</td>\n",
       "      <td>1</td>\n",
       "      <td>17</td>\n",
       "    </tr>\n",
       "    <tr>\n",
       "      <th>9</th>\n",
       "      <td>2006-12-16 17:33:00</td>\n",
       "      <td>3.662</td>\n",
       "      <td>0.510</td>\n",
       "      <td>233.86</td>\n",
       "      <td>15.8</td>\n",
       "      <td>0</td>\n",
       "      <td>2</td>\n",
       "      <td>16</td>\n",
       "    </tr>\n",
       "  </tbody>\n",
       "</table>\n",
       "</div>"
      ],
      "text/plain": [
       "                   ts  global_active_power  global_reactive_power  voltage  \\\n",
       "0 2006-12-16 17:24:00                4.216                  0.418   234.84   \n",
       "1 2006-12-16 17:25:00                5.360                  0.436   233.63   \n",
       "2 2006-12-16 17:26:00                5.374                  0.498   233.29   \n",
       "3 2006-12-16 17:27:00                5.388                  0.502   233.74   \n",
       "4 2006-12-16 17:28:00                3.666                  0.528   235.68   \n",
       "5 2006-12-16 17:29:00                3.520                  0.522   235.02   \n",
       "6 2006-12-16 17:30:00                3.702                  0.520   235.09   \n",
       "7 2006-12-16 17:31:00                3.700                  0.520   235.22   \n",
       "8 2006-12-16 17:32:00                3.668                  0.510   233.99   \n",
       "9 2006-12-16 17:33:00                3.662                  0.510   233.86   \n",
       "\n",
       "   intensity  sub_meter_1  sub_meter_2  sub_meter_3  \n",
       "0       18.4            0            1           17  \n",
       "1       23.0            0            1           16  \n",
       "2       23.0            0            2           17  \n",
       "3       23.0            0            1           17  \n",
       "4       15.8            0            1           17  \n",
       "5       15.0            0            2           17  \n",
       "6       15.8            0            1           17  \n",
       "7       15.8            0            1           17  \n",
       "8       15.8            0            1           17  \n",
       "9       15.8            0            2           16  "
      ]
     },
     "execution_count": 120,
     "metadata": {},
     "output_type": "execute_result"
    }
   ],
   "source": [
    "raw_data[:10]"
   ]
  },
  {
   "cell_type": "code",
   "execution_count": 121,
   "metadata": {
    "collapsed": false
   },
   "outputs": [
    {
     "data": {
      "text/html": [
       "<div>\n",
       "<table border=\"1\" class=\"dataframe\">\n",
       "  <thead>\n",
       "    <tr style=\"text-align: right;\">\n",
       "      <th></th>\n",
       "      <th>global_active_power</th>\n",
       "      <th>global_reactive_power</th>\n",
       "      <th>voltage</th>\n",
       "      <th>intensity</th>\n",
       "      <th>sub_meter_1</th>\n",
       "      <th>sub_meter_2</th>\n",
       "      <th>sub_meter_3</th>\n",
       "    </tr>\n",
       "    <tr>\n",
       "      <th>ts</th>\n",
       "      <th></th>\n",
       "      <th></th>\n",
       "      <th></th>\n",
       "      <th></th>\n",
       "      <th></th>\n",
       "      <th></th>\n",
       "      <th></th>\n",
       "    </tr>\n",
       "  </thead>\n",
       "  <tbody>\n",
       "    <tr>\n",
       "      <th>2006-12-16 17:24:00</th>\n",
       "      <td>4.216</td>\n",
       "      <td>0.418</td>\n",
       "      <td>234.84</td>\n",
       "      <td>18.4</td>\n",
       "      <td>0</td>\n",
       "      <td>1</td>\n",
       "      <td>17</td>\n",
       "    </tr>\n",
       "    <tr>\n",
       "      <th>2006-12-16 17:25:00</th>\n",
       "      <td>5.360</td>\n",
       "      <td>0.436</td>\n",
       "      <td>233.63</td>\n",
       "      <td>23.0</td>\n",
       "      <td>0</td>\n",
       "      <td>1</td>\n",
       "      <td>16</td>\n",
       "    </tr>\n",
       "    <tr>\n",
       "      <th>2006-12-16 17:26:00</th>\n",
       "      <td>5.374</td>\n",
       "      <td>0.498</td>\n",
       "      <td>233.29</td>\n",
       "      <td>23.0</td>\n",
       "      <td>0</td>\n",
       "      <td>2</td>\n",
       "      <td>17</td>\n",
       "    </tr>\n",
       "    <tr>\n",
       "      <th>2006-12-16 17:27:00</th>\n",
       "      <td>5.388</td>\n",
       "      <td>0.502</td>\n",
       "      <td>233.74</td>\n",
       "      <td>23.0</td>\n",
       "      <td>0</td>\n",
       "      <td>1</td>\n",
       "      <td>17</td>\n",
       "    </tr>\n",
       "    <tr>\n",
       "      <th>2006-12-16 17:28:00</th>\n",
       "      <td>3.666</td>\n",
       "      <td>0.528</td>\n",
       "      <td>235.68</td>\n",
       "      <td>15.8</td>\n",
       "      <td>0</td>\n",
       "      <td>1</td>\n",
       "      <td>17</td>\n",
       "    </tr>\n",
       "    <tr>\n",
       "      <th>2006-12-16 17:29:00</th>\n",
       "      <td>3.520</td>\n",
       "      <td>0.522</td>\n",
       "      <td>235.02</td>\n",
       "      <td>15.0</td>\n",
       "      <td>0</td>\n",
       "      <td>2</td>\n",
       "      <td>17</td>\n",
       "    </tr>\n",
       "    <tr>\n",
       "      <th>2006-12-16 17:30:00</th>\n",
       "      <td>3.702</td>\n",
       "      <td>0.520</td>\n",
       "      <td>235.09</td>\n",
       "      <td>15.8</td>\n",
       "      <td>0</td>\n",
       "      <td>1</td>\n",
       "      <td>17</td>\n",
       "    </tr>\n",
       "    <tr>\n",
       "      <th>2006-12-16 17:31:00</th>\n",
       "      <td>3.700</td>\n",
       "      <td>0.520</td>\n",
       "      <td>235.22</td>\n",
       "      <td>15.8</td>\n",
       "      <td>0</td>\n",
       "      <td>1</td>\n",
       "      <td>17</td>\n",
       "    </tr>\n",
       "    <tr>\n",
       "      <th>2006-12-16 17:32:00</th>\n",
       "      <td>3.668</td>\n",
       "      <td>0.510</td>\n",
       "      <td>233.99</td>\n",
       "      <td>15.8</td>\n",
       "      <td>0</td>\n",
       "      <td>1</td>\n",
       "      <td>17</td>\n",
       "    </tr>\n",
       "    <tr>\n",
       "      <th>2006-12-16 17:33:00</th>\n",
       "      <td>3.662</td>\n",
       "      <td>0.510</td>\n",
       "      <td>233.86</td>\n",
       "      <td>15.8</td>\n",
       "      <td>0</td>\n",
       "      <td>2</td>\n",
       "      <td>16</td>\n",
       "    </tr>\n",
       "  </tbody>\n",
       "</table>\n",
       "</div>"
      ],
      "text/plain": [
       "                     global_active_power  global_reactive_power  voltage  \\\n",
       "ts                                                                         \n",
       "2006-12-16 17:24:00                4.216                  0.418   234.84   \n",
       "2006-12-16 17:25:00                5.360                  0.436   233.63   \n",
       "2006-12-16 17:26:00                5.374                  0.498   233.29   \n",
       "2006-12-16 17:27:00                5.388                  0.502   233.74   \n",
       "2006-12-16 17:28:00                3.666                  0.528   235.68   \n",
       "2006-12-16 17:29:00                3.520                  0.522   235.02   \n",
       "2006-12-16 17:30:00                3.702                  0.520   235.09   \n",
       "2006-12-16 17:31:00                3.700                  0.520   235.22   \n",
       "2006-12-16 17:32:00                3.668                  0.510   233.99   \n",
       "2006-12-16 17:33:00                3.662                  0.510   233.86   \n",
       "\n",
       "                     intensity  sub_meter_1  sub_meter_2  sub_meter_3  \n",
       "ts                                                                     \n",
       "2006-12-16 17:24:00       18.4            0            1           17  \n",
       "2006-12-16 17:25:00       23.0            0            1           16  \n",
       "2006-12-16 17:26:00       23.0            0            2           17  \n",
       "2006-12-16 17:27:00       23.0            0            1           17  \n",
       "2006-12-16 17:28:00       15.8            0            1           17  \n",
       "2006-12-16 17:29:00       15.0            0            2           17  \n",
       "2006-12-16 17:30:00       15.8            0            1           17  \n",
       "2006-12-16 17:31:00       15.8            0            1           17  \n",
       "2006-12-16 17:32:00       15.8            0            1           17  \n",
       "2006-12-16 17:33:00       15.8            0            2           16  "
      ]
     },
     "execution_count": 121,
     "metadata": {},
     "output_type": "execute_result"
    }
   ],
   "source": [
    "training_data = raw_data.set_index('ts')\n",
    "training_data = training_data.resample('T', fill_method='ffill')\n",
    "training_data[:10]"
   ]
  },
  {
   "cell_type": "code",
   "execution_count": 122,
   "metadata": {
    "collapsed": false
   },
   "outputs": [
    {
     "data": {
      "text/html": [
       "<div>\n",
       "<table border=\"1\" class=\"dataframe\">\n",
       "  <thead>\n",
       "    <tr style=\"text-align: right;\">\n",
       "      <th></th>\n",
       "      <th>global_active_power</th>\n",
       "      <th>global_reactive_power</th>\n",
       "      <th>voltage</th>\n",
       "      <th>intensity</th>\n",
       "      <th>sub_meter_1</th>\n",
       "      <th>sub_meter_2</th>\n",
       "      <th>sub_meter_3</th>\n",
       "    </tr>\n",
       "  </thead>\n",
       "  <tbody>\n",
       "    <tr>\n",
       "      <th>count</th>\n",
       "      <td>503934.000000</td>\n",
       "      <td>503934.000000</td>\n",
       "      <td>503934.000000</td>\n",
       "      <td>503934.000000</td>\n",
       "      <td>503934.000000</td>\n",
       "      <td>503934.000000</td>\n",
       "      <td>503934.000000</td>\n",
       "    </tr>\n",
       "    <tr>\n",
       "      <th>mean</th>\n",
       "      <td>1.102239</td>\n",
       "      <td>0.119368</td>\n",
       "      <td>239.246652</td>\n",
       "      <td>4.709258</td>\n",
       "      <td>1.193035</td>\n",
       "      <td>1.628064</td>\n",
       "      <td>5.622516</td>\n",
       "    </tr>\n",
       "    <tr>\n",
       "      <th>std</th>\n",
       "      <td>1.154515</td>\n",
       "      <td>0.108522</td>\n",
       "      <td>3.520858</td>\n",
       "      <td>4.874406</td>\n",
       "      <td>6.358307</td>\n",
       "      <td>6.671764</td>\n",
       "      <td>8.112673</td>\n",
       "    </tr>\n",
       "    <tr>\n",
       "      <th>min</th>\n",
       "      <td>0.082000</td>\n",
       "      <td>0.000000</td>\n",
       "      <td>223.490000</td>\n",
       "      <td>0.400000</td>\n",
       "      <td>0.000000</td>\n",
       "      <td>0.000000</td>\n",
       "      <td>0.000000</td>\n",
       "    </tr>\n",
       "    <tr>\n",
       "      <th>25%</th>\n",
       "      <td>0.276000</td>\n",
       "      <td>0.000000</td>\n",
       "      <td>236.760000</td>\n",
       "      <td>1.200000</td>\n",
       "      <td>0.000000</td>\n",
       "      <td>0.000000</td>\n",
       "      <td>0.000000</td>\n",
       "    </tr>\n",
       "    <tr>\n",
       "      <th>50%</th>\n",
       "      <td>0.492000</td>\n",
       "      <td>0.102000</td>\n",
       "      <td>239.620000</td>\n",
       "      <td>2.200000</td>\n",
       "      <td>0.000000</td>\n",
       "      <td>0.000000</td>\n",
       "      <td>0.000000</td>\n",
       "    </tr>\n",
       "    <tr>\n",
       "      <th>75%</th>\n",
       "      <td>1.534000</td>\n",
       "      <td>0.190000</td>\n",
       "      <td>241.720000</td>\n",
       "      <td>6.400000</td>\n",
       "      <td>0.000000</td>\n",
       "      <td>1.000000</td>\n",
       "      <td>17.000000</td>\n",
       "    </tr>\n",
       "    <tr>\n",
       "      <th>max</th>\n",
       "      <td>10.670000</td>\n",
       "      <td>1.148000</td>\n",
       "      <td>251.700000</td>\n",
       "      <td>46.400000</td>\n",
       "      <td>78.000000</td>\n",
       "      <td>78.000000</td>\n",
       "      <td>20.000000</td>\n",
       "    </tr>\n",
       "  </tbody>\n",
       "</table>\n",
       "</div>"
      ],
      "text/plain": [
       "       global_active_power  global_reactive_power        voltage  \\\n",
       "count        503934.000000          503934.000000  503934.000000   \n",
       "mean              1.102239               0.119368     239.246652   \n",
       "std               1.154515               0.108522       3.520858   \n",
       "min               0.082000               0.000000     223.490000   \n",
       "25%               0.276000               0.000000     236.760000   \n",
       "50%               0.492000               0.102000     239.620000   \n",
       "75%               1.534000               0.190000     241.720000   \n",
       "max              10.670000               1.148000     251.700000   \n",
       "\n",
       "           intensity    sub_meter_1    sub_meter_2    sub_meter_3  \n",
       "count  503934.000000  503934.000000  503934.000000  503934.000000  \n",
       "mean        4.709258       1.193035       1.628064       5.622516  \n",
       "std         4.874406       6.358307       6.671764       8.112673  \n",
       "min         0.400000       0.000000       0.000000       0.000000  \n",
       "25%         1.200000       0.000000       0.000000       0.000000  \n",
       "50%         2.200000       0.000000       0.000000       0.000000  \n",
       "75%         6.400000       0.000000       1.000000      17.000000  \n",
       "max        46.400000      78.000000      78.000000      20.000000  "
      ]
     },
     "execution_count": 122,
     "metadata": {},
     "output_type": "execute_result"
    }
   ],
   "source": [
    "training_data.describe()"
   ]
  },
  {
   "cell_type": "code",
   "execution_count": 123,
   "metadata": {
    "collapsed": false
   },
   "outputs": [
    {
     "data": {
      "text/plain": [
       "'_ = training_data.plot(figsize=(20, 15))'"
      ]
     },
     "execution_count": 123,
     "metadata": {},
     "output_type": "execute_result"
    }
   ],
   "source": [
    "'''_ = training_data.plot(figsize=(20, 15))'''"
   ]
  },
  {
   "cell_type": "code",
   "execution_count": 124,
   "metadata": {
    "collapsed": false
   },
   "outputs": [
    {
     "data": {
      "text/plain": [
       "'_ = training_data.global_active_power.plot(figsize=(20, 15))'"
      ]
     },
     "execution_count": 124,
     "metadata": {},
     "output_type": "execute_result"
    }
   ],
   "source": [
    "'''_ = training_data.global_active_power.plot(figsize=(20, 15))'''"
   ]
  },
  {
   "cell_type": "code",
   "execution_count": 125,
   "metadata": {
    "collapsed": false
   },
   "outputs": [
    {
     "data": {
      "text/plain": [
       "'_ = training_data.global_reactive_power.plot(figsize=(20, 15))'"
      ]
     },
     "execution_count": 125,
     "metadata": {},
     "output_type": "execute_result"
    }
   ],
   "source": [
    "'''_ = training_data.global_reactive_power.plot(figsize=(20, 15))'''"
   ]
  },
  {
   "cell_type": "code",
   "execution_count": 126,
   "metadata": {
    "collapsed": false
   },
   "outputs": [
    {
     "data": {
      "text/plain": [
       "'_ = training_data.voltage.plot(figsize=(20, 15))'"
      ]
     },
     "execution_count": 126,
     "metadata": {},
     "output_type": "execute_result"
    }
   ],
   "source": [
    "'''_ = training_data.voltage.plot(figsize=(20, 15))'''"
   ]
  },
  {
   "cell_type": "code",
   "execution_count": 127,
   "metadata": {
    "collapsed": false
   },
   "outputs": [
    {
     "data": {
      "text/plain": [
       "'_ = training_data.intensity.plot(figsize=(20, 15))'"
      ]
     },
     "execution_count": 127,
     "metadata": {},
     "output_type": "execute_result"
    }
   ],
   "source": [
    "'''_ = training_data.intensity.plot(figsize=(20, 15))'''"
   ]
  },
  {
   "cell_type": "code",
   "execution_count": 128,
   "metadata": {
    "collapsed": false
   },
   "outputs": [
    {
     "data": {
      "text/plain": [
       "'_ = training_data.sub_meter_1.plot(figsize=(20, 15))'"
      ]
     },
     "execution_count": 128,
     "metadata": {},
     "output_type": "execute_result"
    }
   ],
   "source": [
    "'''_ = training_data.sub_meter_1.plot(figsize=(20, 15))'''"
   ]
  },
  {
   "cell_type": "code",
   "execution_count": 129,
   "metadata": {
    "collapsed": false
   },
   "outputs": [
    {
     "data": {
      "text/plain": [
       "'_ = training_data.sub_meter_2.plot(figsize=(20, 15))'"
      ]
     },
     "execution_count": 129,
     "metadata": {},
     "output_type": "execute_result"
    }
   ],
   "source": [
    "'''_ = training_data.sub_meter_2.plot(figsize=(20, 15))'''"
   ]
  },
  {
   "cell_type": "code",
   "execution_count": 130,
   "metadata": {
    "collapsed": false
   },
   "outputs": [
    {
     "data": {
      "text/plain": [
       "'_ = training_data.sub_meter_3.plot(figsize=(20, 15))'"
      ]
     },
     "execution_count": 130,
     "metadata": {},
     "output_type": "execute_result"
    }
   ],
   "source": [
    "'''_ = training_data.sub_meter_3.plot(figsize=(20, 15))'''"
   ]
  },
  {
   "cell_type": "code",
   "execution_count": 131,
   "metadata": {
    "collapsed": false
   },
   "outputs": [
    {
     "data": {
      "text/plain": [
       "\"_ = training_data.sub_meter_1.plot(figsize=(20, 15), label='sub_meter_1')\\n_ = training_data.sub_meter_2.plot(figsize=(20, 15), label='sub_meter_2')\\n_ = training_data.sub_meter_3.plot(figsize=(20, 15), label='sub_meter_3')\\n_ = plt.legend(loc='upper right')\""
      ]
     },
     "execution_count": 131,
     "metadata": {},
     "output_type": "execute_result"
    }
   ],
   "source": [
    "'''_ = training_data.sub_meter_1.plot(figsize=(20, 15), label='sub_meter_1')\n",
    "_ = training_data.sub_meter_2.plot(figsize=(20, 15), label='sub_meter_2')\n",
    "_ = training_data.sub_meter_3.plot(figsize=(20, 15), label='sub_meter_3')\n",
    "_ = plt.legend(loc='upper right')'''"
   ]
  },
  {
   "cell_type": "code",
   "execution_count": 132,
   "metadata": {
    "collapsed": false
   },
   "outputs": [
    {
     "data": {
      "text/plain": [
       "'training_data.corr()'"
      ]
     },
     "execution_count": 132,
     "metadata": {},
     "output_type": "execute_result"
    }
   ],
   "source": [
    "'''training_data.corr()'''"
   ]
  },
  {
   "cell_type": "code",
   "execution_count": 133,
   "metadata": {
    "collapsed": false
   },
   "outputs": [
    {
     "data": {
      "text/plain": [
       "\"_ = scatter_matrix(training_data, figsize=(20, 20), diagonal='kde')\""
      ]
     },
     "execution_count": 133,
     "metadata": {},
     "output_type": "execute_result"
    }
   ],
   "source": [
    "'''_ = scatter_matrix(training_data, figsize=(20, 20), diagonal='kde')'''"
   ]
  },
  {
   "cell_type": "code",
   "execution_count": 134,
   "metadata": {
    "collapsed": true
   },
   "outputs": [],
   "source": [
    "training_data_processed = training_data.copy()"
   ]
  },
  {
   "cell_type": "code",
   "execution_count": 135,
   "metadata": {
    "collapsed": false
   },
   "outputs": [
    {
     "data": {
      "text/html": [
       "<div>\n",
       "<table border=\"1\" class=\"dataframe\">\n",
       "  <thead>\n",
       "    <tr style=\"text-align: right;\">\n",
       "      <th></th>\n",
       "      <th>global_active_power</th>\n",
       "      <th>global_reactive_power</th>\n",
       "      <th>voltage</th>\n",
       "      <th>intensity</th>\n",
       "      <th>sub_meter_1</th>\n",
       "      <th>sub_meter_2</th>\n",
       "      <th>sub_meter_3</th>\n",
       "      <th>global_active_power_w_hr</th>\n",
       "      <th>global_reactive_power_w_hr</th>\n",
       "    </tr>\n",
       "    <tr>\n",
       "      <th>ts</th>\n",
       "      <th></th>\n",
       "      <th></th>\n",
       "      <th></th>\n",
       "      <th></th>\n",
       "      <th></th>\n",
       "      <th></th>\n",
       "      <th></th>\n",
       "      <th></th>\n",
       "      <th></th>\n",
       "    </tr>\n",
       "  </thead>\n",
       "  <tbody>\n",
       "    <tr>\n",
       "      <th>2006-12-16 17:24:00</th>\n",
       "      <td>4.216</td>\n",
       "      <td>0.418</td>\n",
       "      <td>234.84</td>\n",
       "      <td>18.4</td>\n",
       "      <td>0</td>\n",
       "      <td>1</td>\n",
       "      <td>17</td>\n",
       "      <td>70.266667</td>\n",
       "      <td>6.966667</td>\n",
       "    </tr>\n",
       "    <tr>\n",
       "      <th>2006-12-16 17:25:00</th>\n",
       "      <td>5.360</td>\n",
       "      <td>0.436</td>\n",
       "      <td>233.63</td>\n",
       "      <td>23.0</td>\n",
       "      <td>0</td>\n",
       "      <td>1</td>\n",
       "      <td>16</td>\n",
       "      <td>89.333333</td>\n",
       "      <td>7.266667</td>\n",
       "    </tr>\n",
       "    <tr>\n",
       "      <th>2006-12-16 17:26:00</th>\n",
       "      <td>5.374</td>\n",
       "      <td>0.498</td>\n",
       "      <td>233.29</td>\n",
       "      <td>23.0</td>\n",
       "      <td>0</td>\n",
       "      <td>2</td>\n",
       "      <td>17</td>\n",
       "      <td>89.566667</td>\n",
       "      <td>8.300000</td>\n",
       "    </tr>\n",
       "    <tr>\n",
       "      <th>2006-12-16 17:27:00</th>\n",
       "      <td>5.388</td>\n",
       "      <td>0.502</td>\n",
       "      <td>233.74</td>\n",
       "      <td>23.0</td>\n",
       "      <td>0</td>\n",
       "      <td>1</td>\n",
       "      <td>17</td>\n",
       "      <td>89.800000</td>\n",
       "      <td>8.366667</td>\n",
       "    </tr>\n",
       "    <tr>\n",
       "      <th>2006-12-16 17:28:00</th>\n",
       "      <td>3.666</td>\n",
       "      <td>0.528</td>\n",
       "      <td>235.68</td>\n",
       "      <td>15.8</td>\n",
       "      <td>0</td>\n",
       "      <td>1</td>\n",
       "      <td>17</td>\n",
       "      <td>61.100000</td>\n",
       "      <td>8.800000</td>\n",
       "    </tr>\n",
       "    <tr>\n",
       "      <th>2006-12-16 17:29:00</th>\n",
       "      <td>3.520</td>\n",
       "      <td>0.522</td>\n",
       "      <td>235.02</td>\n",
       "      <td>15.0</td>\n",
       "      <td>0</td>\n",
       "      <td>2</td>\n",
       "      <td>17</td>\n",
       "      <td>58.666667</td>\n",
       "      <td>8.700000</td>\n",
       "    </tr>\n",
       "    <tr>\n",
       "      <th>2006-12-16 17:30:00</th>\n",
       "      <td>3.702</td>\n",
       "      <td>0.520</td>\n",
       "      <td>235.09</td>\n",
       "      <td>15.8</td>\n",
       "      <td>0</td>\n",
       "      <td>1</td>\n",
       "      <td>17</td>\n",
       "      <td>61.700000</td>\n",
       "      <td>8.666667</td>\n",
       "    </tr>\n",
       "    <tr>\n",
       "      <th>2006-12-16 17:31:00</th>\n",
       "      <td>3.700</td>\n",
       "      <td>0.520</td>\n",
       "      <td>235.22</td>\n",
       "      <td>15.8</td>\n",
       "      <td>0</td>\n",
       "      <td>1</td>\n",
       "      <td>17</td>\n",
       "      <td>61.666667</td>\n",
       "      <td>8.666667</td>\n",
       "    </tr>\n",
       "    <tr>\n",
       "      <th>2006-12-16 17:32:00</th>\n",
       "      <td>3.668</td>\n",
       "      <td>0.510</td>\n",
       "      <td>233.99</td>\n",
       "      <td>15.8</td>\n",
       "      <td>0</td>\n",
       "      <td>1</td>\n",
       "      <td>17</td>\n",
       "      <td>61.133333</td>\n",
       "      <td>8.500000</td>\n",
       "    </tr>\n",
       "    <tr>\n",
       "      <th>2006-12-16 17:33:00</th>\n",
       "      <td>3.662</td>\n",
       "      <td>0.510</td>\n",
       "      <td>233.86</td>\n",
       "      <td>15.8</td>\n",
       "      <td>0</td>\n",
       "      <td>2</td>\n",
       "      <td>16</td>\n",
       "      <td>61.033333</td>\n",
       "      <td>8.500000</td>\n",
       "    </tr>\n",
       "  </tbody>\n",
       "</table>\n",
       "</div>"
      ],
      "text/plain": [
       "                     global_active_power  global_reactive_power  voltage  \\\n",
       "ts                                                                         \n",
       "2006-12-16 17:24:00                4.216                  0.418   234.84   \n",
       "2006-12-16 17:25:00                5.360                  0.436   233.63   \n",
       "2006-12-16 17:26:00                5.374                  0.498   233.29   \n",
       "2006-12-16 17:27:00                5.388                  0.502   233.74   \n",
       "2006-12-16 17:28:00                3.666                  0.528   235.68   \n",
       "2006-12-16 17:29:00                3.520                  0.522   235.02   \n",
       "2006-12-16 17:30:00                3.702                  0.520   235.09   \n",
       "2006-12-16 17:31:00                3.700                  0.520   235.22   \n",
       "2006-12-16 17:32:00                3.668                  0.510   233.99   \n",
       "2006-12-16 17:33:00                3.662                  0.510   233.86   \n",
       "\n",
       "                     intensity  sub_meter_1  sub_meter_2  sub_meter_3  \\\n",
       "ts                                                                      \n",
       "2006-12-16 17:24:00       18.4            0            1           17   \n",
       "2006-12-16 17:25:00       23.0            0            1           16   \n",
       "2006-12-16 17:26:00       23.0            0            2           17   \n",
       "2006-12-16 17:27:00       23.0            0            1           17   \n",
       "2006-12-16 17:28:00       15.8            0            1           17   \n",
       "2006-12-16 17:29:00       15.0            0            2           17   \n",
       "2006-12-16 17:30:00       15.8            0            1           17   \n",
       "2006-12-16 17:31:00       15.8            0            1           17   \n",
       "2006-12-16 17:32:00       15.8            0            1           17   \n",
       "2006-12-16 17:33:00       15.8            0            2           16   \n",
       "\n",
       "                     global_active_power_w_hr  global_reactive_power_w_hr  \n",
       "ts                                                                         \n",
       "2006-12-16 17:24:00                 70.266667                    6.966667  \n",
       "2006-12-16 17:25:00                 89.333333                    7.266667  \n",
       "2006-12-16 17:26:00                 89.566667                    8.300000  \n",
       "2006-12-16 17:27:00                 89.800000                    8.366667  \n",
       "2006-12-16 17:28:00                 61.100000                    8.800000  \n",
       "2006-12-16 17:29:00                 58.666667                    8.700000  \n",
       "2006-12-16 17:30:00                 61.700000                    8.666667  \n",
       "2006-12-16 17:31:00                 61.666667                    8.666667  \n",
       "2006-12-16 17:32:00                 61.133333                    8.500000  \n",
       "2006-12-16 17:33:00                 61.033333                    8.500000  "
      ]
     },
     "execution_count": 135,
     "metadata": {},
     "output_type": "execute_result"
    }
   ],
   "source": [
    "training_data_processed['global_active_power_w_hr'] = (training_data_processed.global_active_power * 1000) / 60\n",
    "training_data_processed['global_reactive_power_w_hr'] = (training_data_processed.global_reactive_power * 1000) / 60\n",
    "training_data_processed[:10]"
   ]
  },
  {
   "cell_type": "code",
   "execution_count": 136,
   "metadata": {
    "collapsed": false
   },
   "outputs": [
    {
     "data": {
      "text/html": [
       "<div>\n",
       "<table border=\"1\" class=\"dataframe\">\n",
       "  <thead>\n",
       "    <tr style=\"text-align: right;\">\n",
       "      <th></th>\n",
       "      <th>global_active_power</th>\n",
       "      <th>global_reactive_power</th>\n",
       "      <th>voltage</th>\n",
       "      <th>intensity</th>\n",
       "      <th>sub_meter_1</th>\n",
       "      <th>sub_meter_2</th>\n",
       "      <th>sub_meter_3</th>\n",
       "      <th>global_active_power_w_hr</th>\n",
       "      <th>global_reactive_power_w_hr</th>\n",
       "      <th>rest_of_home_pseudo_sub_meter</th>\n",
       "    </tr>\n",
       "    <tr>\n",
       "      <th>ts</th>\n",
       "      <th></th>\n",
       "      <th></th>\n",
       "      <th></th>\n",
       "      <th></th>\n",
       "      <th></th>\n",
       "      <th></th>\n",
       "      <th></th>\n",
       "      <th></th>\n",
       "      <th></th>\n",
       "      <th></th>\n",
       "    </tr>\n",
       "  </thead>\n",
       "  <tbody>\n",
       "    <tr>\n",
       "      <th>2006-12-16 17:24:00</th>\n",
       "      <td>4.216</td>\n",
       "      <td>0.418</td>\n",
       "      <td>234.84</td>\n",
       "      <td>18.4</td>\n",
       "      <td>0</td>\n",
       "      <td>1</td>\n",
       "      <td>17</td>\n",
       "      <td>70.266667</td>\n",
       "      <td>6.966667</td>\n",
       "      <td>52.266667</td>\n",
       "    </tr>\n",
       "    <tr>\n",
       "      <th>2006-12-16 17:25:00</th>\n",
       "      <td>5.360</td>\n",
       "      <td>0.436</td>\n",
       "      <td>233.63</td>\n",
       "      <td>23.0</td>\n",
       "      <td>0</td>\n",
       "      <td>1</td>\n",
       "      <td>16</td>\n",
       "      <td>89.333333</td>\n",
       "      <td>7.266667</td>\n",
       "      <td>72.333333</td>\n",
       "    </tr>\n",
       "    <tr>\n",
       "      <th>2006-12-16 17:26:00</th>\n",
       "      <td>5.374</td>\n",
       "      <td>0.498</td>\n",
       "      <td>233.29</td>\n",
       "      <td>23.0</td>\n",
       "      <td>0</td>\n",
       "      <td>2</td>\n",
       "      <td>17</td>\n",
       "      <td>89.566667</td>\n",
       "      <td>8.300000</td>\n",
       "      <td>70.566667</td>\n",
       "    </tr>\n",
       "    <tr>\n",
       "      <th>2006-12-16 17:27:00</th>\n",
       "      <td>5.388</td>\n",
       "      <td>0.502</td>\n",
       "      <td>233.74</td>\n",
       "      <td>23.0</td>\n",
       "      <td>0</td>\n",
       "      <td>1</td>\n",
       "      <td>17</td>\n",
       "      <td>89.800000</td>\n",
       "      <td>8.366667</td>\n",
       "      <td>71.800000</td>\n",
       "    </tr>\n",
       "    <tr>\n",
       "      <th>2006-12-16 17:28:00</th>\n",
       "      <td>3.666</td>\n",
       "      <td>0.528</td>\n",
       "      <td>235.68</td>\n",
       "      <td>15.8</td>\n",
       "      <td>0</td>\n",
       "      <td>1</td>\n",
       "      <td>17</td>\n",
       "      <td>61.100000</td>\n",
       "      <td>8.800000</td>\n",
       "      <td>43.100000</td>\n",
       "    </tr>\n",
       "    <tr>\n",
       "      <th>2006-12-16 17:29:00</th>\n",
       "      <td>3.520</td>\n",
       "      <td>0.522</td>\n",
       "      <td>235.02</td>\n",
       "      <td>15.0</td>\n",
       "      <td>0</td>\n",
       "      <td>2</td>\n",
       "      <td>17</td>\n",
       "      <td>58.666667</td>\n",
       "      <td>8.700000</td>\n",
       "      <td>39.666667</td>\n",
       "    </tr>\n",
       "    <tr>\n",
       "      <th>2006-12-16 17:30:00</th>\n",
       "      <td>3.702</td>\n",
       "      <td>0.520</td>\n",
       "      <td>235.09</td>\n",
       "      <td>15.8</td>\n",
       "      <td>0</td>\n",
       "      <td>1</td>\n",
       "      <td>17</td>\n",
       "      <td>61.700000</td>\n",
       "      <td>8.666667</td>\n",
       "      <td>43.700000</td>\n",
       "    </tr>\n",
       "    <tr>\n",
       "      <th>2006-12-16 17:31:00</th>\n",
       "      <td>3.700</td>\n",
       "      <td>0.520</td>\n",
       "      <td>235.22</td>\n",
       "      <td>15.8</td>\n",
       "      <td>0</td>\n",
       "      <td>1</td>\n",
       "      <td>17</td>\n",
       "      <td>61.666667</td>\n",
       "      <td>8.666667</td>\n",
       "      <td>43.666667</td>\n",
       "    </tr>\n",
       "    <tr>\n",
       "      <th>2006-12-16 17:32:00</th>\n",
       "      <td>3.668</td>\n",
       "      <td>0.510</td>\n",
       "      <td>233.99</td>\n",
       "      <td>15.8</td>\n",
       "      <td>0</td>\n",
       "      <td>1</td>\n",
       "      <td>17</td>\n",
       "      <td>61.133333</td>\n",
       "      <td>8.500000</td>\n",
       "      <td>43.133333</td>\n",
       "    </tr>\n",
       "    <tr>\n",
       "      <th>2006-12-16 17:33:00</th>\n",
       "      <td>3.662</td>\n",
       "      <td>0.510</td>\n",
       "      <td>233.86</td>\n",
       "      <td>15.8</td>\n",
       "      <td>0</td>\n",
       "      <td>2</td>\n",
       "      <td>16</td>\n",
       "      <td>61.033333</td>\n",
       "      <td>8.500000</td>\n",
       "      <td>43.033333</td>\n",
       "    </tr>\n",
       "  </tbody>\n",
       "</table>\n",
       "</div>"
      ],
      "text/plain": [
       "                     global_active_power  global_reactive_power  voltage  \\\n",
       "ts                                                                         \n",
       "2006-12-16 17:24:00                4.216                  0.418   234.84   \n",
       "2006-12-16 17:25:00                5.360                  0.436   233.63   \n",
       "2006-12-16 17:26:00                5.374                  0.498   233.29   \n",
       "2006-12-16 17:27:00                5.388                  0.502   233.74   \n",
       "2006-12-16 17:28:00                3.666                  0.528   235.68   \n",
       "2006-12-16 17:29:00                3.520                  0.522   235.02   \n",
       "2006-12-16 17:30:00                3.702                  0.520   235.09   \n",
       "2006-12-16 17:31:00                3.700                  0.520   235.22   \n",
       "2006-12-16 17:32:00                3.668                  0.510   233.99   \n",
       "2006-12-16 17:33:00                3.662                  0.510   233.86   \n",
       "\n",
       "                     intensity  sub_meter_1  sub_meter_2  sub_meter_3  \\\n",
       "ts                                                                      \n",
       "2006-12-16 17:24:00       18.4            0            1           17   \n",
       "2006-12-16 17:25:00       23.0            0            1           16   \n",
       "2006-12-16 17:26:00       23.0            0            2           17   \n",
       "2006-12-16 17:27:00       23.0            0            1           17   \n",
       "2006-12-16 17:28:00       15.8            0            1           17   \n",
       "2006-12-16 17:29:00       15.0            0            2           17   \n",
       "2006-12-16 17:30:00       15.8            0            1           17   \n",
       "2006-12-16 17:31:00       15.8            0            1           17   \n",
       "2006-12-16 17:32:00       15.8            0            1           17   \n",
       "2006-12-16 17:33:00       15.8            0            2           16   \n",
       "\n",
       "                     global_active_power_w_hr  global_reactive_power_w_hr  \\\n",
       "ts                                                                          \n",
       "2006-12-16 17:24:00                 70.266667                    6.966667   \n",
       "2006-12-16 17:25:00                 89.333333                    7.266667   \n",
       "2006-12-16 17:26:00                 89.566667                    8.300000   \n",
       "2006-12-16 17:27:00                 89.800000                    8.366667   \n",
       "2006-12-16 17:28:00                 61.100000                    8.800000   \n",
       "2006-12-16 17:29:00                 58.666667                    8.700000   \n",
       "2006-12-16 17:30:00                 61.700000                    8.666667   \n",
       "2006-12-16 17:31:00                 61.666667                    8.666667   \n",
       "2006-12-16 17:32:00                 61.133333                    8.500000   \n",
       "2006-12-16 17:33:00                 61.033333                    8.500000   \n",
       "\n",
       "                     rest_of_home_pseudo_sub_meter  \n",
       "ts                                                  \n",
       "2006-12-16 17:24:00                      52.266667  \n",
       "2006-12-16 17:25:00                      72.333333  \n",
       "2006-12-16 17:26:00                      70.566667  \n",
       "2006-12-16 17:27:00                      71.800000  \n",
       "2006-12-16 17:28:00                      43.100000  \n",
       "2006-12-16 17:29:00                      39.666667  \n",
       "2006-12-16 17:30:00                      43.700000  \n",
       "2006-12-16 17:31:00                      43.666667  \n",
       "2006-12-16 17:32:00                      43.133333  \n",
       "2006-12-16 17:33:00                      43.033333  "
      ]
     },
     "execution_count": 136,
     "metadata": {},
     "output_type": "execute_result"
    }
   ],
   "source": [
    "training_data_processed['rest_of_home_pseudo_sub_meter'] = \\\n",
    "  training_data_processed.global_active_power_w_hr \\\n",
    "  - training_data_processed.sub_meter_1 \\\n",
    "  - training_data_processed.sub_meter_2 \\\n",
    "  - training_data_processed.sub_meter_3\n",
    "training_data_processed[:10]"
   ]
  },
  {
   "cell_type": "code",
   "execution_count": 137,
   "metadata": {
    "collapsed": false
   },
   "outputs": [
    {
     "data": {
      "text/html": [
       "<div>\n",
       "<table border=\"1\" class=\"dataframe\">\n",
       "  <thead>\n",
       "    <tr style=\"text-align: right;\">\n",
       "      <th></th>\n",
       "      <th>global_active_power</th>\n",
       "      <th>global_reactive_power</th>\n",
       "      <th>voltage</th>\n",
       "      <th>intensity</th>\n",
       "      <th>sub_meter_1</th>\n",
       "      <th>sub_meter_2</th>\n",
       "      <th>sub_meter_3</th>\n",
       "      <th>rest_of_home_pseudo_sub_meter</th>\n",
       "    </tr>\n",
       "  </thead>\n",
       "  <tbody>\n",
       "    <tr>\n",
       "      <th>count</th>\n",
       "      <td>503934.000000</td>\n",
       "      <td>503934.000000</td>\n",
       "      <td>503934.000000</td>\n",
       "      <td>503934.000000</td>\n",
       "      <td>503934.000000</td>\n",
       "      <td>503934.000000</td>\n",
       "      <td>503934.000000</td>\n",
       "      <td>503934.000000</td>\n",
       "    </tr>\n",
       "    <tr>\n",
       "      <th>mean</th>\n",
       "      <td>0.096358</td>\n",
       "      <td>0.103979</td>\n",
       "      <td>0.558548</td>\n",
       "      <td>0.093680</td>\n",
       "      <td>0.015295</td>\n",
       "      <td>0.020873</td>\n",
       "      <td>0.281126</td>\n",
       "      <td>0.096885</td>\n",
       "    </tr>\n",
       "    <tr>\n",
       "      <th>std</th>\n",
       "      <td>0.109040</td>\n",
       "      <td>0.094531</td>\n",
       "      <td>0.124809</td>\n",
       "      <td>0.105965</td>\n",
       "      <td>0.081517</td>\n",
       "      <td>0.085535</td>\n",
       "      <td>0.405634</td>\n",
       "      <td>0.087019</td>\n",
       "    </tr>\n",
       "    <tr>\n",
       "      <th>min</th>\n",
       "      <td>0.000000</td>\n",
       "      <td>0.000000</td>\n",
       "      <td>0.000000</td>\n",
       "      <td>0.000000</td>\n",
       "      <td>0.000000</td>\n",
       "      <td>0.000000</td>\n",
       "      <td>0.000000</td>\n",
       "      <td>0.000000</td>\n",
       "    </tr>\n",
       "    <tr>\n",
       "      <th>25%</th>\n",
       "      <td>0.018323</td>\n",
       "      <td>0.000000</td>\n",
       "      <td>0.470401</td>\n",
       "      <td>0.017391</td>\n",
       "      <td>0.000000</td>\n",
       "      <td>0.000000</td>\n",
       "      <td>0.000000</td>\n",
       "      <td>0.048205</td>\n",
       "    </tr>\n",
       "    <tr>\n",
       "      <th>50%</th>\n",
       "      <td>0.038723</td>\n",
       "      <td>0.088850</td>\n",
       "      <td>0.571783</td>\n",
       "      <td>0.039130</td>\n",
       "      <td>0.000000</td>\n",
       "      <td>0.000000</td>\n",
       "      <td>0.000000</td>\n",
       "      <td>0.060781</td>\n",
       "    </tr>\n",
       "    <tr>\n",
       "      <th>75%</th>\n",
       "      <td>0.137136</td>\n",
       "      <td>0.165505</td>\n",
       "      <td>0.646225</td>\n",
       "      <td>0.130435</td>\n",
       "      <td>0.000000</td>\n",
       "      <td>0.012821</td>\n",
       "      <td>0.850000</td>\n",
       "      <td>0.100865</td>\n",
       "    </tr>\n",
       "    <tr>\n",
       "      <th>max</th>\n",
       "      <td>1.000000</td>\n",
       "      <td>1.000000</td>\n",
       "      <td>1.000000</td>\n",
       "      <td>1.000000</td>\n",
       "      <td>1.000000</td>\n",
       "      <td>1.000000</td>\n",
       "      <td>1.000000</td>\n",
       "      <td>1.000000</td>\n",
       "    </tr>\n",
       "  </tbody>\n",
       "</table>\n",
       "</div>"
      ],
      "text/plain": [
       "       global_active_power  global_reactive_power        voltage  \\\n",
       "count        503934.000000          503934.000000  503934.000000   \n",
       "mean              0.096358               0.103979       0.558548   \n",
       "std               0.109040               0.094531       0.124809   \n",
       "min               0.000000               0.000000       0.000000   \n",
       "25%               0.018323               0.000000       0.470401   \n",
       "50%               0.038723               0.088850       0.571783   \n",
       "75%               0.137136               0.165505       0.646225   \n",
       "max               1.000000               1.000000       1.000000   \n",
       "\n",
       "           intensity    sub_meter_1    sub_meter_2    sub_meter_3  \\\n",
       "count  503934.000000  503934.000000  503934.000000  503934.000000   \n",
       "mean        0.093680       0.015295       0.020873       0.281126   \n",
       "std         0.105965       0.081517       0.085535       0.405634   \n",
       "min         0.000000       0.000000       0.000000       0.000000   \n",
       "25%         0.017391       0.000000       0.000000       0.000000   \n",
       "50%         0.039130       0.000000       0.000000       0.000000   \n",
       "75%         0.130435       0.000000       0.012821       0.850000   \n",
       "max         1.000000       1.000000       1.000000       1.000000   \n",
       "\n",
       "       rest_of_home_pseudo_sub_meter  \n",
       "count                  503934.000000  \n",
       "mean                        0.096885  \n",
       "std                         0.087019  \n",
       "min                         0.000000  \n",
       "25%                         0.048205  \n",
       "50%                         0.060781  \n",
       "75%                         0.100865  \n",
       "max                         1.000000  "
      ]
     },
     "execution_count": 137,
     "metadata": {},
     "output_type": "execute_result"
    }
   ],
   "source": [
    "training_data_scaled = training_data_processed.copy()\n",
    "\n",
    "from sklearn.preprocessing import MinMaxScaler\n",
    "\n",
    "training_data_scaled = training_data_scaled.apply(lambda x: MinMaxScaler().fit_transform(x))\n",
    "  \n",
    "training_data_scaled = training_data_scaled.drop('global_active_power_w_hr', 1)\n",
    "training_data_scaled = training_data_scaled.drop('global_reactive_power_w_hr', 1)\n",
    "  \n",
    "training_data_scaled.describe()"
   ]
  },
  {
   "cell_type": "code",
   "execution_count": 138,
   "metadata": {
    "collapsed": false
   },
   "outputs": [
    {
     "data": {
      "text/plain": [
       "\"plot = training_data_scaled.plot(figsize=(20, 15))\\nplot.set_ylim([0.0,1.2])\\n_ = plot.legend(loc='upper right')\""
      ]
     },
     "execution_count": 138,
     "metadata": {},
     "output_type": "execute_result"
    }
   ],
   "source": [
    "'''plot = training_data_scaled.plot(figsize=(20, 15))\n",
    "plot.set_ylim([0.0,1.2])\n",
    "_ = plot.legend(loc='upper right')'''"
   ]
  },
  {
   "cell_type": "code",
   "execution_count": 139,
   "metadata": {
    "collapsed": false
   },
   "outputs": [
    {
     "data": {
      "text/plain": [
       "\"fig = plt.figure()\\nfig.set_figwidth(20)\\nfig.set_figheight(15)\\n\\n_ = autocorrelation_plot(training_data_scaled.global_active_power, label='global_active_power')\\n_ = autocorrelation_plot(training_data_scaled.global_reactive_power, label='global_reactive_power')\\n_ = autocorrelation_plot(training_data_scaled.voltage, label='voltage')\\n_ = autocorrelation_plot(training_data_scaled.intensity, label='intensity')\\n_ = autocorrelation_plot(training_data_scaled.sub_meter_1, label='sub_meter_1')\\n_ = autocorrelation_plot(training_data_scaled.sub_meter_2, label='sub_meter_2')\\n_ = autocorrelation_plot(training_data_scaled.sub_meter_3, label='sub_meter_3')\\n_ = autocorrelation_plot(training_data_scaled.rest_of_home_pseudo_sub_meter, label='rest_of_home_pseudo_sub_meter')\\n\\n_ = plt.legend(loc='upper right')\""
      ]
     },
     "execution_count": 139,
     "metadata": {},
     "output_type": "execute_result"
    }
   ],
   "source": [
    "'''fig = plt.figure()\n",
    "fig.set_figwidth(20)\n",
    "fig.set_figheight(15)\n",
    "\n",
    "_ = autocorrelation_plot(training_data_scaled.global_active_power, label='global_active_power')\n",
    "_ = autocorrelation_plot(training_data_scaled.global_reactive_power, label='global_reactive_power')\n",
    "_ = autocorrelation_plot(training_data_scaled.voltage, label='voltage')\n",
    "_ = autocorrelation_plot(training_data_scaled.intensity, label='intensity')\n",
    "_ = autocorrelation_plot(training_data_scaled.sub_meter_1, label='sub_meter_1')\n",
    "_ = autocorrelation_plot(training_data_scaled.sub_meter_2, label='sub_meter_2')\n",
    "_ = autocorrelation_plot(training_data_scaled.sub_meter_3, label='sub_meter_3')\n",
    "_ = autocorrelation_plot(training_data_scaled.rest_of_home_pseudo_sub_meter, label='rest_of_home_pseudo_sub_meter')\n",
    "\n",
    "_ = plt.legend(loc='upper right')'''"
   ]
  },
  {
   "cell_type": "code",
   "execution_count": 140,
   "metadata": {
    "collapsed": false
   },
   "outputs": [
    {
     "data": {
      "text/html": [
       "<div>\n",
       "<table border=\"1\" class=\"dataframe\">\n",
       "  <thead>\n",
       "    <tr style=\"text-align: right;\">\n",
       "      <th></th>\n",
       "      <th>global_active_power</th>\n",
       "      <th>global_reactive_power</th>\n",
       "      <th>voltage</th>\n",
       "      <th>intensity</th>\n",
       "      <th>sub_meter_1</th>\n",
       "      <th>sub_meter_2</th>\n",
       "      <th>sub_meter_3</th>\n",
       "      <th>rest_of_home_pseudo_sub_meter</th>\n",
       "    </tr>\n",
       "    <tr>\n",
       "      <th>ts</th>\n",
       "      <th></th>\n",
       "      <th></th>\n",
       "      <th></th>\n",
       "      <th></th>\n",
       "      <th></th>\n",
       "      <th></th>\n",
       "      <th></th>\n",
       "      <th></th>\n",
       "    </tr>\n",
       "  </thead>\n",
       "  <tbody>\n",
       "    <tr>\n",
       "      <th>2006-12-16 17:24:00</th>\n",
       "      <td>0.390442</td>\n",
       "      <td>0.364111</td>\n",
       "      <td>0.402340</td>\n",
       "      <td>0.391304</td>\n",
       "      <td>0</td>\n",
       "      <td>0.012821</td>\n",
       "      <td>0.85</td>\n",
       "      <td>0.429657</td>\n",
       "    </tr>\n",
       "    <tr>\n",
       "      <th>2006-12-16 17:25:00</th>\n",
       "      <td>0.498489</td>\n",
       "      <td>0.379791</td>\n",
       "      <td>0.359447</td>\n",
       "      <td>0.491304</td>\n",
       "      <td>0</td>\n",
       "      <td>0.012821</td>\n",
       "      <td>0.80</td>\n",
       "      <td>0.587372</td>\n",
       "    </tr>\n",
       "  </tbody>\n",
       "</table>\n",
       "</div>"
      ],
      "text/plain": [
       "                     global_active_power  global_reactive_power   voltage  \\\n",
       "ts                                                                          \n",
       "2006-12-16 17:24:00             0.390442               0.364111  0.402340   \n",
       "2006-12-16 17:25:00             0.498489               0.379791  0.359447   \n",
       "\n",
       "                     intensity  sub_meter_1  sub_meter_2  sub_meter_3  \\\n",
       "ts                                                                      \n",
       "2006-12-16 17:24:00   0.391304            0     0.012821         0.85   \n",
       "2006-12-16 17:25:00   0.491304            0     0.012821         0.80   \n",
       "\n",
       "                     rest_of_home_pseudo_sub_meter  \n",
       "ts                                                  \n",
       "2006-12-16 17:24:00                       0.429657  \n",
       "2006-12-16 17:25:00                       0.587372  "
      ]
     },
     "execution_count": 140,
     "metadata": {},
     "output_type": "execute_result"
    }
   ],
   "source": [
    "training_data_scaled[:2]"
   ]
  },
  {
   "cell_type": "code",
   "execution_count": 141,
   "metadata": {
    "collapsed": false
   },
   "outputs": [
    {
     "data": {
      "text/html": [
       "<div>\n",
       "<table border=\"1\" class=\"dataframe\">\n",
       "  <thead>\n",
       "    <tr style=\"text-align: right;\">\n",
       "      <th></th>\n",
       "      <th>global_active_power</th>\n",
       "      <th>global_reactive_power</th>\n",
       "      <th>voltage</th>\n",
       "      <th>intensity</th>\n",
       "      <th>sub_meter_1</th>\n",
       "      <th>sub_meter_2</th>\n",
       "      <th>sub_meter_3</th>\n",
       "      <th>rest_of_home_pseudo_sub_meter</th>\n",
       "    </tr>\n",
       "    <tr>\n",
       "      <th>ts</th>\n",
       "      <th></th>\n",
       "      <th></th>\n",
       "      <th></th>\n",
       "      <th></th>\n",
       "      <th></th>\n",
       "      <th></th>\n",
       "      <th></th>\n",
       "      <th></th>\n",
       "    </tr>\n",
       "  </thead>\n",
       "  <tbody>\n",
       "    <tr>\n",
       "      <th>2007-12-01 16:16:00</th>\n",
       "      <td>0.126558</td>\n",
       "      <td>0.071429</td>\n",
       "      <td>0.742999</td>\n",
       "      <td>0.117391</td>\n",
       "      <td>0</td>\n",
       "      <td>0.012821</td>\n",
       "      <td>0.90</td>\n",
       "      <td>0.055803</td>\n",
       "    </tr>\n",
       "    <tr>\n",
       "      <th>2007-12-01 16:17:00</th>\n",
       "      <td>0.122592</td>\n",
       "      <td>0.000000</td>\n",
       "      <td>0.733782</td>\n",
       "      <td>0.113043</td>\n",
       "      <td>0</td>\n",
       "      <td>0.012821</td>\n",
       "      <td>0.95</td>\n",
       "      <td>0.042442</td>\n",
       "    </tr>\n",
       "  </tbody>\n",
       "</table>\n",
       "</div>"
      ],
      "text/plain": [
       "                     global_active_power  global_reactive_power   voltage  \\\n",
       "ts                                                                          \n",
       "2007-12-01 16:16:00             0.126558               0.071429  0.742999   \n",
       "2007-12-01 16:17:00             0.122592               0.000000  0.733782   \n",
       "\n",
       "                     intensity  sub_meter_1  sub_meter_2  sub_meter_3  \\\n",
       "ts                                                                      \n",
       "2007-12-01 16:16:00   0.117391            0     0.012821         0.90   \n",
       "2007-12-01 16:17:00   0.113043            0     0.012821         0.95   \n",
       "\n",
       "                     rest_of_home_pseudo_sub_meter  \n",
       "ts                                                  \n",
       "2007-12-01 16:16:00                       0.055803  \n",
       "2007-12-01 16:17:00                       0.042442  "
      ]
     },
     "execution_count": 141,
     "metadata": {},
     "output_type": "execute_result"
    }
   ],
   "source": [
    "training_data_scaled[-2:]"
   ]
  },
  {
   "cell_type": "code",
   "execution_count": 150,
   "metadata": {
    "collapsed": false
   },
   "outputs": [
    {
     "data": {
      "text/plain": [
       "'import matplotlib\\nplot.xaxis.set_major_locator(matplotlib.dates.AutoDateLocator())'"
      ]
     },
     "execution_count": 150,
     "metadata": {},
     "output_type": "execute_result"
    },
    {
     "data": {
      "image/png": "[encoded data removed]",
      "text/plain": [
       "<matplotlib.figure.Figure at 0x7fe5b3162f10>"
      ]
     },
     "metadata": {},
     "output_type": "display_data"
    }
   ],
   "source": [
    "# Let's try some aggregations...\n",
    "\n",
    "'''training_data_aggregated_5_min = training_data_processed.copy()\n",
    "training_data_aggregated_5_min = training_data_aggregated.resample('5T', how='sum')\n",
    "\n",
    "training_data_aggregated_15_min = training_data_processed.copy()\n",
    "training_data_aggregated_15_min = training_data_aggregated.resample('15T', how='sum')\n",
    "\n",
    "training_data_aggregated_1_hr = training_data_processed.copy()\n",
    "training_data_aggregated_1_hr = training_data_aggregated_1_hr.resample('H', how='sum')'''\n",
    "\n",
    "training_data_aggregated_1_day = training_data_processed.copy()\n",
    "training_data_aggregated_1_day = training_data_aggregated_1_day.resample('W', how='sum')\n",
    "\n",
    "plot = training_data_aggregated_1_day.global_active_power.plot(kind='bar')\n",
    "plot.figure.set_figwidth(20)\n",
    "_ = plot.figure.set_figheight(15)\n",
    "\n",
    "'''import matplotlib\n",
    "plot.xaxis.set_major_locator(matplotlib.dates.AutoDateLocator())'''"
   ]
  },
  {
   "cell_type": "code",
   "execution_count": 28,
   "metadata": {
    "collapsed": true
   },
   "outputs": [],
   "source": [
    "import tensorflow as tf"
   ]
  },
  {
   "cell_type": "markdown",
   "metadata": {},
   "source": [
    "## Model I\n",
    "* Use all features - global_active_power, global_reactive_power, voltage, intensity, sub_meter_1, sub_meter_2, sub_meter_3, rest_of_home_pseudo_sub_meter\n",
    "* Use previous 30 trailing values to predict the next value"
   ]
  },
  {
   "cell_type": "code",
   "execution_count": 29,
   "metadata": {
    "collapsed": false
   },
   "outputs": [
    {
     "name": "stdout",
     "output_type": "stream",
     "text": [
      "1000\n",
      "2000\n",
      "3000\n",
      "4000\n",
      "5000\n",
      "6000\n",
      "7000\n",
      "8000\n",
      "9000\n",
      "10000\n",
      "11000\n",
      "12000\n",
      "13000\n",
      "14000\n",
      "15000\n",
      "16000\n",
      "17000\n",
      "18000\n",
      "19000\n",
      "20000\n",
      "21000\n",
      "22000\n",
      "23000\n",
      "24000\n",
      "25000\n",
      "26000\n",
      "27000\n",
      "28000\n",
      "29000\n",
      "30000\n",
      "31000\n",
      "32000\n",
      "33000\n",
      "34000\n",
      "35000\n",
      "36000\n",
      "37000\n",
      "38000\n",
      "39000\n",
      "40000\n",
      "41000\n",
      "42000\n",
      "43000\n",
      "44000\n",
      "45000\n",
      "46000\n",
      "47000\n",
      "48000\n",
      "49000\n",
      "50000\n"
     ]
    },
    {
     "data": {
      "text/html": [
       "<div>\n",
       "<table border=\"1\" class=\"dataframe\">\n",
       "  <thead>\n",
       "    <tr style=\"text-align: right;\">\n",
       "      <th></th>\n",
       "      <th>1</th>\n",
       "      <th>2</th>\n",
       "      <th>3</th>\n",
       "      <th>4</th>\n",
       "      <th>5</th>\n",
       "      <th>6</th>\n",
       "      <th>7</th>\n",
       "      <th>8</th>\n",
       "      <th>9</th>\n",
       "      <th>10</th>\n",
       "      <th>...</th>\n",
       "      <th>952</th>\n",
       "      <th>953</th>\n",
       "      <th>954</th>\n",
       "      <th>955</th>\n",
       "      <th>956</th>\n",
       "      <th>957</th>\n",
       "      <th>958</th>\n",
       "      <th>959</th>\n",
       "      <th>960</th>\n",
       "      <th>961</th>\n",
       "    </tr>\n",
       "    <tr>\n",
       "      <th>0</th>\n",
       "      <th></th>\n",
       "      <th></th>\n",
       "      <th></th>\n",
       "      <th></th>\n",
       "      <th></th>\n",
       "      <th></th>\n",
       "      <th></th>\n",
       "      <th></th>\n",
       "      <th></th>\n",
       "      <th></th>\n",
       "      <th></th>\n",
       "      <th></th>\n",
       "      <th></th>\n",
       "      <th></th>\n",
       "      <th></th>\n",
       "      <th></th>\n",
       "      <th></th>\n",
       "      <th></th>\n",
       "      <th></th>\n",
       "      <th></th>\n",
       "      <th></th>\n",
       "    </tr>\n",
       "  </thead>\n",
       "  <tbody>\n",
       "    <tr>\n",
       "      <th>2006-12-16 19:25:00</th>\n",
       "      <td>0.361533</td>\n",
       "      <td>0.337960</td>\n",
       "      <td>0.345891</td>\n",
       "      <td>0.343908</td>\n",
       "      <td>0.345671</td>\n",
       "      <td>0.355585</td>\n",
       "      <td>0.355144</td>\n",
       "      <td>0.355365</td>\n",
       "      <td>0.353822</td>\n",
       "      <td>0.352501</td>\n",
       "      <td>...</td>\n",
       "      <td>0.445073</td>\n",
       "      <td>0.339257</td>\n",
       "      <td>0.340065</td>\n",
       "      <td>0.344373</td>\n",
       "      <td>0.344642</td>\n",
       "      <td>0.312062</td>\n",
       "      <td>0.339795</td>\n",
       "      <td>0.571621</td>\n",
       "      <td>0.561659</td>\n",
       "      <td>0.575929</td>\n",
       "    </tr>\n",
       "    <tr>\n",
       "      <th>2006-12-16 19:26:00</th>\n",
       "      <td>0.377396</td>\n",
       "      <td>0.361533</td>\n",
       "      <td>0.337960</td>\n",
       "      <td>0.345891</td>\n",
       "      <td>0.343908</td>\n",
       "      <td>0.345671</td>\n",
       "      <td>0.355585</td>\n",
       "      <td>0.355144</td>\n",
       "      <td>0.355365</td>\n",
       "      <td>0.353822</td>\n",
       "      <td>...</td>\n",
       "      <td>0.574852</td>\n",
       "      <td>0.445073</td>\n",
       "      <td>0.339257</td>\n",
       "      <td>0.340065</td>\n",
       "      <td>0.344373</td>\n",
       "      <td>0.344642</td>\n",
       "      <td>0.312062</td>\n",
       "      <td>0.339795</td>\n",
       "      <td>0.571621</td>\n",
       "      <td>0.561659</td>\n",
       "    </tr>\n",
       "    <tr>\n",
       "      <th>2006-12-16 19:27:00</th>\n",
       "      <td>0.376294</td>\n",
       "      <td>0.377396</td>\n",
       "      <td>0.361533</td>\n",
       "      <td>0.337960</td>\n",
       "      <td>0.345891</td>\n",
       "      <td>0.343908</td>\n",
       "      <td>0.345671</td>\n",
       "      <td>0.355585</td>\n",
       "      <td>0.355144</td>\n",
       "      <td>0.355365</td>\n",
       "      <td>...</td>\n",
       "      <td>0.557620</td>\n",
       "      <td>0.574852</td>\n",
       "      <td>0.445073</td>\n",
       "      <td>0.339257</td>\n",
       "      <td>0.340065</td>\n",
       "      <td>0.344373</td>\n",
       "      <td>0.344642</td>\n",
       "      <td>0.312062</td>\n",
       "      <td>0.339795</td>\n",
       "      <td>0.571621</td>\n",
       "    </tr>\n",
       "    <tr>\n",
       "      <th>2006-12-16 19:28:00</th>\n",
       "      <td>0.380260</td>\n",
       "      <td>0.376294</td>\n",
       "      <td>0.377396</td>\n",
       "      <td>0.361533</td>\n",
       "      <td>0.337960</td>\n",
       "      <td>0.345891</td>\n",
       "      <td>0.343908</td>\n",
       "      <td>0.345671</td>\n",
       "      <td>0.355585</td>\n",
       "      <td>0.355144</td>\n",
       "      <td>...</td>\n",
       "      <td>0.547388</td>\n",
       "      <td>0.557620</td>\n",
       "      <td>0.574852</td>\n",
       "      <td>0.445073</td>\n",
       "      <td>0.339257</td>\n",
       "      <td>0.340065</td>\n",
       "      <td>0.344373</td>\n",
       "      <td>0.344642</td>\n",
       "      <td>0.312062</td>\n",
       "      <td>0.339795</td>\n",
       "    </tr>\n",
       "    <tr>\n",
       "      <th>2006-12-16 19:29:00</th>\n",
       "      <td>0.376735</td>\n",
       "      <td>0.380260</td>\n",
       "      <td>0.376294</td>\n",
       "      <td>0.377396</td>\n",
       "      <td>0.361533</td>\n",
       "      <td>0.337960</td>\n",
       "      <td>0.345891</td>\n",
       "      <td>0.343908</td>\n",
       "      <td>0.345671</td>\n",
       "      <td>0.355585</td>\n",
       "      <td>...</td>\n",
       "      <td>0.392030</td>\n",
       "      <td>0.547388</td>\n",
       "      <td>0.557620</td>\n",
       "      <td>0.574852</td>\n",
       "      <td>0.445073</td>\n",
       "      <td>0.339257</td>\n",
       "      <td>0.340065</td>\n",
       "      <td>0.344373</td>\n",
       "      <td>0.344642</td>\n",
       "      <td>0.312062</td>\n",
       "    </tr>\n",
       "    <tr>\n",
       "      <th>2006-12-16 19:30:00</th>\n",
       "      <td>0.354043</td>\n",
       "      <td>0.376735</td>\n",
       "      <td>0.380260</td>\n",
       "      <td>0.376294</td>\n",
       "      <td>0.377396</td>\n",
       "      <td>0.361533</td>\n",
       "      <td>0.337960</td>\n",
       "      <td>0.345891</td>\n",
       "      <td>0.343908</td>\n",
       "      <td>0.345671</td>\n",
       "      <td>...</td>\n",
       "      <td>0.309908</td>\n",
       "      <td>0.392030</td>\n",
       "      <td>0.547388</td>\n",
       "      <td>0.557620</td>\n",
       "      <td>0.574852</td>\n",
       "      <td>0.445073</td>\n",
       "      <td>0.339257</td>\n",
       "      <td>0.340065</td>\n",
       "      <td>0.344373</td>\n",
       "      <td>0.344642</td>\n",
       "    </tr>\n",
       "    <tr>\n",
       "      <th>2006-12-16 19:31:00</th>\n",
       "      <td>0.351840</td>\n",
       "      <td>0.354043</td>\n",
       "      <td>0.376735</td>\n",
       "      <td>0.380260</td>\n",
       "      <td>0.376294</td>\n",
       "      <td>0.377396</td>\n",
       "      <td>0.361533</td>\n",
       "      <td>0.337960</td>\n",
       "      <td>0.345891</td>\n",
       "      <td>0.343908</td>\n",
       "      <td>...</td>\n",
       "      <td>0.294561</td>\n",
       "      <td>0.309908</td>\n",
       "      <td>0.392030</td>\n",
       "      <td>0.547388</td>\n",
       "      <td>0.557620</td>\n",
       "      <td>0.574852</td>\n",
       "      <td>0.445073</td>\n",
       "      <td>0.339257</td>\n",
       "      <td>0.340065</td>\n",
       "      <td>0.344373</td>\n",
       "    </tr>\n",
       "    <tr>\n",
       "      <th>2006-12-16 19:32:00</th>\n",
       "      <td>0.350077</td>\n",
       "      <td>0.351840</td>\n",
       "      <td>0.354043</td>\n",
       "      <td>0.376735</td>\n",
       "      <td>0.380260</td>\n",
       "      <td>0.376294</td>\n",
       "      <td>0.377396</td>\n",
       "      <td>0.361533</td>\n",
       "      <td>0.337960</td>\n",
       "      <td>0.345891</td>\n",
       "      <td>...</td>\n",
       "      <td>0.316101</td>\n",
       "      <td>0.294561</td>\n",
       "      <td>0.309908</td>\n",
       "      <td>0.392030</td>\n",
       "      <td>0.547388</td>\n",
       "      <td>0.557620</td>\n",
       "      <td>0.574852</td>\n",
       "      <td>0.445073</td>\n",
       "      <td>0.339257</td>\n",
       "      <td>0.340065</td>\n",
       "    </tr>\n",
       "    <tr>\n",
       "      <th>2006-12-16 19:33:00</th>\n",
       "      <td>0.349857</td>\n",
       "      <td>0.350077</td>\n",
       "      <td>0.351840</td>\n",
       "      <td>0.354043</td>\n",
       "      <td>0.376735</td>\n",
       "      <td>0.380260</td>\n",
       "      <td>0.376294</td>\n",
       "      <td>0.377396</td>\n",
       "      <td>0.361533</td>\n",
       "      <td>0.337960</td>\n",
       "      <td>...</td>\n",
       "      <td>0.285945</td>\n",
       "      <td>0.316101</td>\n",
       "      <td>0.294561</td>\n",
       "      <td>0.309908</td>\n",
       "      <td>0.392030</td>\n",
       "      <td>0.547388</td>\n",
       "      <td>0.557620</td>\n",
       "      <td>0.574852</td>\n",
       "      <td>0.445073</td>\n",
       "      <td>0.339257</td>\n",
       "    </tr>\n",
       "    <tr>\n",
       "      <th>2006-12-16 19:34:00</th>\n",
       "      <td>0.346772</td>\n",
       "      <td>0.349857</td>\n",
       "      <td>0.350077</td>\n",
       "      <td>0.351840</td>\n",
       "      <td>0.354043</td>\n",
       "      <td>0.376735</td>\n",
       "      <td>0.380260</td>\n",
       "      <td>0.376294</td>\n",
       "      <td>0.377396</td>\n",
       "      <td>0.361533</td>\n",
       "      <td>...</td>\n",
       "      <td>0.356220</td>\n",
       "      <td>0.285945</td>\n",
       "      <td>0.316101</td>\n",
       "      <td>0.294561</td>\n",
       "      <td>0.309908</td>\n",
       "      <td>0.392030</td>\n",
       "      <td>0.547388</td>\n",
       "      <td>0.557620</td>\n",
       "      <td>0.574852</td>\n",
       "      <td>0.445073</td>\n",
       "    </tr>\n",
       "  </tbody>\n",
       "</table>\n",
       "<p>10 rows × 961 columns</p>\n",
       "</div>"
      ],
      "text/plain": [
       "                          1         2         3         4         5    \\\n",
       "0                                                                       \n",
       "2006-12-16 19:25:00  0.361533  0.337960  0.345891  0.343908  0.345671   \n",
       "2006-12-16 19:26:00  0.377396  0.361533  0.337960  0.345891  0.343908   \n",
       "2006-12-16 19:27:00  0.376294  0.377396  0.361533  0.337960  0.345891   \n",
       "2006-12-16 19:28:00  0.380260  0.376294  0.377396  0.361533  0.337960   \n",
       "2006-12-16 19:29:00  0.376735  0.380260  0.376294  0.377396  0.361533   \n",
       "2006-12-16 19:30:00  0.354043  0.376735  0.380260  0.376294  0.377396   \n",
       "2006-12-16 19:31:00  0.351840  0.354043  0.376735  0.380260  0.376294   \n",
       "2006-12-16 19:32:00  0.350077  0.351840  0.354043  0.376735  0.380260   \n",
       "2006-12-16 19:33:00  0.349857  0.350077  0.351840  0.354043  0.376735   \n",
       "2006-12-16 19:34:00  0.346772  0.349857  0.350077  0.351840  0.354043   \n",
       "\n",
       "                          6         7         8         9         10   \\\n",
       "0                                                                       \n",
       "2006-12-16 19:25:00  0.355585  0.355144  0.355365  0.353822  0.352501   \n",
       "2006-12-16 19:26:00  0.345671  0.355585  0.355144  0.355365  0.353822   \n",
       "2006-12-16 19:27:00  0.343908  0.345671  0.355585  0.355144  0.355365   \n",
       "2006-12-16 19:28:00  0.345891  0.343908  0.345671  0.355585  0.355144   \n",
       "2006-12-16 19:29:00  0.337960  0.345891  0.343908  0.345671  0.355585   \n",
       "2006-12-16 19:30:00  0.361533  0.337960  0.345891  0.343908  0.345671   \n",
       "2006-12-16 19:31:00  0.377396  0.361533  0.337960  0.345891  0.343908   \n",
       "2006-12-16 19:32:00  0.376294  0.377396  0.361533  0.337960  0.345891   \n",
       "2006-12-16 19:33:00  0.380260  0.376294  0.377396  0.361533  0.337960   \n",
       "2006-12-16 19:34:00  0.376735  0.380260  0.376294  0.377396  0.361533   \n",
       "\n",
       "                       ...          952       953       954       955  \\\n",
       "0                      ...                                              \n",
       "2006-12-16 19:25:00    ...     0.445073  0.339257  0.340065  0.344373   \n",
       "2006-12-16 19:26:00    ...     0.574852  0.445073  0.339257  0.340065   \n",
       "2006-12-16 19:27:00    ...     0.557620  0.574852  0.445073  0.339257   \n",
       "2006-12-16 19:28:00    ...     0.547388  0.557620  0.574852  0.445073   \n",
       "2006-12-16 19:29:00    ...     0.392030  0.547388  0.557620  0.574852   \n",
       "2006-12-16 19:30:00    ...     0.309908  0.392030  0.547388  0.557620   \n",
       "2006-12-16 19:31:00    ...     0.294561  0.309908  0.392030  0.547388   \n",
       "2006-12-16 19:32:00    ...     0.316101  0.294561  0.309908  0.392030   \n",
       "2006-12-16 19:33:00    ...     0.285945  0.316101  0.294561  0.309908   \n",
       "2006-12-16 19:34:00    ...     0.356220  0.285945  0.316101  0.294561   \n",
       "\n",
       "                          956       957       958       959       960  \\\n",
       "0                                                                       \n",
       "2006-12-16 19:25:00  0.344642  0.312062  0.339795  0.571621  0.561659   \n",
       "2006-12-16 19:26:00  0.344373  0.344642  0.312062  0.339795  0.571621   \n",
       "2006-12-16 19:27:00  0.340065  0.344373  0.344642  0.312062  0.339795   \n",
       "2006-12-16 19:28:00  0.339257  0.340065  0.344373  0.344642  0.312062   \n",
       "2006-12-16 19:29:00  0.445073  0.339257  0.340065  0.344373  0.344642   \n",
       "2006-12-16 19:30:00  0.574852  0.445073  0.339257  0.340065  0.344373   \n",
       "2006-12-16 19:31:00  0.557620  0.574852  0.445073  0.339257  0.340065   \n",
       "2006-12-16 19:32:00  0.547388  0.557620  0.574852  0.445073  0.339257   \n",
       "2006-12-16 19:33:00  0.392030  0.547388  0.557620  0.574852  0.445073   \n",
       "2006-12-16 19:34:00  0.309908  0.392030  0.547388  0.557620  0.574852   \n",
       "\n",
       "                          961  \n",
       "0                              \n",
       "2006-12-16 19:25:00  0.575929  \n",
       "2006-12-16 19:26:00  0.561659  \n",
       "2006-12-16 19:27:00  0.571621  \n",
       "2006-12-16 19:28:00  0.339795  \n",
       "2006-12-16 19:29:00  0.312062  \n",
       "2006-12-16 19:30:00  0.344642  \n",
       "2006-12-16 19:31:00  0.344373  \n",
       "2006-12-16 19:32:00  0.340065  \n",
       "2006-12-16 19:33:00  0.339257  \n",
       "2006-12-16 19:34:00  0.445073  \n",
       "\n",
       "[10 rows x 961 columns]"
      ]
     },
     "execution_count": 29,
     "metadata": {},
     "output_type": "execute_result"
    }
   ],
   "source": [
    "window = 120\n",
    "\n",
    "training_data_tf_rows = []\n",
    "for i in range(window+1, len(training_data_scaled)):\n",
    "  ts = training_data_scaled.index[i]\n",
    "  value = training_data_scaled.global_active_power[i]\n",
    "  global_active_power_feature = training_data_scaled.global_active_power[i-1:i-1-window:-1]\n",
    "  global_reactive_power_feature = training_data_scaled.global_reactive_power[i-1:i-1-window:-1]\n",
    "  voltage_feature = training_data_scaled.voltage[i-1:i-1-window:-1]\n",
    "  intensity_feature = training_data_scaled.intensity[i-1:i-1-window:-1]\n",
    "  sub_meter_1_feature = training_data_scaled.sub_meter_1[i-1:i-1-window:-1]\n",
    "  sub_meter_2_feature = training_data_scaled.sub_meter_2[i-1:i-1-window:-1]\n",
    "  sub_meter_3_feature = training_data_scaled.sub_meter_3[i-1:i-1-window:-1]\n",
    "  rest_of_home_pseudo_sub_meter_feature = training_data_scaled.rest_of_home_pseudo_sub_meter[i-1:i-1-window:-1]\n",
    "    \n",
    "  training_data_tf_row = np.concatenate([[ts], [value],\n",
    "                                      global_active_power_feature.values,\n",
    "                                      global_reactive_power_feature.values,\n",
    "                                      voltage_feature.values,\n",
    "                                      intensity_feature.values,\n",
    "                                      sub_meter_1_feature.values,\n",
    "                                      sub_meter_2_feature.values,\n",
    "                                      sub_meter_3_feature.values,\n",
    "                                      rest_of_home_pseudo_sub_meter_feature.values])\n",
    "  training_data_tf_row_dict = dict(enumerate(training_data_tf_row))\n",
    "  training_data_tf_rows.append(training_data_tf_row_dict)\n",
    "  #training_data_tf_row_df = pd.DataFrame([training_data_tf_row])\n",
    "  #training_data_tf = pd.concat([training_data_tf, training_data_tf_row_df])\n",
    "  \n",
    "  if (i%1000 == 0):\n",
    "    print i\n",
    "  \n",
    "training_data_tf = pd.DataFrame(training_data_tf_rows)\n",
    "training_data_tf = training_data_tf.set_index(0)\n",
    "training_data_tf[:10]"
   ]
  },
  {
   "cell_type": "code",
   "execution_count": 30,
   "metadata": {
    "collapsed": false
   },
   "outputs": [],
   "source": [
    "training_predictors_tf = training_data_tf[training_data_tf.columns[1:]]\n",
    "training_classes_tf = training_data_tf[training_data_tf.columns[0]]"
   ]
  },
  {
   "cell_type": "code",
   "execution_count": 31,
   "metadata": {
    "collapsed": false
   },
   "outputs": [
    {
     "data": {
      "text/html": [
       "<div>\n",
       "<table border=\"1\" class=\"dataframe\">\n",
       "  <thead>\n",
       "    <tr style=\"text-align: right;\">\n",
       "      <th></th>\n",
       "      <th>2</th>\n",
       "      <th>3</th>\n",
       "      <th>4</th>\n",
       "      <th>5</th>\n",
       "      <th>6</th>\n",
       "      <th>7</th>\n",
       "      <th>8</th>\n",
       "      <th>9</th>\n",
       "      <th>10</th>\n",
       "      <th>11</th>\n",
       "      <th>...</th>\n",
       "      <th>952</th>\n",
       "      <th>953</th>\n",
       "      <th>954</th>\n",
       "      <th>955</th>\n",
       "      <th>956</th>\n",
       "      <th>957</th>\n",
       "      <th>958</th>\n",
       "      <th>959</th>\n",
       "      <th>960</th>\n",
       "      <th>961</th>\n",
       "    </tr>\n",
       "    <tr>\n",
       "      <th>0</th>\n",
       "      <th></th>\n",
       "      <th></th>\n",
       "      <th></th>\n",
       "      <th></th>\n",
       "      <th></th>\n",
       "      <th></th>\n",
       "      <th></th>\n",
       "      <th></th>\n",
       "      <th></th>\n",
       "      <th></th>\n",
       "      <th></th>\n",
       "      <th></th>\n",
       "      <th></th>\n",
       "      <th></th>\n",
       "      <th></th>\n",
       "      <th></th>\n",
       "      <th></th>\n",
       "      <th></th>\n",
       "      <th></th>\n",
       "      <th></th>\n",
       "      <th></th>\n",
       "    </tr>\n",
       "  </thead>\n",
       "  <tbody>\n",
       "    <tr>\n",
       "      <th>2006-12-16 19:25:00</th>\n",
       "      <td>0.337960</td>\n",
       "      <td>0.345891</td>\n",
       "      <td>0.343908</td>\n",
       "      <td>0.345671</td>\n",
       "      <td>0.355585</td>\n",
       "      <td>0.355144</td>\n",
       "      <td>0.355365</td>\n",
       "      <td>0.353822</td>\n",
       "      <td>0.352501</td>\n",
       "      <td>0.352501</td>\n",
       "      <td>...</td>\n",
       "      <td>0.445073</td>\n",
       "      <td>0.339257</td>\n",
       "      <td>0.340065</td>\n",
       "      <td>0.344373</td>\n",
       "      <td>0.344642</td>\n",
       "      <td>0.312062</td>\n",
       "      <td>0.339795</td>\n",
       "      <td>0.571621</td>\n",
       "      <td>0.561659</td>\n",
       "      <td>0.575929</td>\n",
       "    </tr>\n",
       "    <tr>\n",
       "      <th>2006-12-16 19:26:00</th>\n",
       "      <td>0.361533</td>\n",
       "      <td>0.337960</td>\n",
       "      <td>0.345891</td>\n",
       "      <td>0.343908</td>\n",
       "      <td>0.345671</td>\n",
       "      <td>0.355585</td>\n",
       "      <td>0.355144</td>\n",
       "      <td>0.355365</td>\n",
       "      <td>0.353822</td>\n",
       "      <td>0.352501</td>\n",
       "      <td>...</td>\n",
       "      <td>0.574852</td>\n",
       "      <td>0.445073</td>\n",
       "      <td>0.339257</td>\n",
       "      <td>0.340065</td>\n",
       "      <td>0.344373</td>\n",
       "      <td>0.344642</td>\n",
       "      <td>0.312062</td>\n",
       "      <td>0.339795</td>\n",
       "      <td>0.571621</td>\n",
       "      <td>0.561659</td>\n",
       "    </tr>\n",
       "    <tr>\n",
       "      <th>2006-12-16 19:27:00</th>\n",
       "      <td>0.377396</td>\n",
       "      <td>0.361533</td>\n",
       "      <td>0.337960</td>\n",
       "      <td>0.345891</td>\n",
       "      <td>0.343908</td>\n",
       "      <td>0.345671</td>\n",
       "      <td>0.355585</td>\n",
       "      <td>0.355144</td>\n",
       "      <td>0.355365</td>\n",
       "      <td>0.353822</td>\n",
       "      <td>...</td>\n",
       "      <td>0.557620</td>\n",
       "      <td>0.574852</td>\n",
       "      <td>0.445073</td>\n",
       "      <td>0.339257</td>\n",
       "      <td>0.340065</td>\n",
       "      <td>0.344373</td>\n",
       "      <td>0.344642</td>\n",
       "      <td>0.312062</td>\n",
       "      <td>0.339795</td>\n",
       "      <td>0.571621</td>\n",
       "    </tr>\n",
       "    <tr>\n",
       "      <th>2006-12-16 19:28:00</th>\n",
       "      <td>0.376294</td>\n",
       "      <td>0.377396</td>\n",
       "      <td>0.361533</td>\n",
       "      <td>0.337960</td>\n",
       "      <td>0.345891</td>\n",
       "      <td>0.343908</td>\n",
       "      <td>0.345671</td>\n",
       "      <td>0.355585</td>\n",
       "      <td>0.355144</td>\n",
       "      <td>0.355365</td>\n",
       "      <td>...</td>\n",
       "      <td>0.547388</td>\n",
       "      <td>0.557620</td>\n",
       "      <td>0.574852</td>\n",
       "      <td>0.445073</td>\n",
       "      <td>0.339257</td>\n",
       "      <td>0.340065</td>\n",
       "      <td>0.344373</td>\n",
       "      <td>0.344642</td>\n",
       "      <td>0.312062</td>\n",
       "      <td>0.339795</td>\n",
       "    </tr>\n",
       "    <tr>\n",
       "      <th>2006-12-16 19:29:00</th>\n",
       "      <td>0.380260</td>\n",
       "      <td>0.376294</td>\n",
       "      <td>0.377396</td>\n",
       "      <td>0.361533</td>\n",
       "      <td>0.337960</td>\n",
       "      <td>0.345891</td>\n",
       "      <td>0.343908</td>\n",
       "      <td>0.345671</td>\n",
       "      <td>0.355585</td>\n",
       "      <td>0.355144</td>\n",
       "      <td>...</td>\n",
       "      <td>0.392030</td>\n",
       "      <td>0.547388</td>\n",
       "      <td>0.557620</td>\n",
       "      <td>0.574852</td>\n",
       "      <td>0.445073</td>\n",
       "      <td>0.339257</td>\n",
       "      <td>0.340065</td>\n",
       "      <td>0.344373</td>\n",
       "      <td>0.344642</td>\n",
       "      <td>0.312062</td>\n",
       "    </tr>\n",
       "  </tbody>\n",
       "</table>\n",
       "<p>5 rows × 960 columns</p>\n",
       "</div>"
      ],
      "text/plain": [
       "                          2         3         4         5         6    \\\n",
       "0                                                                       \n",
       "2006-12-16 19:25:00  0.337960  0.345891  0.343908  0.345671  0.355585   \n",
       "2006-12-16 19:26:00  0.361533  0.337960  0.345891  0.343908  0.345671   \n",
       "2006-12-16 19:27:00  0.377396  0.361533  0.337960  0.345891  0.343908   \n",
       "2006-12-16 19:28:00  0.376294  0.377396  0.361533  0.337960  0.345891   \n",
       "2006-12-16 19:29:00  0.380260  0.376294  0.377396  0.361533  0.337960   \n",
       "\n",
       "                          7         8         9         10        11   \\\n",
       "0                                                                       \n",
       "2006-12-16 19:25:00  0.355144  0.355365  0.353822  0.352501  0.352501   \n",
       "2006-12-16 19:26:00  0.355585  0.355144  0.355365  0.353822  0.352501   \n",
       "2006-12-16 19:27:00  0.345671  0.355585  0.355144  0.355365  0.353822   \n",
       "2006-12-16 19:28:00  0.343908  0.345671  0.355585  0.355144  0.355365   \n",
       "2006-12-16 19:29:00  0.345891  0.343908  0.345671  0.355585  0.355144   \n",
       "\n",
       "                       ...          952       953       954       955  \\\n",
       "0                      ...                                              \n",
       "2006-12-16 19:25:00    ...     0.445073  0.339257  0.340065  0.344373   \n",
       "2006-12-16 19:26:00    ...     0.574852  0.445073  0.339257  0.340065   \n",
       "2006-12-16 19:27:00    ...     0.557620  0.574852  0.445073  0.339257   \n",
       "2006-12-16 19:28:00    ...     0.547388  0.557620  0.574852  0.445073   \n",
       "2006-12-16 19:29:00    ...     0.392030  0.547388  0.557620  0.574852   \n",
       "\n",
       "                          956       957       958       959       960  \\\n",
       "0                                                                       \n",
       "2006-12-16 19:25:00  0.344642  0.312062  0.339795  0.571621  0.561659   \n",
       "2006-12-16 19:26:00  0.344373  0.344642  0.312062  0.339795  0.571621   \n",
       "2006-12-16 19:27:00  0.340065  0.344373  0.344642  0.312062  0.339795   \n",
       "2006-12-16 19:28:00  0.339257  0.340065  0.344373  0.344642  0.312062   \n",
       "2006-12-16 19:29:00  0.445073  0.339257  0.340065  0.344373  0.344642   \n",
       "\n",
       "                          961  \n",
       "0                              \n",
       "2006-12-16 19:25:00  0.575929  \n",
       "2006-12-16 19:26:00  0.561659  \n",
       "2006-12-16 19:27:00  0.571621  \n",
       "2006-12-16 19:28:00  0.339795  \n",
       "2006-12-16 19:29:00  0.312062  \n",
       "\n",
       "[5 rows x 960 columns]"
      ]
     },
     "execution_count": 31,
     "metadata": {},
     "output_type": "execute_result"
    }
   ],
   "source": [
    "training_predictors_tf[:5]"
   ]
  },
  {
   "cell_type": "code",
   "execution_count": 32,
   "metadata": {
    "collapsed": false
   },
   "outputs": [
    {
     "data": {
      "text/plain": [
       "0\n",
       "2006-12-16 19:25:00    0.361533\n",
       "2006-12-16 19:26:00    0.377396\n",
       "2006-12-16 19:27:00    0.376294\n",
       "2006-12-16 19:28:00    0.380260\n",
       "2006-12-16 19:29:00    0.376735\n",
       "Name: 1, dtype: float64"
      ]
     },
     "execution_count": 32,
     "metadata": {},
     "output_type": "execute_result"
    }
   ],
   "source": [
    "training_classes_tf[:5]"
   ]
  },
  {
   "cell_type": "code",
   "execution_count": 33,
   "metadata": {
    "collapsed": false
   },
   "outputs": [
    {
     "data": {
      "text/plain": [
       "'sessb = tf.Session()\\n\\nfeature_datab = tf.placeholder(\"float\", [None, 2400])\\nactual_classesb = tf.placeholder(\"float\", [None, 1])\\n\\nweightsb = tf.Variable(tf.truncated_normal([2400, 1], stddev=0.0001))\\nbiasesb = tf.Variable(tf.ones([1]))\\n\\nmodelb = tf.matmul(feature_datab, weightsb) + biasesb\\n\\ncostb = tf.sqrt(tf.reduce_mean(tf.square(actual_classesb - modelb)))\\n\\ntraining_stepb = tf.train.AdamOptimizer(learning_rate=0.0001).minimize(costb)\\n\\ninitb = tf.initialize_all_variables()\\nsessb.run(initb)'"
      ]
     },
     "execution_count": 33,
     "metadata": {},
     "output_type": "execute_result"
    }
   ],
   "source": [
    "'''sessb = tf.Session()\n",
    "\n",
    "feature_datab = tf.placeholder(\"float\", [None, 2400])\n",
    "actual_classesb = tf.placeholder(\"float\", [None, 1])\n",
    "\n",
    "weightsb = tf.Variable(tf.truncated_normal([2400, 1], stddev=0.0001))\n",
    "biasesb = tf.Variable(tf.ones([1]))\n",
    "\n",
    "modelb = tf.matmul(feature_datab, weightsb) + biasesb\n",
    "\n",
    "costb = tf.sqrt(tf.reduce_mean(tf.square(actual_classesb - modelb)))\n",
    "\n",
    "training_stepb = tf.train.AdamOptimizer(learning_rate=0.0001).minimize(costb)\n",
    "\n",
    "initb = tf.initialize_all_variables()\n",
    "sessb.run(initb)'''"
   ]
  },
  {
   "cell_type": "code",
   "execution_count": 34,
   "metadata": {
    "collapsed": false
   },
   "outputs": [
    {
     "data": {
      "text/plain": [
       "'accuracyb = tf.sqrt(tf.reduce_mean(tf.square(actual_classesb - modelb)))\\n\\nfor i in range(1, 5001):\\n  sessb.run(\\n    training_stepb, \\n    feed_dict={\\n      feature_datab: training_predictors_tf.values, \\n      actual_classesb: training_classes_tf.values.reshape(len(training_classes_tf.values), 1)\\n    }\\n  )\\n  if i%100 == 0:\\n    print i, sessb.run(\\n      accuracyb,\\n      feed_dict={\\n        feature_datab: training_predictors_tf.values, \\n        actual_classesb: training_classes_tf.values.reshape(len(training_classes_tf.values), 1)\\n      }\\n    )'"
      ]
     },
     "execution_count": 34,
     "metadata": {},
     "output_type": "execute_result"
    }
   ],
   "source": [
    "'''accuracyb = tf.sqrt(tf.reduce_mean(tf.square(actual_classesb - modelb)))\n",
    "\n",
    "for i in range(1, 5001):\n",
    "  sessb.run(\n",
    "    training_stepb, \n",
    "    feed_dict={\n",
    "      feature_datab: training_predictors_tf.values, \n",
    "      actual_classesb: training_classes_tf.values.reshape(len(training_classes_tf.values), 1)\n",
    "    }\n",
    "  )\n",
    "  if i%100 == 0:\n",
    "    print i, sessb.run(\n",
    "      accuracyb,\n",
    "      feed_dict={\n",
    "        feature_datab: training_predictors_tf.values, \n",
    "        actual_classesb: training_classes_tf.values.reshape(len(training_classes_tf.values), 1)\n",
    "      }\n",
    "    )'''"
   ]
  },
  {
   "cell_type": "code",
   "execution_count": 35,
   "metadata": {
    "collapsed": false
   },
   "outputs": [
    {
     "data": {
      "text/plain": [
       "\"predictionsb = sessb.run(\\n    modelb, \\n    feed_dict={\\n      feature_datab: training_predictors_tf.values, \\n      actual_classesb: training_classes_tf.values.reshape(len(training_classes_tf.values), 1)\\n    }\\n  )\\npredictionsb[:10]\\ntmpb = pd.DataFrame(training_classes_tf)\\ntmpb['xyz'] = predictionsb.ravel()\\ntmpb[:10]\""
      ]
     },
     "execution_count": 35,
     "metadata": {},
     "output_type": "execute_result"
    }
   ],
   "source": [
    "'''predictionsb = sessb.run(\n",
    "    modelb, \n",
    "    feed_dict={\n",
    "      feature_datab: training_predictors_tf.values, \n",
    "      actual_classesb: training_classes_tf.values.reshape(len(training_classes_tf.values), 1)\n",
    "    }\n",
    "  )\n",
    "predictionsb[:10]\n",
    "tmpb = pd.DataFrame(training_classes_tf)\n",
    "tmpb['xyz'] = predictionsb.ravel()\n",
    "tmpb[:10]'''"
   ]
  },
  {
   "cell_type": "code",
   "execution_count": 36,
   "metadata": {
    "collapsed": false
   },
   "outputs": [
    {
     "data": {
      "text/plain": [
       "'_ = tmpb.plot(figsize=(20, 15))'"
      ]
     },
     "execution_count": 36,
     "metadata": {},
     "output_type": "execute_result"
    }
   ],
   "source": [
    "'''_ = tmpb.plot(figsize=(20, 15))'''"
   ]
  },
  {
   "cell_type": "code",
   "execution_count": 37,
   "metadata": {
    "collapsed": false
   },
   "outputs": [
    {
     "data": {
      "text/plain": [
       "'sessa = tf.Session()\\n\\nfeature_dataa = tf.placeholder(\"float\", [None, 240])\\nactual_classesa = tf.placeholder(\"float\", [None, 1])\\n\\nweights1a = tf.Variable(tf.truncated_normal([240, 100], stddev=0.0001))\\nbiases1a = tf.Variable(tf.ones([100]))\\n\\nweights2a = tf.Variable(tf.truncated_normal([100, 1], stddev=0.0001))\\nbiases2a = tf.Variable(tf.ones([1]))\\n\\nhidden_layer_1a = tf.sigmoid(tf.matmul(feature_dataa, weights1a) + biases1a)\\nmodela = tf.matmul(hidden_layer_1a, weights2a) + biases2a\\n\\ncosta = tf.sqrt(tf.reduce_mean(tf.square(actual_classesa - modela)))\\n\\ntraining_stepa = tf.train.AdamOptimizer(learning_rate=0.0001).minimize(costa)\\n\\ninita = tf.initialize_all_variables()\\nsessa.run(inita)'"
      ]
     },
     "execution_count": 37,
     "metadata": {},
     "output_type": "execute_result"
    }
   ],
   "source": [
    "'''sessa = tf.Session()\n",
    "\n",
    "feature_dataa = tf.placeholder(\"float\", [None, 240])\n",
    "actual_classesa = tf.placeholder(\"float\", [None, 1])\n",
    "\n",
    "weights1a = tf.Variable(tf.truncated_normal([240, 100], stddev=0.0001))\n",
    "biases1a = tf.Variable(tf.ones([100]))\n",
    "\n",
    "weights2a = tf.Variable(tf.truncated_normal([100, 1], stddev=0.0001))\n",
    "biases2a = tf.Variable(tf.ones([1]))\n",
    "\n",
    "hidden_layer_1a = tf.sigmoid(tf.matmul(feature_dataa, weights1a) + biases1a)\n",
    "modela = tf.matmul(hidden_layer_1a, weights2a) + biases2a\n",
    "\n",
    "costa = tf.sqrt(tf.reduce_mean(tf.square(actual_classesa - modela)))\n",
    "\n",
    "training_stepa = tf.train.AdamOptimizer(learning_rate=0.0001).minimize(costa)\n",
    "\n",
    "inita = tf.initialize_all_variables()\n",
    "sessa.run(inita)'''"
   ]
  },
  {
   "cell_type": "code",
   "execution_count": 38,
   "metadata": {
    "collapsed": false
   },
   "outputs": [
    {
     "data": {
      "text/plain": [
       "'accuracya = tf.sqrt(tf.reduce_mean(tf.square(actual_classesa - modela)))\\n\\nfor i in range(5000):\\n  \\n  start = 5000*(i%10)\\n  end = start+5000\\n  \\n  feature_data = training_predictors_tf[start:end].values\\n  actual_classes = training_classes_tf[start:end].values\\n  actual_classes_reshaped = actual_classes.reshape(len(actual_classes), 1)\\n  \\n  #print start, end, end-start, len(feature_data), len(actual_classes)\\n  \\n  sessa.run(\\n    training_stepa, \\n    feed_dict={\\n      feature_dataa: feature_data, \\n      actual_classesa: actual_classes_reshaped\\n    }\\n  )\\n  if i%50 == 0:\\n    print i, sessa.run(\\n      accuracya,\\n      feed_dict={\\n        feature_dataa: feature_data, \\n        actual_classesa: actual_classes_reshaped\\n      }\\n    )'"
      ]
     },
     "execution_count": 38,
     "metadata": {},
     "output_type": "execute_result"
    }
   ],
   "source": [
    "'''accuracya = tf.sqrt(tf.reduce_mean(tf.square(actual_classesa - modela)))\n",
    "\n",
    "for i in range(5000):\n",
    "  \n",
    "  start = 5000*(i%10)\n",
    "  end = start+5000\n",
    "  \n",
    "  feature_data = training_predictors_tf[start:end].values\n",
    "  actual_classes = training_classes_tf[start:end].values\n",
    "  actual_classes_reshaped = actual_classes.reshape(len(actual_classes), 1)\n",
    "  \n",
    "  #print start, end, end-start, len(feature_data), len(actual_classes)\n",
    "  \n",
    "  sessa.run(\n",
    "    training_stepa, \n",
    "    feed_dict={\n",
    "      feature_dataa: feature_data, \n",
    "      actual_classesa: actual_classes_reshaped\n",
    "    }\n",
    "  )\n",
    "  if i%50 == 0:\n",
    "    print i, sessa.run(\n",
    "      accuracya,\n",
    "      feed_dict={\n",
    "        feature_dataa: feature_data, \n",
    "        actual_classesa: actual_classes_reshaped\n",
    "      }\n",
    "    )'''"
   ]
  },
  {
   "cell_type": "code",
   "execution_count": 39,
   "metadata": {
    "collapsed": false
   },
   "outputs": [
    {
     "data": {
      "text/plain": [
       "\"predictionsa = sessa.run(\\n    modela, \\n    feed_dict={\\n      feature_dataa: training_predictors_tf.values, \\n      actual_classesa: training_classes_tf.values.reshape(len(training_classes_tf.values), 1)\\n    }\\n  )\\nprint predictionsa[:10]\\ntmpa = pd.DataFrame(training_classes_tf)\\ntmpa['xyz'] = predictionsa.ravel()\\ntmpa[:10]\""
      ]
     },
     "execution_count": 39,
     "metadata": {},
     "output_type": "execute_result"
    }
   ],
   "source": [
    "'''predictionsa = sessa.run(\n",
    "    modela, \n",
    "    feed_dict={\n",
    "      feature_dataa: training_predictors_tf.values, \n",
    "      actual_classesa: training_classes_tf.values.reshape(len(training_classes_tf.values), 1)\n",
    "    }\n",
    "  )\n",
    "print predictionsa[:10]\n",
    "tmpa = pd.DataFrame(training_classes_tf)\n",
    "tmpa['xyz'] = predictionsa.ravel()\n",
    "tmpa[:10]'''"
   ]
  },
  {
   "cell_type": "code",
   "execution_count": 40,
   "metadata": {
    "collapsed": false
   },
   "outputs": [
    {
     "data": {
      "text/plain": [
       "\"_ = tmpa[45000:45100].plot(style='-o', figsize=(20, 15))\""
      ]
     },
     "execution_count": 40,
     "metadata": {},
     "output_type": "execute_result"
    }
   ],
   "source": [
    "'''_ = tmpa[45000:45100].plot(style='-o', figsize=(20, 15))'''"
   ]
  },
  {
   "cell_type": "code",
   "execution_count": 41,
   "metadata": {
    "collapsed": false
   },
   "outputs": [
    {
     "data": {
      "text/plain": [
       "'sessc = tf.Session()\\n\\nfeature_datac = tf.placeholder(\"float\", [None, 2400])\\nactual_classesc = tf.placeholder(\"float\", [None, 1])\\n\\nweights1c = tf.Variable(tf.truncated_normal([2400, 100], stddev=0.0001))\\nbiases1c = tf.Variable(tf.ones([100]))\\n\\nweights2c = tf.Variable(tf.truncated_normal([100, 50], stddev=0.0001))\\nbiases2c = tf.Variable(tf.ones([50]))\\n\\nweights3c = tf.Variable(tf.truncated_normal([50, 1], stddev=0.0001))\\nbiases3c = tf.Variable(tf.ones([1]))\\n\\nhidden_layer_1c = tf.sigmoid(tf.matmul(feature_datac, weights1c) + biases1c)\\nhidden_layer_2c = tf.sigmoid(tf.matmul(hidden_layer_1c, weights2c) + biases2c)\\nmodelc = tf.matmul(hidden_layer_2c, weights3c) + biases3c\\n\\ncostc = tf.sqrt(tf.reduce_mean(tf.square(actual_classesc - modelc)))\\n\\ntraining_stepc = tf.train.AdamOptimizer(learning_rate=0.0001).minimize(costc)\\n\\ninitc = tf.initialize_all_variables()\\nsessc.run(initc)'"
      ]
     },
     "execution_count": 41,
     "metadata": {},
     "output_type": "execute_result"
    }
   ],
   "source": [
    "'''sessc = tf.Session()\n",
    "\n",
    "feature_datac = tf.placeholder(\"float\", [None, 2400])\n",
    "actual_classesc = tf.placeholder(\"float\", [None, 1])\n",
    "\n",
    "weights1c = tf.Variable(tf.truncated_normal([2400, 100], stddev=0.0001))\n",
    "biases1c = tf.Variable(tf.ones([100]))\n",
    "\n",
    "weights2c = tf.Variable(tf.truncated_normal([100, 50], stddev=0.0001))\n",
    "biases2c = tf.Variable(tf.ones([50]))\n",
    "\n",
    "weights3c = tf.Variable(tf.truncated_normal([50, 1], stddev=0.0001))\n",
    "biases3c = tf.Variable(tf.ones([1]))\n",
    "\n",
    "hidden_layer_1c = tf.sigmoid(tf.matmul(feature_datac, weights1c) + biases1c)\n",
    "hidden_layer_2c = tf.sigmoid(tf.matmul(hidden_layer_1c, weights2c) + biases2c)\n",
    "modelc = tf.matmul(hidden_layer_2c, weights3c) + biases3c\n",
    "\n",
    "costc = tf.sqrt(tf.reduce_mean(tf.square(actual_classesc - modelc)))\n",
    "\n",
    "training_stepc = tf.train.AdamOptimizer(learning_rate=0.0001).minimize(costc)\n",
    "\n",
    "initc = tf.initialize_all_variables()\n",
    "sessc.run(initc)'''"
   ]
  },
  {
   "cell_type": "code",
   "execution_count": 42,
   "metadata": {
    "collapsed": false
   },
   "outputs": [
    {
     "data": {
      "text/plain": [
       "'accuracyc = tf.sqrt(tf.reduce_mean(tf.square(actual_classesc - modelc)))\\n\\nfor i in range(1, 5001):\\n  sessc.run(\\n    training_stepc, \\n    feed_dict={\\n      feature_datac: training_predictors_tf.values, \\n      actual_classesc: training_classes_tf.values.reshape(len(training_classes_tf.values), 1)\\n    }\\n  )\\n  if i%100 == 0:\\n    print i, sessc.run(\\n      accuracyc,\\n      feed_dict={\\n        feature_datac: training_predictors_tf.values, \\n        actual_classesc: training_classes_tf.values.reshape(len(training_classes_tf.values), 1)\\n      }\\n    )'"
      ]
     },
     "execution_count": 42,
     "metadata": {},
     "output_type": "execute_result"
    }
   ],
   "source": [
    "'''accuracyc = tf.sqrt(tf.reduce_mean(tf.square(actual_classesc - modelc)))\n",
    "\n",
    "for i in range(1, 5001):\n",
    "  sessc.run(\n",
    "    training_stepc, \n",
    "    feed_dict={\n",
    "      feature_datac: training_predictors_tf.values, \n",
    "      actual_classesc: training_classes_tf.values.reshape(len(training_classes_tf.values), 1)\n",
    "    }\n",
    "  )\n",
    "  if i%100 == 0:\n",
    "    print i, sessc.run(\n",
    "      accuracyc,\n",
    "      feed_dict={\n",
    "        feature_datac: training_predictors_tf.values, \n",
    "        actual_classesc: training_classes_tf.values.reshape(len(training_classes_tf.values), 1)\n",
    "      }\n",
    "    )'''"
   ]
  },
  {
   "cell_type": "code",
   "execution_count": 43,
   "metadata": {
    "collapsed": false
   },
   "outputs": [
    {
     "data": {
      "text/plain": [
       "\"predictionsc = sessc.run(\\n    modelc, \\n    feed_dict={\\n      feature_datac: training_predictors_tf.values, \\n      actual_classesc: training_classes_tf.values.reshape(len(training_classes_tf.values), 1)\\n    }\\n  )\\nprint predictionsc[:10]\\ntmpc = pd.DataFrame(training_classes_tf)\\ntmpc['xyz'] = predictionsc.ravel()\\ntmpc[:10]\""
      ]
     },
     "execution_count": 43,
     "metadata": {},
     "output_type": "execute_result"
    }
   ],
   "source": [
    "'''predictionsc = sessc.run(\n",
    "    modelc, \n",
    "    feed_dict={\n",
    "      feature_datac: training_predictors_tf.values, \n",
    "      actual_classesc: training_classes_tf.values.reshape(len(training_classes_tf.values), 1)\n",
    "    }\n",
    "  )\n",
    "print predictionsc[:10]\n",
    "tmpc = pd.DataFrame(training_classes_tf)\n",
    "tmpc['xyz'] = predictionsc.ravel()\n",
    "tmpc[:10]'''"
   ]
  },
  {
   "cell_type": "code",
   "execution_count": 44,
   "metadata": {
    "collapsed": false
   },
   "outputs": [
    {
     "data": {
      "text/plain": [
       "'_ = tmpc.plot(figsize=(20, 15))'"
      ]
     },
     "execution_count": 44,
     "metadata": {},
     "output_type": "execute_result"
    }
   ],
   "source": [
    "'''_ = tmpc.plot(figsize=(20, 15))'''"
   ]
  },
  {
   "cell_type": "code",
   "execution_count": 45,
   "metadata": {
    "collapsed": false
   },
   "outputs": [
    {
     "data": {
      "text/plain": [
       "array([ 0.36153338,  0.3773959 ,  0.37629434, ...,  0.38048028,\n",
       "        0.36968495,  0.19145186])"
      ]
     },
     "execution_count": 45,
     "metadata": {},
     "output_type": "execute_result"
    }
   ],
   "source": [
    "training_classes_tf.values\n",
    "#training_predictors_tf.values"
   ]
  },
  {
   "cell_type": "code",
   "execution_count": 47,
   "metadata": {
    "collapsed": false
   },
   "outputs": [
    {
     "name": "stdout",
     "output_type": "stream",
     "text": [
      "Downloading/unpacking git+git://github.com/google/skflow.git\n",
      "  Cloning git://github.com/google/skflow.git to /tmp/pip-G1Fmwd-build\n",
      "  Running setup.py (path:/tmp/pip-G1Fmwd-build/setup.py) egg_info for package from git+git://github.com/google/skflow.git\n",
      "    \n",
      "Downloading/unpacking sklearn (from skflow==0.0.1)\n",
      "  Downloading sklearn-0.0.tar.gz\n",
      "  Running setup.py (path:/tmp/pip-build-ws0WIN/sklearn/setup.py) egg_info for package sklearn\n",
      "    \n",
      "    file wheel-platform-tag-is-broken-on-empty-wheels-see-issue-141.py (for module wheel-platform-tag-is-broken-on-empty-wheels-see-issue-141) not found\n",
      "Requirement already satisfied (use --upgrade to upgrade): scipy in /usr/local/lib/python2.7/dist-packages (from skflow==0.0.1)\n",
      "Requirement already satisfied (use --upgrade to upgrade): numpy in /usr/local/lib/python2.7/dist-packages (from skflow==0.0.1)\n",
      "Requirement already satisfied (use --upgrade to upgrade): scikit-learn in /usr/local/lib/python2.7/dist-packages (from sklearn->skflow==0.0.1)\n",
      "Installing collected packages: sklearn, skflow\n",
      "  Running setup.py install for sklearn\n",
      "    file wheel-platform-tag-is-broken-on-empty-wheels-see-issue-141.py (for module wheel-platform-tag-is-broken-on-empty-wheels-see-issue-141) not found\n",
      "    file wheel-platform-tag-is-broken-on-empty-wheels-see-issue-141.py (for module wheel-platform-tag-is-broken-on-empty-wheels-see-issue-141) not found\n",
      "    warning: install_lib: 'build/lib.linux-x86_64-2.7' does not exist -- no Python modules to install\n",
      "    \n",
      "    \n",
      "    file wheel-platform-tag-is-broken-on-empty-wheels-see-issue-141.py (for module wheel-platform-tag-is-broken-on-empty-wheels-see-issue-141) not found\n",
      "    file wheel-platform-tag-is-broken-on-empty-wheels-see-issue-141.py (for module wheel-platform-tag-is-broken-on-empty-wheels-see-issue-141) not found\n",
      "  Running setup.py install for skflow\n",
      "    \n",
      "Successfully installed sklearn skflow\n",
      "Cleaning up...\n"
     ]
    }
   ],
   "source": [
    "!pip install git+git://github.com/google/skflow.git"
   ]
  },
  {
   "cell_type": "code",
   "execution_count": 48,
   "metadata": {
    "collapsed": false
   },
   "outputs": [
    {
     "data": {
      "text/plain": [
       "(array([[ 0.04009694,  0.04097819,  0.04163913, ...,  0.04011847,\n",
       "          0.04308024,  0.05008078],\n",
       "        [ 0.13637365,  0.12976427,  0.12447676, ...,  0.07081314,\n",
       "          0.06300485,  0.06704362],\n",
       "        [ 0.2350738 ,  0.15311743,  0.02665785, ...,  0.32498654,\n",
       "          0.31017771,  0.30748519],\n",
       "        ..., \n",
       "        [ 0.17294558,  0.17514871,  0.17338621, ...,  0.03634895,\n",
       "          0.03392569,  0.0366182 ],\n",
       "        [ 0.13791584,  0.13945803,  0.14077991, ...,  0.02234787,\n",
       "          0.03123317,  0.03500269],\n",
       "        [ 0.01101564,  0.01101564,  0.01586252, ...,  0.03042542,\n",
       "          0.03123317,  0.02423263]]),\n",
       " array([ 0.03304693,  0.19938312,  0.23485349, ...,  0.1749284 ,\n",
       "         0.13571271,  0.01057502]))"
      ]
     },
     "execution_count": 48,
     "metadata": {},
     "output_type": "execute_result"
    }
   ],
   "source": [
    "import skflow\n",
    "from sklearn.cross_validation import train_test_split\n",
    "from sklearn.metrics import mean_squared_error\n",
    "\n",
    "y, X = training_classes_tf.values, training_predictors_tf.values\n",
    "X_train, X_test, y_train, y_test = train_test_split(X, y, test_size=0.2, random_state=42)\n",
    "\n",
    "X_test, y_test"
   ]
  },
  {
   "cell_type": "code",
   "execution_count": 65,
   "metadata": {
    "collapsed": false
   },
   "outputs": [
    {
     "name": "stdout",
     "output_type": "stream",
     "text": [
      "Step #1, avg. loss: 0.16900\n",
      "Step #100001, avg. loss: 0.00288\n",
      "Step #200001, avg. loss: 0.00201\n",
      "Step #300001, avg. loss: 0.00179\n",
      "Step #400001, avg. loss: 0.00168\n",
      "Step #500001, avg. loss: 0.00157\n",
      "Step #600001, avg. loss: 0.00150\n",
      "Step #700001, avg. loss: 0.00142\n",
      "Step #800001, avg. loss: 0.00131\n",
      "Step #900001, avg. loss: 0.00129\n",
      "MSE: 0.001532\n"
     ]
    }
   ],
   "source": [
    "regressor = skflow.TensorFlowDNNRegressor(\n",
    "  hidden_units=[250, 250],\n",
    "  steps=1000000, \n",
    "  learning_rate=0.01, \n",
    "  batch_size=1)\n",
    "regressor.fit(X_train, y_train)\n",
    "score = mean_squared_error(regressor.predict(X_test), y_test)\n",
    "print('MSE: {0:f}'.format(score))"
   ]
  },
  {
   "cell_type": "code",
   "execution_count": 66,
   "metadata": {
    "collapsed": false
   },
   "outputs": [
    {
     "name": "stdout",
     "output_type": "stream",
     "text": [
      "0      float64\n",
      "xyz    float32\n",
      "dtype: object\n"
     ]
    },
    {
     "data": {
      "text/plain": [
       "'xyz = regressor.predict(X_test)\\nprint len(xyz)\\n\\nprint len(y_test)'"
      ]
     },
     "execution_count": 66,
     "metadata": {},
     "output_type": "execute_result"
    }
   ],
   "source": [
    "tmpd = pd.DataFrame(y_test)\n",
    "tmpd['xyz'] = regressor.predict(X_test)\n",
    "print tmpd[:10].dtypes\n",
    "\n",
    "'''xyz = regressor.predict(X_test)\n",
    "print len(xyz)\n",
    "\n",
    "print len(y_test)'''"
   ]
  },
  {
   "cell_type": "code",
   "execution_count": 67,
   "metadata": {
    "collapsed": false
   },
   "outputs": [
    {
     "data": {
      "image/png": "[encoded data removed]",
      "text/plain": [
       "<matplotlib.figure.Figure at 0x7fe5ac936150>"
      ]
     },
     "metadata": {},
     "output_type": "display_data"
    }
   ],
   "source": [
    "_ = tmpd[150:200].plot(style='-o', figsize=(20, 15))"
   ]
  }
 ],
 "metadata": {
  "kernelspec": {
   "display_name": "Python 2",
   "language": "python",
   "name": "python2"
  },
  "language_info": {
   "codemirror_mode": {
    "name": "ipython",
    "version": 2
   },
   "file_extension": ".py",
   "mimetype": "text/x-python",
   "name": "python",
   "nbconvert_exporter": "python",
   "pygments_lexer": "ipython2",
   "version": "2.7.9"
  }
 },
 "nbformat": 4,
 "nbformat_minor": 0
}
