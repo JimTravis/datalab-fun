{
 "cells": [
  {
   "cell_type": "markdown",
   "metadata": {},
   "source": [
    "# Accessing R from Google Cloud Datalab"
   ]
  },
  {
   "cell_type": "markdown",
   "metadata": {},
   "source": [
    "[iPython/Juypter](http://ipython.org/) versus [R](https://www.r-project.org/), that old chestnut.  It's all about preference.  I have to admit I prefer iPython and I really like [Google Cloud Datalab](https://cloud.google.com/datalab/) because it's fully managed and I spend my time writing code...  However, R has some really useful libraries, especially for financial analysis, so I love the idea of accessing R on demand from iPython using [rpy2](http://rpy.sourceforge.net/).  Here's my take on making that happen in Datalab."
   ]
  },
  {
   "cell_type": "markdown",
   "metadata": {},
   "source": [
    "First, make some assumptions about the VM running Datalab, then use those to make some updates in preparation for installing R and rpy2."
   ]
  },
  {
   "cell_type": "code",
   "execution_count": 15,
   "metadata": {
    "collapsed": false
   },
   "outputs": [],
   "source": [
    "!cp /etc/apt/sources.list.bak /etc/apt/sources.list"
   ]
  },
  {
   "cell_type": "code",
   "execution_count": 16,
   "metadata": {
    "collapsed": false
   },
   "outputs": [
    {
     "name": "stdout",
     "output_type": "stream",
     "text": [
      "Reading package lists... Done\n",
      "Building dependency tree       \n",
      "Reading state information... Done\n",
      "Calculating upgrade... Done\n",
      "0 upgraded, 0 newly installed, 0 to remove and 0 not upgraded.\n",
      "Hit http://ftp.us.debian.org testing InRelease\n",
      "Hit http://security.debian.org jessie/updates InRelease\n",
      "Get:1 http://ftp.us.debian.org testing/main Sources [10.0 MB]\n",
      "Ign http://httpredir.debian.org jessie InRelease\n",
      "Get:2 http://security.debian.org jessie/updates/main amd64 Packages [230 kB]\n",
      "Hit http://httpredir.debian.org jessie-updates InRelease\n",
      "Hit http://httpredir.debian.org jessie Release.gpg\n",
      "Get:3 http://httpredir.debian.org jessie-updates/main amd64 Packages [3619 B]\n",
      "Hit http://httpredir.debian.org jessie Release\n",
      "Get:4 http://httpredir.debian.org jessie/main amd64 Packages [9035 kB]\n",
      "Fetched 19.3 MB in 2s (8597 kB/s)\n",
      "Reading package lists... Done\n"
     ]
    }
   ],
   "source": [
    "!apt-get upgrade -y\n",
    "!apt-get update"
   ]
  },
  {
   "cell_type": "code",
   "execution_count": 17,
   "metadata": {
    "collapsed": false
   },
   "outputs": [
    {
     "name": "stdout",
     "output_type": "stream",
     "text": [
      "Executing: gpg --ignore-time-conflict --no-options --no-default-keyring --homedir /tmp/tmp.6l5Mid02z4 --no-auto-check-trustdb --trust-model always --keyring /etc/apt/trusted.gpg --primary-keyring /etc/apt/trusted.gpg --keyring /etc/apt/trusted.gpg.d/debian-archive-jessie-automatic.gpg --keyring /etc/apt/trusted.gpg.d/debian-archive-jessie-security-automatic.gpg --keyring /etc/apt/trusted.gpg.d/debian-archive-jessie-stable.gpg --keyring /etc/apt/trusted.gpg.d/debian-archive-squeeze-automatic.gpg --keyring /etc/apt/trusted.gpg.d/debian-archive-squeeze-stable.gpg --keyring /etc/apt/trusted.gpg.d/debian-archive-wheezy-automatic.gpg --keyring /etc/apt/trusted.gpg.d/debian-archive-wheezy-stable.gpg --keyserver keyserver.ubuntu.com --recv-keys E084DAB9\n",
      "gpg: requesting key E084DAB9 from hkp server keyserver.ubuntu.com\n",
      "gpg: key E084DAB9: \"Michael Rutter <marutter@gmail.com>\" not changed\n",
      "gpg: Total number processed: 1\n",
      "gpg:              unchanged: 1\n"
     ]
    }
   ],
   "source": [
    "!if [ `grep 'cran' /etc/apt/sources.list | wc -l` = 0 ]; then echo \"deb http://cran.rstudio.com/bin/linux/debian jessie-cran3/\" >> /etc/apt/sources.list; fi\n",
    "!apt-key adv --keyserver keyserver.ubuntu.com --recv-keys E084DAB9"
   ]
  },
  {
   "cell_type": "code",
   "execution_count": 27,
   "metadata": {
    "collapsed": false
   },
   "outputs": [],
   "source": [
    "!rm /etc/apt/sources.list.bak\n",
    "!echo \"deb http://httpredir.debian.org/debian jessie main\" >> /etc/apt/sources.list.bak\n",
    "!echo \"deb http://httpredir.debian.org/debian jessie-updates main\" >> /etc/apt/sources.list.bak\n",
    "!echo \"deb http://security.debian.org jessie/updates main\" >> /etc/apt/sources.list.bak\n",
    "!echo \"deb-src http://ftp.us.debian.org/debian testing main\" >> /etc/apt/sources.list.bak"
   ]
  },
  {
   "cell_type": "markdown",
   "metadata": {},
   "source": [
    "Second, install R."
   ]
  },
  {
   "cell_type": "code",
   "execution_count": 19,
   "metadata": {
    "collapsed": false
   },
   "outputs": [
    {
     "name": "stdout",
     "output_type": "stream",
     "text": [
      "Reading package lists... Done\n",
      "Building dependency tree       \n",
      "Reading state information... Done\n",
      "r-base is already the newest version.\n",
      "r-base-dev is already the newest version.\n",
      "0 upgraded, 0 newly installed, 0 to remove and 0 not upgraded.\n"
     ]
    }
   ],
   "source": [
    "!apt-get install -y r-base r-base-dev"
   ]
  },
  {
   "cell_type": "markdown",
   "metadata": {},
   "source": [
    "Third, install rpy2."
   ]
  },
  {
   "cell_type": "code",
   "execution_count": 20,
   "metadata": {
    "collapsed": false
   },
   "outputs": [
    {
     "name": "stdout",
     "output_type": "stream",
     "text": [
      "Requirement already satisfied (use --upgrade to upgrade): rpy2 in /usr/local/lib/python2.7/dist-packages\r\n",
      "Requirement already satisfied (use --upgrade to upgrade): six in /usr/lib/python2.7/dist-packages (from rpy2)\r\n",
      "Requirement already satisfied (use --upgrade to upgrade): singledispatch in /usr/local/lib/python2.7/dist-packages (from rpy2)\r\n",
      "Cleaning up...\r\n"
     ]
    }
   ],
   "source": [
    "!pip install rpy2"
   ]
  },
  {
   "cell_type": "markdown",
   "metadata": {},
   "source": [
    "Fourth, and last, activate the R cell magic."
   ]
  },
  {
   "cell_type": "code",
   "execution_count": 21,
   "metadata": {
    "collapsed": false
   },
   "outputs": [
    {
     "name": "stdout",
     "output_type": "stream",
     "text": [
      "The rpy2.ipython extension is already loaded. To reload it, use:\n",
      "  %reload_ext rpy2.ipython\n"
     ]
    }
   ],
   "source": [
    "%load_ext rpy2.ipython"
   ]
  },
  {
   "cell_type": "markdown",
   "metadata": {},
   "source": [
    "Install ggplot2 if required."
   ]
  },
  {
   "cell_type": "code",
   "execution_count": 22,
   "metadata": {
    "collapsed": true
   },
   "outputs": [],
   "source": [
    "%%R\n",
    "mtcars$am     <- as.factor(mtcars$am)\n",
    "mtcars$cyl    <- as.factor(mtcars$cyl)\n",
    "mtcars$vs     <- as.factor(mtcars$vs)\n",
    "mtcars$gear   <- as.factor(mtcars$gear)"
   ]
  },
  {
   "cell_type": "code",
   "execution_count": 23,
   "metadata": {
    "collapsed": false
   },
   "outputs": [
    {
     "data": {
      "text/plain": [
       "\n",
       "Call:\n",
       "lm(formula = mpg ~ ., data = mtcars)\n",
       "\n",
       "Residuals:\n",
       "    Min      1Q  Median      3Q     Max \n",
       "-3.2015 -1.2319  0.1033  1.1953  4.3085 \n",
       "\n",
       "Coefficients:\n",
       "            Estimate Std. Error t value Pr(>|t|)  \n",
       "(Intercept) 15.09262   17.13627   0.881   0.3895  \n",
       "cyl6        -1.19940    2.38736  -0.502   0.6212  \n",
       "cyl8         3.05492    4.82987   0.633   0.5346  \n",
       "disp         0.01257    0.01774   0.708   0.4873  \n",
       "hp          -0.05712    0.03175  -1.799   0.0879 .\n",
       "drat         0.73577    1.98461   0.371   0.7149  \n",
       "wt          -3.54512    1.90895  -1.857   0.0789 .\n",
       "qsec         0.76801    0.75222   1.021   0.3201  \n",
       "vs1          2.48849    2.54015   0.980   0.3396  \n",
       "am1          3.34736    2.28948   1.462   0.1601  \n",
       "gear4       -0.99922    2.94658  -0.339   0.7382  \n",
       "gear5        1.06455    3.02730   0.352   0.7290  \n",
       "carb         0.78703    1.03599   0.760   0.4568  \n",
       "---\n",
       "Signif. codes:  0 '***' 0.001 '**' 0.01 '*' 0.05 '.' 0.1 ' ' 1\n",
       "\n",
       "Residual standard error: 2.616 on 19 degrees of freedom\n",
       "Multiple R-squared:  0.8845,\tAdjusted R-squared:  0.8116 \n",
       "F-statistic: 12.13 on 12 and 19 DF,  p-value: 1.764e-06\n",
       "\n"
      ]
     },
     "metadata": {},
     "output_type": "display_data"
    }
   ],
   "source": [
    "%%R\n",
    "fit <- lm(mpg ~ ., data=mtcars)\n",
    "summary(fit)"
   ]
  },
  {
   "cell_type": "code",
   "execution_count": 24,
   "metadata": {
    "collapsed": false
   },
   "outputs": [
    {
     "data": {
      "text/plain": [
       "\n",
       "Call:\n",
       "lm(formula = mpg ~ hp + wt + gear, data = mtcars)\n",
       "\n",
       "Residuals:\n",
       "    Min      1Q  Median      3Q     Max \n",
       "-3.3025 -1.9307 -0.3722  1.0243  5.9784 \n",
       "\n",
       "Coefficients:\n",
       "            Estimate Std. Error t value Pr(>|t|)    \n",
       "(Intercept) 34.87245    2.58016  13.516 1.56e-13 ***\n",
       "hp          -0.03497    0.01260  -2.775   0.0099 ** \n",
       "wt          -3.23852    0.87782  -3.689   0.0010 ** \n",
       "gear4        1.26490    1.34084   0.943   0.3539    \n",
       "gear5        1.87356    1.86662   1.004   0.3244    \n",
       "---\n",
       "Signif. codes:  0 '***' 0.001 '**' 0.01 '*' 0.05 '.' 0.1 ' ' 1\n",
       "\n",
       "Residual standard error: 2.619 on 27 degrees of freedom\n",
       "Multiple R-squared:  0.8356,\tAdjusted R-squared:  0.8112 \n",
       "F-statistic:  34.3 on 4 and 27 DF,  p-value: 3.196e-10\n",
       "\n"
      ]
     },
     "metadata": {},
     "output_type": "display_data"
    }
   ],
   "source": [
    "%%R\n",
    "fit2 <- lm(mpg ~ hp + wt + gear, data=mtcars)\n",
    "summary(fit2)"
   ]
  },
  {
   "cell_type": "code",
   "execution_count": 25,
   "metadata": {
    "collapsed": false
   },
   "outputs": [
    {
     "data": {
      "text/plain": [
       "\n",
       "Call:\n",
       "lm(formula = mpg ~ hp + wt, data = mtcars)\n",
       "\n",
       "Residuals:\n",
       "   Min     1Q Median     3Q    Max \n",
       "-3.941 -1.600 -0.182  1.050  5.854 \n",
       "\n",
       "Coefficients:\n",
       "            Estimate Std. Error t value Pr(>|t|)    \n",
       "(Intercept) 37.22727    1.59879  23.285  < 2e-16 ***\n",
       "hp          -0.03177    0.00903  -3.519  0.00145 ** \n",
       "wt          -3.87783    0.63273  -6.129 1.12e-06 ***\n",
       "---\n",
       "Signif. codes:  0 '***' 0.001 '**' 0.01 '*' 0.05 '.' 0.1 ' ' 1\n",
       "\n",
       "Residual standard error: 2.593 on 29 degrees of freedom\n",
       "Multiple R-squared:  0.8268,\tAdjusted R-squared:  0.8148 \n",
       "F-statistic: 69.21 on 2 and 29 DF,  p-value: 9.109e-12\n",
       "\n"
      ]
     },
     "metadata": {},
     "output_type": "display_data"
    }
   ],
   "source": [
    "%%R\n",
    "fit3 <- lm(mpg ~ hp + wt, data=mtcars)\n",
    "summary(fit3)"
   ]
  },
  {
   "cell_type": "code",
   "execution_count": 26,
   "metadata": {
    "collapsed": false
   },
   "outputs": [
    {
     "data": {
      "image/png": "[encoded data removed]"
     },
     "metadata": {},
     "output_type": "display_data"
    }
   ],
   "source": [
    "%%R --width 768 --height 768\n",
    "plot(fitted(fit3), resid(fit3))\n",
    "abline(h = 0)"
   ]
  }
 ],
 "metadata": {
  "kernelspec": {
   "display_name": "Python 2",
   "language": "python",
   "name": "python2"
  },
  "language_info": {
   "codemirror_mode": {
    "name": "ipython",
    "version": 2
   },
   "file_extension": ".py",
   "mimetype": "text/x-python",
   "name": "python",
   "nbconvert_exporter": "python",
   "pygments_lexer": "ipython2",
   "version": "2.7.9"
  }
 },
 "nbformat": 4,
 "nbformat_minor": 0
}
