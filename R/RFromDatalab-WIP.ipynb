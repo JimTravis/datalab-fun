{
 "cells": [
  {
   "cell_type": "markdown",
   "metadata": {},
   "source": [
    "# Accessing R from Google Cloud Datalab"
   ]
  },
  {
   "cell_type": "markdown",
   "metadata": {},
   "source": [
    "[iPython/Juypter](http://ipython.org/) versus [R](https://www.r-project.org/), that old chestnut.  It's all about preference.  I have to admit I prefer iPython and I really like [Google Cloud Datalab](https://cloud.google.com/datalab/) because it's fully managed and I spend my time writing code...  However, R has some really useful libraries, especially for financial analysis, so I love the idea of accessing R on demand from iPython using [rpy2](http://rpy.sourceforge.net/).  Here's my take on making that happen in Datalab."
   ]
  },
  {
   "cell_type": "markdown",
   "metadata": {},
   "source": [
    "First, make some assumptions about the VM running Datalab, then use those to make some updates in preparation for installing R and rpy2."
   ]
  },
  {
   "cell_type": "code",
   "execution_count": 1,
   "metadata": {
    "collapsed": false
   },
   "outputs": [
    {
     "name": "stdout",
     "output_type": "stream",
     "text": [
      "Reading package lists... Done\n",
      "Building dependency tree       \n",
      "Reading state information... Done\n",
      "Calculating upgrade... Done\n",
      "The following packages will be upgraded:\n",
      "  apt base-files dpkg dpkg-dev libapt-pkg4.12 libc-bin libdpkg-perl\n",
      "  libfreetype6 libfreetype6-dev libgssapi-krb5-2 libicu52 libk5crypto3\n",
      "  libkrb5-3 libkrb5support0 libldap-2.4-2 libpng12-0 libpng12-dev libsasl2-2\n",
      "  libsasl2-modules-db libssl1.0.0 libsystemd0 libudev1 libxml2 libxml2-dev\n",
      "  linux-libc-dev multiarch-support openssl systemd systemd-sysv tzdata udev\n",
      "  unzip\n",
      "32 upgraded, 0 newly installed, 0 to remove and 0 not upgraded.\n",
      "Need to get 26.5 MB of archives.\n",
      "After this operation, 280 kB of additional disk space will be used.\n",
      "Get:1 http://security.debian.org/ jessie/updates/main dpkg amd64 1.17.26 [2991 kB]\n",
      "Get:2 http://httpredir.debian.org/debian/ jessie/main base-files amd64 8+deb8u2 [77.9 kB]\n",
      "Get:3 http://httpredir.debian.org/debian/ jessie/main libc-bin amd64 2.19-18+deb8u1 [1284 kB]\n",
      "Get:4 http://httpredir.debian.org/debian/ jessie/main udev amd64 215-17+deb8u2 [878 kB]\n",
      "Get:5 http://httpredir.debian.org/debian/ jessie/main libapt-pkg4.12 amd64 1.0.9.8.1 [791 kB]\n",
      "Get:6 http://httpredir.debian.org/debian/ jessie/main apt amd64 1.0.9.8.1 [1110 kB]\n",
      "Get:7 http://httpredir.debian.org/debian/ jessie/main systemd amd64 215-17+deb8u2 [2550 kB]\n",
      "Get:8 http://httpredir.debian.org/debian/ jessie/main libudev1 amd64 215-17+deb8u2 [55.7 kB]\n",
      "Get:9 http://httpredir.debian.org/debian/ jessie/main systemd-sysv amd64 215-17+deb8u2 [34.5 kB]\n",
      "Get:10 http://httpredir.debian.org/debian/ jessie-updates/main tzdata all 2015g-0+deb8u1 [184 kB]\n",
      "Get:11 http://httpredir.debian.org/debian/ jessie/main multiarch-support amd64 2.19-18+deb8u1 [179 kB]\n",
      "Get:12 http://httpredir.debian.org/debian/ jessie/main libsystemd0 amd64 215-17+deb8u2 [87.2 kB]\n",
      "Get:13 http://security.debian.org/ jessie/updates/main libssl1.0.0 amd64 1.0.1k-3+deb8u2 [1038 kB]\n",
      "Get:14 http://security.debian.org/ jessie/updates/main libgssapi-krb5-2 amd64 1.12.1+dfsg-19+deb8u1 [151 kB]\n",
      "Get:15 http://security.debian.org/ jessie/updates/main libkrb5-3 amd64 1.12.1+dfsg-19+deb8u1 [302 kB]\n",
      "Get:16 http://security.debian.org/ jessie/updates/main libkrb5support0 amd64 1.12.1+dfsg-19+deb8u1 [58.7 kB]\n",
      "Get:17 http://security.debian.org/ jessie/updates/main libk5crypto3 amd64 1.12.1+dfsg-19+deb8u1 [115 kB]\n",
      "Get:18 http://security.debian.org/ jessie/updates/main libsasl2-modules-db amd64 2.1.26.dfsg1-13+deb8u1 [67.1 kB]\n",
      "Get:19 http://security.debian.org/ jessie/updates/main libsasl2-2 amd64 2.1.26.dfsg1-13+deb8u1 [105 kB]\n",
      "Get:20 http://security.debian.org/ jessie/updates/main libldap-2.4-2 amd64 2.4.40+dfsg-1+deb8u1 [218 kB]\n",
      "Get:21 http://security.debian.org/ jessie/updates/main libxml2-dev amd64 2.9.1+dfsg1-5+deb8u1 [694 kB]\n",
      "Get:22 http://security.debian.org/ jessie/updates/main libxml2 amd64 2.9.1+dfsg1-5+deb8u1 [801 kB]\n",
      "Get:23 http://security.debian.org/ jessie/updates/main libpng12-dev amd64 1.2.50-2+deb8u1 [248 kB]\n",
      "Get:24 http://security.debian.org/ jessie/updates/main libpng12-0 amd64 1.2.50-2+deb8u1 [173 kB]\n",
      "Get:25 http://security.debian.org/ jessie/updates/main libfreetype6-dev amd64 2.5.2-3+deb8u1 [638 kB]\n",
      "Get:26 http://security.debian.org/ jessie/updates/main libfreetype6 amd64 2.5.2-3+deb8u1 [466 kB]\n",
      "Get:27 http://security.debian.org/ jessie/updates/main libicu52 amd64 52.1-8+deb8u3 [6784 kB]\n",
      "Get:28 http://security.debian.org/ jessie/updates/main dpkg-dev all 1.17.26 [1545 kB]\n",
      "Get:29 http://security.debian.org/ jessie/updates/main libdpkg-perl all 1.17.26 [1072 kB]\n",
      "Get:30 http://security.debian.org/ jessie/updates/main linux-libc-dev amd64 3.16.7-ckt20-1+deb8u1 [1008 kB]\n",
      "Get:31 http://security.debian.org/ jessie/updates/main openssl amd64 1.0.1k-3+deb8u2 [677 kB]\n",
      "Get:32 http://security.debian.org/ jessie/updates/main unzip amd64 6.0-16+deb8u2 [162 kB]\n",
      "Fetched 26.5 MB in 46s (574 kB/s)\n",
      "debconf: delaying package configuration, since apt-utils is not installed\n",
      "(Reading database ... 22542 files and directories currently installed.)\n",
      "Preparing to unpack .../base-files_8+deb8u2_amd64.deb ...\n",
      "Unpacking base-files (8+deb8u2) over (8+deb8u1) ...\n",
      "Setting up base-files (8+deb8u2) ...\n",
      "Installing new version of config file /etc/debian_version ...\n",
      "(Reading database ... 22542 files and directories currently installed.)\n",
      "Preparing to unpack .../dpkg_1.17.26_amd64.deb ...\n",
      "Unpacking dpkg (1.17.26) over (1.17.25) ...\n",
      "Setting up dpkg (1.17.26) ...\n",
      "(Reading database ... 22542 files and directories currently installed.)\n",
      "Preparing to unpack .../libapt-pkg4.12_1.0.9.8.1_amd64.deb ...\n",
      "Unpacking libapt-pkg4.12:amd64 (1.0.9.8.1) over (1.0.9.8) ...\n",
      "Setting up libapt-pkg4.12:amd64 (1.0.9.8.1) ...\n",
      "Processing triggers for libc-bin (2.19-18) ...\n",
      "(Reading database ... 22542 files and directories currently installed.)\n",
      "Preparing to unpack .../apt_1.0.9.8.1_amd64.deb ...\n",
      "Unpacking apt (1.0.9.8.1) over (1.0.9.8) ...\n",
      "Setting up apt (1.0.9.8.1) ...\n",
      "Processing triggers for libc-bin (2.19-18) ...\n",
      "(Reading database ... 22542 files and directories currently installed.)\n",
      "Preparing to unpack .../libc-bin_2.19-18+deb8u1_amd64.deb ...\n",
      "Unpacking libc-bin (2.19-18+deb8u1) over (2.19-18) ...\n",
      "Setting up libc-bin (2.19-18+deb8u1) ...\n",
      "(Reading database ... 22542 files and directories currently installed.)\n",
      "Preparing to unpack .../libudev1_215-17+deb8u2_amd64.deb ...\n",
      "Unpacking libudev1:amd64 (215-17+deb8u2) over (215-17+deb8u1) ...\n",
      "Setting up libudev1:amd64 (215-17+deb8u2) ...\n",
      "Processing triggers for libc-bin (2.19-18+deb8u1) ...\n",
      "(Reading database ... 22542 files and directories currently installed.)\n",
      "Preparing to unpack .../udev_215-17+deb8u2_amd64.deb ...\n",
      "debconf: unable to initialize frontend: Dialog\n",
      "debconf: (No usable dialog-like program is installed, so the dialog based frontend cannot be used. at /usr/share/perl5/Debconf/FrontEnd/Dialog.pm line 76.)\n",
      "debconf: falling back to frontend: Readline\n",
      "Unpacking udev (215-17+deb8u2) over (215-17+deb8u1) ...\n",
      "Processing triggers for systemd (215-17+deb8u1) ...\n",
      "Setting up udev (215-17+deb8u2) ...\n",
      "udev does not support containers, not started.\n",
      "(Reading database ... 22542 files and directories currently installed.)\n",
      "Preparing to unpack .../libsystemd0_215-17+deb8u2_amd64.deb ...\n",
      "Unpacking libsystemd0:amd64 (215-17+deb8u2) over (215-17+deb8u1) ...\n",
      "Setting up libsystemd0:amd64 (215-17+deb8u2) ...\n",
      "Processing triggers for libc-bin (2.19-18+deb8u1) ...\n",
      "(Reading database ... 22542 files and directories currently installed.)\n",
      "Preparing to unpack .../systemd_215-17+deb8u2_amd64.deb ...\n",
      "Unpacking systemd (215-17+deb8u2) over (215-17+deb8u1) ...\n",
      "Processing triggers for dbus (1.8.20-0+deb8u1) ...\n",
      "Setting up systemd (215-17+deb8u2) ...\n",
      "Installing new version of config file /etc/systemd/resolved.conf ...\n",
      "Failed to set capabilities on file `/usr/bin/systemd-detect-virt' (Invalid argument)\n",
      "The value of the capability argument is not permitted for a file. Or the file is not a regular (non-symlink) file\n",
      "(Reading database ... 22542 files and directories currently installed.)\n",
      "Preparing to unpack .../systemd-sysv_215-17+deb8u2_amd64.deb ...\n",
      "Unpacking systemd-sysv (215-17+deb8u2) over (215-17+deb8u1) ...\n",
      "Setting up systemd-sysv (215-17+deb8u2) ...\n",
      "(Reading database ... 22542 files and directories currently installed.)\n",
      "Preparing to unpack .../libssl1.0.0_1.0.1k-3+deb8u2_amd64.deb ...\n",
      "Unpacking libssl1.0.0:amd64 (1.0.1k-3+deb8u2) over (1.0.1k-3+deb8u1) ...\n",
      "Preparing to unpack .../libgssapi-krb5-2_1.12.1+dfsg-19+deb8u1_amd64.deb ...\n",
      "Unpacking libgssapi-krb5-2:amd64 (1.12.1+dfsg-19+deb8u1) over (1.12.1+dfsg-19) ...\n",
      "Preparing to unpack .../libkrb5-3_1.12.1+dfsg-19+deb8u1_amd64.deb ...\n",
      "Unpacking libkrb5-3:amd64 (1.12.1+dfsg-19+deb8u1) over (1.12.1+dfsg-19) ...\n",
      "Preparing to unpack .../libkrb5support0_1.12.1+dfsg-19+deb8u1_amd64.deb ...\n",
      "Unpacking libkrb5support0:amd64 (1.12.1+dfsg-19+deb8u1) over (1.12.1+dfsg-19) ...\n",
      "Preparing to unpack .../libk5crypto3_1.12.1+dfsg-19+deb8u1_amd64.deb ...\n",
      "Unpacking libk5crypto3:amd64 (1.12.1+dfsg-19+deb8u1) over (1.12.1+dfsg-19) ...\n",
      "Preparing to unpack .../libsasl2-modules-db_2.1.26.dfsg1-13+deb8u1_amd64.deb ...\n",
      "Unpacking libsasl2-modules-db:amd64 (2.1.26.dfsg1-13+deb8u1) over (2.1.26.dfsg1-13) ...\n",
      "Preparing to unpack .../libsasl2-2_2.1.26.dfsg1-13+deb8u1_amd64.deb ...\n",
      "Unpacking libsasl2-2:amd64 (2.1.26.dfsg1-13+deb8u1) over (2.1.26.dfsg1-13) ...\n",
      "Preparing to unpack .../libldap-2.4-2_2.4.40+dfsg-1+deb8u1_amd64.deb ...\n",
      "Unpacking libldap-2.4-2:amd64 (2.4.40+dfsg-1+deb8u1) over (2.4.40+dfsg-1) ...\n",
      "Preparing to unpack .../libxml2-dev_2.9.1+dfsg1-5+deb8u1_amd64.deb ...\n",
      "Unpacking libxml2-dev:amd64 (2.9.1+dfsg1-5+deb8u1) over (2.9.1+dfsg1-5) ...\n",
      "Preparing to unpack .../libxml2_2.9.1+dfsg1-5+deb8u1_amd64.deb ...\n",
      "Unpacking libxml2:amd64 (2.9.1+dfsg1-5+deb8u1) over (2.9.1+dfsg1-5) ...\n",
      "Preparing to unpack .../libpng12-dev_1.2.50-2+deb8u1_amd64.deb ...\n",
      "Unpacking libpng12-dev:amd64 (1.2.50-2+deb8u1) over (1.2.50-2+b2) ...\n",
      "Preparing to unpack .../libpng12-0_1.2.50-2+deb8u1_amd64.deb ...\n",
      "Unpacking libpng12-0:amd64 (1.2.50-2+deb8u1) over (1.2.50-2+b2) ...\n",
      "Preparing to unpack .../libfreetype6-dev_2.5.2-3+deb8u1_amd64.deb ...\n",
      "Unpacking libfreetype6-dev (2.5.2-3+deb8u1) over (2.5.2-3) ...\n",
      "Preparing to unpack .../libfreetype6_2.5.2-3+deb8u1_amd64.deb ...\n",
      "Unpacking libfreetype6:amd64 (2.5.2-3+deb8u1) over (2.5.2-3) ...\n",
      "Preparing to unpack .../libicu52_52.1-8+deb8u3_amd64.deb ...\n",
      "Unpacking libicu52:amd64 (52.1-8+deb8u3) over (52.1-8+deb8u2) ...\n",
      "Preparing to unpack .../multiarch-support_2.19-18+deb8u1_amd64.deb ...\n",
      "Unpacking multiarch-support (2.19-18+deb8u1) over (2.19-18) ...\n",
      "Setting up multiarch-support (2.19-18+deb8u1) ...\n",
      "(Reading database ... 22540 files and directories currently installed.)\n",
      "Preparing to unpack .../tzdata_2015g-0+deb8u1_all.deb ...\n",
      "Unpacking tzdata (2015g-0+deb8u1) over (2015e-0+deb8u1) ...\n",
      "Setting up tzdata (2015g-0+deb8u1) ...\n",
      "debconf: unable to initialize frontend: Dialog\n",
      "debconf: (No usable dialog-like program is installed, so the dialog based frontend cannot be used. at /usr/share/perl5/Debconf/FrontEnd/Dialog.pm line 76.)\n",
      "debconf: falling back to frontend: Readline\n",
      "\n",
      "Current default time zone: 'Etc/UTC'\n",
      "Local time is now:      Mon Jan  4 20:38:42 UTC 2016.\n",
      "Universal Time is now:  Mon Jan  4 20:38:42 UTC 2016.\n",
      "Run 'dpkg-reconfigure tzdata' if you wish to change it.\n",
      "\n",
      "(Reading database ... 22543 files and directories currently installed.)\n",
      "Preparing to unpack .../dpkg-dev_1.17.26_all.deb ...\n",
      "Unpacking dpkg-dev (1.17.26) over (1.17.25) ...\n",
      "Preparing to unpack .../libdpkg-perl_1.17.26_all.deb ...\n",
      "Unpacking libdpkg-perl (1.17.26) over (1.17.25) ...\n",
      "Preparing to unpack .../linux-libc-dev_3.16.7-ckt20-1+deb8u1_amd64.deb ...\n",
      "Unpacking linux-libc-dev:amd64 (3.16.7-ckt20-1+deb8u1) over (3.16.7-ckt11-1+deb8u3) ...\n",
      "Preparing to unpack .../openssl_1.0.1k-3+deb8u2_amd64.deb ...\n",
      "Unpacking openssl (1.0.1k-3+deb8u2) over (1.0.1k-3+deb8u1) ...\n",
      "Preparing to unpack .../unzip_6.0-16+deb8u2_amd64.deb ...\n",
      "Unpacking unzip (6.0-16+deb8u2) over (6.0-16) ...\n",
      "Processing triggers for mime-support (3.58) ...\n",
      "Setting up libssl1.0.0:amd64 (1.0.1k-3+deb8u2) ...\n",
      "debconf: unable to initialize frontend: Dialog\n",
      "debconf: (No usable dialog-like program is installed, so the dialog based frontend cannot be used. at /usr/share/perl5/Debconf/FrontEnd/Dialog.pm line 76.)\n",
      "debconf: falling back to frontend: Readline\n",
      "Setting up libkrb5support0:amd64 (1.12.1+dfsg-19+deb8u1) ...\n",
      "Setting up libk5crypto3:amd64 (1.12.1+dfsg-19+deb8u1) ...\n",
      "Setting up libkrb5-3:amd64 (1.12.1+dfsg-19+deb8u1) ...\n",
      "Setting up libgssapi-krb5-2:amd64 (1.12.1+dfsg-19+deb8u1) ...\n",
      "Setting up libsasl2-modules-db:amd64 (2.1.26.dfsg1-13+deb8u1) ...\n",
      "Setting up libsasl2-2:amd64 (2.1.26.dfsg1-13+deb8u1) ...\n",
      "Setting up libldap-2.4-2:amd64 (2.4.40+dfsg-1+deb8u1) ...\n",
      "Setting up libxml2:amd64 (2.9.1+dfsg1-5+deb8u1) ...\n",
      "Setting up libxml2-dev:amd64 (2.9.1+dfsg1-5+deb8u1) ...\n",
      "Setting up libpng12-0:amd64 (1.2.50-2+deb8u1) ...\n",
      "Setting up libpng12-dev:amd64 (1.2.50-2+deb8u1) ...\n",
      "Setting up libfreetype6:amd64 (2.5.2-3+deb8u1) ...\n",
      "Setting up libfreetype6-dev (2.5.2-3+deb8u1) ...\n",
      "Setting up libicu52:amd64 (52.1-8+deb8u3) ...\n",
      "Setting up libdpkg-perl (1.17.26) ...\n",
      "Setting up dpkg-dev (1.17.26) ...\n",
      "Setting up linux-libc-dev:amd64 (3.16.7-ckt20-1+deb8u1) ...\n",
      "Setting up openssl (1.0.1k-3+deb8u2) ...\n",
      "Setting up unzip (6.0-16+deb8u2) ...\n",
      "Processing triggers for libc-bin (2.19-18+deb8u1) ...\n",
      "Hit http://ftp.us.debian.org testing InRelease\n",
      "Hit http://security.debian.org jessie/updates InRelease\n",
      "Get:1 http://ftp.us.debian.org testing/main Sources [10.0 MB]\n",
      "Get:2 http://security.debian.org jessie/updates/main amd64 Packages [227 kB]\n",
      "Ign http://cran.rstudio.com lenny-cran/ InRelease\n",
      "Ign http://httpredir.debian.org jessie InRelease\n",
      "Get:3 http://cran.rstudio.com lenny-cran/ Release.gpg [198 B]\n",
      "Hit http://cran.rstudio.com lenny-cran/ Release\n",
      "Ign http://cran.rstudio.com lenny-cran/ Release\n",
      "Hit http://httpredir.debian.org jessie-updates InRelease\n",
      "Get:4 http://cran.rstudio.com lenny-cran/ Packages [15.2 kB]\n",
      "Hit http://httpredir.debian.org jessie Release.gpg\n",
      "Get:5 http://httpredir.debian.org jessie-updates/main amd64 Packages [3619 B]\n",
      "Hit http://httpredir.debian.org jessie Release\n",
      "Get:6 http://httpredir.debian.org jessie/main amd64 Packages [9035 kB]\n",
      "Fetched 19.3 MB in 2s (7155 kB/s)\n",
      "Reading package lists... Done\n",
      "W: GPG error: http://cran.rstudio.com lenny-cran/ Release: The following signatures couldn't be verified because the public key is not available: NO_PUBKEY 06F90DE5381BA480\n"
     ]
    }
   ],
   "source": [
    "!apt-get upgrade -y\n",
    "!apt-get update"
   ]
  },
  {
   "cell_type": "code",
   "execution_count": 2,
   "metadata": {
    "collapsed": false
   },
   "outputs": [
    {
     "name": "stdout",
     "output_type": "stream",
     "text": [
      "Executing: gpg --ignore-time-conflict --no-options --no-default-keyring --homedir /tmp/tmp.coQPu1407i --no-auto-check-trustdb --trust-model always --keyring /etc/apt/trusted.gpg --primary-keyring /etc/apt/trusted.gpg --keyring /etc/apt/trusted.gpg.d/debian-archive-jessie-automatic.gpg --keyring /etc/apt/trusted.gpg.d/debian-archive-jessie-security-automatic.gpg --keyring /etc/apt/trusted.gpg.d/debian-archive-jessie-stable.gpg --keyring /etc/apt/trusted.gpg.d/debian-archive-squeeze-automatic.gpg --keyring /etc/apt/trusted.gpg.d/debian-archive-squeeze-stable.gpg --keyring /etc/apt/trusted.gpg.d/debian-archive-wheezy-automatic.gpg --keyring /etc/apt/trusted.gpg.d/debian-archive-wheezy-stable.gpg --keyserver keyserver.ubuntu.com --recv-keys E084DAB9\n",
      "gpg: requesting key E084DAB9 from hkp server keyserver.ubuntu.com\n",
      "gpg: key E084DAB9: \"Michael Rutter <marutter@gmail.com>\" not changed\n",
      "gpg: Total number processed: 1\n",
      "gpg:              unchanged: 1\n"
     ]
    }
   ],
   "source": [
    "!if [ `grep 'cran' /etc/apt/sources.list | wc -l` = 0 ]; then echo \"deb http://cran.rstudio.com/bin/linux/debian lenny-cran/\" >> /etc/apt/sources.list; fi\n",
    "!apt-key adv --keyserver keyserver.ubuntu.com --recv-keys E084DAB9"
   ]
  },
  {
   "cell_type": "markdown",
   "metadata": {},
   "source": [
    "Second, install R."
   ]
  },
  {
   "cell_type": "code",
   "execution_count": 3,
   "metadata": {
    "collapsed": false
   },
   "outputs": [
    {
     "name": "stdout",
     "output_type": "stream",
     "text": [
      "Reading package lists... Done\n",
      "Building dependency tree       \n",
      "Reading state information... Done\n",
      "r-base is already the newest version.\n",
      "r-base-dev is already the newest version.\n",
      "0 upgraded, 0 newly installed, 0 to remove and 0 not upgraded.\n"
     ]
    }
   ],
   "source": [
    "!apt-get install -y r-base r-base-dev"
   ]
  },
  {
   "cell_type": "markdown",
   "metadata": {},
   "source": [
    "Third, install rpy2."
   ]
  },
  {
   "cell_type": "code",
   "execution_count": 4,
   "metadata": {
    "collapsed": false
   },
   "outputs": [
    {
     "name": "stdout",
     "output_type": "stream",
     "text": [
      "Requirement already satisfied (use --upgrade to upgrade): rpy2 in /usr/local/lib/python2.7/dist-packages\r\n",
      "Requirement already satisfied (use --upgrade to upgrade): six in /usr/lib/python2.7/dist-packages (from rpy2)\r\n",
      "Requirement already satisfied (use --upgrade to upgrade): singledispatch in /usr/local/lib/python2.7/dist-packages (from rpy2)\r\n",
      "Cleaning up...\r\n"
     ]
    }
   ],
   "source": [
    "!pip install rpy2"
   ]
  },
  {
   "cell_type": "markdown",
   "metadata": {},
   "source": [
    "Fourth, and last, activate the R cell magic."
   ]
  },
  {
   "cell_type": "code",
   "execution_count": 5,
   "metadata": {
    "collapsed": false
   },
   "outputs": [],
   "source": [
    "%load_ext rpy2.ipython"
   ]
  },
  {
   "cell_type": "markdown",
   "metadata": {},
   "source": [
    "Now we're ready to start accessing R from Datalab.\n",
    "\n",
    "We'll do something simple just to show the plumbing is in place..."
   ]
  },
  {
   "cell_type": "code",
   "execution_count": 15,
   "metadata": {
    "collapsed": false
   },
   "outputs": [],
   "source": [
    "import rpy2.interactive as r\n",
    "import rpy2.robjects.packages as rpackages\n",
    "from rpy2.robjects.vectors import StrVector"
   ]
  },
  {
   "cell_type": "markdown",
   "metadata": {},
   "source": [
    "Install ggplot2 if required."
   ]
  },
  {
   "cell_type": "code",
   "execution_count": 19,
   "metadata": {
    "collapsed": false
   },
   "outputs": [],
   "source": [
    "if not rpackages.isinstalled('ggplot2'):\n",
    "  utils = rpackages.importr('utils')\n",
    "  utils.chooseCRANmirror(ind=99)\n",
    "  utils.install_packages(StrVector('ggplot2'))"
   ]
  },
  {
   "cell_type": "code",
   "execution_count": 20,
   "metadata": {
    "collapsed": false
   },
   "outputs": [
    {
     "name": "stdout",
     "output_type": "stream",
     "text": [
      "\n",
      "Error in library(ggplot2) : there is no package called 'ggplot2'\n"
     ]
    },
    {
     "name": "stderr",
     "output_type": "stream",
     "text": [
      "/usr/local/lib/python2.7/dist-packages/rpy2/robjects/functions.py:106: UserWarning: 1: In (function (package, help, pos = 2, lib.loc = NULL, character.only = FALSE,  :\n",
      "  library '/usr/lib/R/site-library' contains no packages\n",
      "\n",
      "  res = super(Function, self).__call__(*new_args, **new_kwargs)\n",
      "/usr/local/lib/python2.7/dist-packages/rpy2/robjects/functions.py:106: UserWarning: 2: packages 'g', 'p', 'l', 'o', 't', '2' are not available (for R version 3.1.1) \n",
      "\n",
      "  res = super(Function, self).__call__(*new_args, **new_kwargs)\n",
      "/usr/local/lib/python2.7/dist-packages/rpy2/robjects/functions.py:106: UserWarning: 3: In (function (package, help, pos = 2, lib.loc = NULL, character.only = FALSE,  :\n",
      "  library '/usr/lib/R/site-library' contains no packages\n",
      "\n",
      "  res = super(Function, self).__call__(*new_args, **new_kwargs)\n",
      "/usr/local/lib/python2.7/dist-packages/rpy2/robjects/functions.py:106: UserWarning: 4: packages 'g', 'p', 'l', 'o', 't', '2' are not available (for R version 3.1.1) \n",
      "\n",
      "  res = super(Function, self).__call__(*new_args, **new_kwargs)\n"
     ]
    }
   ],
   "source": [
    "%%R\n",
    "library(ggplot2)\n",
    "head(mtcars)"
   ]
  },
  {
   "cell_type": "code",
   "execution_count": 13,
   "metadata": {
    "collapsed": false
   },
   "outputs": [
    {
     "name": "stdout",
     "output_type": "stream",
     "text": [
      "\n",
      "Error in plot(qplot(hp, mpg, color = factor(gear), data = mtcars, geom = c(\"point\",  : \n",
      "  could not find function \"qplot\"\n"
     ]
    },
    {
     "name": "stderr",
     "output_type": "stream",
     "text": [
      "/usr/local/lib/python2.7/dist-packages/rpy2/robjects/functions.py:106: UserWarning: Warning messages:\n",
      "\n",
      "  res = super(Function, self).__call__(*new_args, **new_kwargs)\n",
      "/usr/local/lib/python2.7/dist-packages/rpy2/robjects/functions.py:106: UserWarning: 1: In install.packages(\"ggplot2\", dep = TRUE) :\n",
      "  installation of package 'ggplot2' had non-zero exit status\n",
      "\n",
      "  res = super(Function, self).__call__(*new_args, **new_kwargs)\n",
      "/usr/local/lib/python2.7/dist-packages/rpy2/robjects/functions.py:106: UserWarning: 2: In install.packages(\"ggplot2\", dep = TRUE) :\n",
      "  installation of package 'Hmisc' had non-zero exit status\n",
      "\n",
      "  res = super(Function, self).__call__(*new_args, **new_kwargs)\n"
     ]
    }
   ],
   "source": [
    "_ = %R --width 768 --height 768 plot(qplot(hp, mpg, color=factor(gear), data=mtcars, geom=c(\"point\", \"smooth\")))"
   ]
  },
  {
   "cell_type": "code",
   "execution_count": null,
   "metadata": {
    "collapsed": false
   },
   "outputs": [],
   "source": [
    "_ = %R --width 768 --height 768 plot(qplot(wt, mpg, color=factor(gear), data=mtcars, geom=c(\"point\", \"smooth\")))"
   ]
  },
  {
   "cell_type": "code",
   "execution_count": null,
   "metadata": {
    "collapsed": true
   },
   "outputs": [],
   "source": [
    "%%R\n",
    "mtcars$am     <- as.factor(mtcars$am)\n",
    "mtcars$cyl    <- as.factor(mtcars$cyl)\n",
    "mtcars$vs     <- as.factor(mtcars$vs)\n",
    "mtcars$gear   <- as.factor(mtcars$gear)"
   ]
  },
  {
   "cell_type": "code",
   "execution_count": null,
   "metadata": {
    "collapsed": false
   },
   "outputs": [],
   "source": [
    "%%R\n",
    "fit <- lm(mpg ~ ., data=mtcars)\n",
    "summary(fit)"
   ]
  },
  {
   "cell_type": "code",
   "execution_count": null,
   "metadata": {
    "collapsed": false
   },
   "outputs": [],
   "source": [
    "%%R\n",
    "fit2 <- lm(mpg ~ hp + wt + gear, data=mtcars)\n",
    "summary(fit2)"
   ]
  },
  {
   "cell_type": "code",
   "execution_count": null,
   "metadata": {
    "collapsed": false
   },
   "outputs": [],
   "source": [
    "%%R\n",
    "fit3 <- lm(mpg ~ hp + wt, data=mtcars)\n",
    "summary(fit3)"
   ]
  },
  {
   "cell_type": "code",
   "execution_count": null,
   "metadata": {
    "collapsed": false
   },
   "outputs": [],
   "source": [
    "%%R --width 768 --height 768\n",
    "plot(fitted(fit3), resid(fit3))\n",
    "abline(h = 0)"
   ]
  }
 ],
 "metadata": {
  "kernelspec": {
   "display_name": "Python 2",
   "language": "python",
   "name": "python2"
  },
  "language_info": {
   "codemirror_mode": {
    "name": "ipython",
    "version": 2
   },
   "file_extension": ".py",
   "mimetype": "text/x-python",
   "name": "python",
   "nbconvert_exporter": "python",
   "pygments_lexer": "ipython2",
   "version": "2.7.9"
  }
 },
 "nbformat": 4,
 "nbformat_minor": 0
}
