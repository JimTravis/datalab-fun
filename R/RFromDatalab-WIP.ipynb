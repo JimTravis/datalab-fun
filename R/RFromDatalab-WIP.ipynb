{
 "cells": [
  {
   "cell_type": "markdown",
   "metadata": {},
   "source": [
    "# Accessing R from Google Cloud Datalab"
   ]
  },
  {
   "cell_type": "markdown",
   "metadata": {},
   "source": [
    "[iPython/Juypter](http://ipython.org/) versus [R](https://www.r-project.org/), that old chestnut.  It's all about preference.  I have to admit I prefer iPython and I really like [Google Cloud Datalab](https://cloud.google.com/datalab/) because it's fully managed and I spend my time writing code...  However, R has some really useful libraries, especially for financial analysis, so I love the idea of accessing R on demand from iPython using [rpy2](http://rpy.sourceforge.net/).  Here's my take on making that happen in Datalab."
   ]
  },
  {
   "cell_type": "markdown",
   "metadata": {},
   "source": [
    "First, make some assumptions about the VM running Datalab, then use those to make some updates in preparation for installing R and rpy2."
   ]
  },
  {
   "cell_type": "code",
   "execution_count": 1,
   "metadata": {
    "collapsed": false
   },
   "outputs": [
    {
     "name": "stdout",
     "output_type": "stream",
     "text": [
      "Reading package lists... Done\n",
      "Building dependency tree       \n",
      "Reading state information... Done\n",
      "Calculating upgrade... Done\n",
      "0 upgraded, 0 newly installed, 0 to remove and 0 not upgraded.\n",
      "Hit http://ftp.us.debian.org testing InRelease\n",
      "Hit http://security.debian.org jessie/updates InRelease\n",
      "Ign http://cran.rstudio.com lenny-cran/ InRelease\n",
      "Get:1 http://cran.rstudio.com lenny-cran/ Release.gpg [198 B]\n",
      "Hit http://cran.rstudio.com lenny-cran/ Release\n",
      "Ign http://cran.rstudio.com lenny-cran/ Release\n",
      "Get:2 http://ftp.us.debian.org testing/main Sources [10.0 MB]\n",
      "Get:3 http://cran.rstudio.com lenny-cran/ Packages [15.2 kB]\n",
      "Get:4 http://security.debian.org jessie/updates/main amd64 Packages [230 kB]\n",
      "Ign http://httpredir.debian.org jessie InRelease\n",
      "Hit http://httpredir.debian.org jessie-updates InRelease\n",
      "Hit http://httpredir.debian.org jessie Release.gpg\n",
      "Get:5 http://httpredir.debian.org jessie-updates/main amd64 Packages [3619 B]\n",
      "Hit http://httpredir.debian.org jessie Release\n",
      "Get:6 http://httpredir.debian.org jessie/main amd64 Packages [9035 kB]\n",
      "Fetched 19.3 MB in 2s (8232 kB/s)\n",
      "Reading package lists... Done\n",
      "W: GPG error: http://cran.rstudio.com lenny-cran/ Release: The following signatures couldn't be verified because the public key is not available: NO_PUBKEY 06F90DE5381BA480\n"
     ]
    }
   ],
   "source": [
    "!apt-get upgrade -y\n",
    "!apt-get update"
   ]
  },
  {
   "cell_type": "code",
   "execution_count": 2,
   "metadata": {
    "collapsed": false
   },
   "outputs": [
    {
     "name": "stdout",
     "output_type": "stream",
     "text": [
      "Executing: gpg --ignore-time-conflict --no-options --no-default-keyring --homedir /tmp/tmp.bX20ZsTHri --no-auto-check-trustdb --trust-model always --keyring /etc/apt/trusted.gpg --primary-keyring /etc/apt/trusted.gpg --keyring /etc/apt/trusted.gpg.d/debian-archive-jessie-automatic.gpg --keyring /etc/apt/trusted.gpg.d/debian-archive-jessie-security-automatic.gpg --keyring /etc/apt/trusted.gpg.d/debian-archive-jessie-stable.gpg --keyring /etc/apt/trusted.gpg.d/debian-archive-squeeze-automatic.gpg --keyring /etc/apt/trusted.gpg.d/debian-archive-squeeze-stable.gpg --keyring /etc/apt/trusted.gpg.d/debian-archive-wheezy-automatic.gpg --keyring /etc/apt/trusted.gpg.d/debian-archive-wheezy-stable.gpg --keyserver keyserver.ubuntu.com --recv-keys E084DAB9\n",
      "gpg: requesting key E084DAB9 from hkp server keyserver.ubuntu.com\n",
      "gpg: key E084DAB9: \"Michael Rutter <marutter@gmail.com>\" not changed\n",
      "gpg: Total number processed: 1\n",
      "gpg:              unchanged: 1\n"
     ]
    }
   ],
   "source": [
    "!if [ `grep 'cran' /etc/apt/sources.list | wc -l` = 0 ]; then echo \"deb http://cran.rstudio.com/bin/linux/debian lenny-cran/\" >> /etc/apt/sources.list; fi\n",
    "!apt-key adv --keyserver keyserver.ubuntu.com --recv-keys E084DAB9"
   ]
  },
  {
   "cell_type": "markdown",
   "metadata": {},
   "source": [
    "Second, install R."
   ]
  },
  {
   "cell_type": "code",
   "execution_count": 3,
   "metadata": {
    "collapsed": false
   },
   "outputs": [
    {
     "name": "stdout",
     "output_type": "stream",
     "text": [
      "Reading package lists... Done\n",
      "Building dependency tree       \n",
      "Reading state information... Done\n",
      "r-base is already the newest version.\n",
      "r-base-dev is already the newest version.\n",
      "0 upgraded, 0 newly installed, 0 to remove and 0 not upgraded.\n"
     ]
    }
   ],
   "source": [
    "!apt-get install -y r-base r-base-dev"
   ]
  },
  {
   "cell_type": "markdown",
   "metadata": {},
   "source": [
    "Third, install rpy2."
   ]
  },
  {
   "cell_type": "code",
   "execution_count": 4,
   "metadata": {
    "collapsed": false
   },
   "outputs": [
    {
     "name": "stdout",
     "output_type": "stream",
     "text": [
      "Requirement already satisfied (use --upgrade to upgrade): rpy2 in /usr/local/lib/python2.7/dist-packages\r\n",
      "Requirement already satisfied (use --upgrade to upgrade): six in /usr/lib/python2.7/dist-packages (from rpy2)\r\n",
      "Requirement already satisfied (use --upgrade to upgrade): singledispatch in /usr/local/lib/python2.7/dist-packages (from rpy2)\r\n",
      "Cleaning up...\r\n"
     ]
    }
   ],
   "source": [
    "!pip install rpy2"
   ]
  },
  {
   "cell_type": "markdown",
   "metadata": {},
   "source": [
    "Fourth, and last, activate the R cell magic."
   ]
  },
  {
   "cell_type": "code",
   "execution_count": 5,
   "metadata": {
    "collapsed": false
   },
   "outputs": [],
   "source": [
    "%load_ext rpy2.ipython"
   ]
  },
  {
   "cell_type": "markdown",
   "metadata": {},
   "source": [
    "Install ggplot2 if required."
   ]
  },
  {
   "cell_type": "code",
   "execution_count": 11,
   "metadata": {
    "collapsed": false
   },
   "outputs": [
    {
     "data": {
      "text/plain": [
       "\n",
       "The downloaded source packages are in\n",
       "\t'/tmp/Rtmps5f85f/downloaded_packages'\n"
      ]
     },
     "metadata": {},
     "output_type": "display_data"
    }
   ],
   "source": [
    "%R install.packages(\"ggplot2\", repos=\"http://cran.us.r-project.org\", dep=TRUE)"
   ]
  },
  {
   "cell_type": "code",
   "execution_count": 12,
   "metadata": {
    "collapsed": false
   },
   "outputs": [
    {
     "name": "stdout",
     "output_type": "stream",
     "text": [
      "\n",
      "Error in library(\"ggplot2\") : there is no package called 'ggplot2'\n"
     ]
    },
    {
     "name": "stderr",
     "output_type": "stream",
     "text": [
      "/usr/local/lib/python2.7/dist-packages/rpy2/robjects/functions.py:106: UserWarning: 1: In install.packages(\"Hmisc\", repos = \"http://cran.us.r-project.org\",  :\n",
      "  installation of package 'ggplot2' had non-zero exit status\n",
      "\n",
      "  res = super(Function, self).__call__(*new_args, **new_kwargs)\n",
      "/usr/local/lib/python2.7/dist-packages/rpy2/robjects/functions.py:106: UserWarning: 2: In install.packages(\"Hmisc\", repos = \"http://cran.us.r-project.org\",  :\n",
      "  installation of package 'Hmisc' had non-zero exit status\n",
      "\n",
      "  res = super(Function, self).__call__(*new_args, **new_kwargs)\n",
      "/usr/local/lib/python2.7/dist-packages/rpy2/robjects/functions.py:106: UserWarning: 3: In install.packages(\"Hmisc\", repos = \"http://cran.us.r-project.org\",  :\n",
      "  installation of package 'rms' had non-zero exit status\n",
      "\n",
      "  res = super(Function, self).__call__(*new_args, **new_kwargs)\n",
      "/usr/local/lib/python2.7/dist-packages/rpy2/robjects/functions.py:106: UserWarning: 4: In install.packages(\"Hmisc\", repos = \"http://cran.us.r-project.org\",  :\n",
      "  installation of package 'tables' had non-zero exit status\n",
      "\n",
      "  res = super(Function, self).__call__(*new_args, **new_kwargs)\n",
      "/usr/local/lib/python2.7/dist-packages/rpy2/robjects/functions.py:106: UserWarning: 5: In install.packages(\"ggplot2\", repos = \"http://cran.us.r-project.org\",  :\n",
      "  installation of package 'ggplot2' had non-zero exit status\n",
      "\n",
      "  res = super(Function, self).__call__(*new_args, **new_kwargs)\n",
      "/usr/local/lib/python2.7/dist-packages/rpy2/robjects/functions.py:106: UserWarning: 6: In install.packages(\"ggplot2\", repos = \"http://cran.us.r-project.org\",  :\n",
      "  installation of package 'Hmisc' had non-zero exit status\n",
      "\n",
      "  res = super(Function, self).__call__(*new_args, **new_kwargs)\n"
     ]
    }
   ],
   "source": [
    "%R library(\"ggplot2\")"
   ]
  },
  {
   "cell_type": "code",
   "execution_count": 13,
   "metadata": {
    "collapsed": false
   },
   "outputs": [
    {
     "name": "stderr",
     "output_type": "stream",
     "text": [
      "/usr/local/lib/python2.7/dist-packages/rpy2/robjects/functions.py:106: UserWarning: also installing the dependencies 'ggplot2', 'rms', 'tables'\n",
      "\n",
      "\n",
      "  res = super(Function, self).__call__(*new_args, **new_kwargs)\n"
     ]
    },
    {
     "data": {
      "text/plain": [
       "\n",
       "The downloaded source packages are in\n",
       "\t'/tmp/Rtmps5f85f/downloaded_packages'\n"
      ]
     },
     "metadata": {},
     "output_type": "display_data"
    }
   ],
   "source": [
    "%R install.packages(\"Hmisc\", repos=\"http://cran.us.r-project.org\", dep=TRUE)"
   ]
  },
  {
   "cell_type": "code",
   "execution_count": 14,
   "metadata": {
    "collapsed": false
   },
   "outputs": [
    {
     "name": "stdout",
     "output_type": "stream",
     "text": [
      "\n",
      "Error in plot(qplot(hp, mpg, color = factor(gear), data = mtcars, geom = c(\"point\",  : \n",
      "  could not find function \"qplot\"\n"
     ]
    },
    {
     "name": "stderr",
     "output_type": "stream",
     "text": [
      "/usr/local/lib/python2.7/dist-packages/rpy2/robjects/functions.py:106: UserWarning: Error in plot(qplot(hp, mpg, color = factor(gear), data = mtcars, geom = c(\"point\",  : \n",
      "  could not find function \"qplot\"\n",
      "\n",
      "  res = super(Function, self).__call__(*new_args, **new_kwargs)\n"
     ]
    }
   ],
   "source": [
    "_ = %R --width 768 --height 768 plot(qplot(hp, mpg, color=factor(gear), data=mtcars, geom=c(\"point\", \"smooth\")))"
   ]
  },
  {
   "cell_type": "code",
   "execution_count": null,
   "metadata": {
    "collapsed": false
   },
   "outputs": [],
   "source": [
    "_ = %R --width 768 --height 768 plot(qplot(wt, mpg, color=factor(gear), data=mtcars, geom=c(\"point\", \"smooth\")))"
   ]
  },
  {
   "cell_type": "code",
   "execution_count": null,
   "metadata": {
    "collapsed": true
   },
   "outputs": [],
   "source": [
    "%%R\n",
    "mtcars$am     <- as.factor(mtcars$am)\n",
    "mtcars$cyl    <- as.factor(mtcars$cyl)\n",
    "mtcars$vs     <- as.factor(mtcars$vs)\n",
    "mtcars$gear   <- as.factor(mtcars$gear)"
   ]
  },
  {
   "cell_type": "code",
   "execution_count": null,
   "metadata": {
    "collapsed": false
   },
   "outputs": [],
   "source": [
    "%%R\n",
    "fit <- lm(mpg ~ ., data=mtcars)\n",
    "summary(fit)"
   ]
  },
  {
   "cell_type": "code",
   "execution_count": null,
   "metadata": {
    "collapsed": false
   },
   "outputs": [],
   "source": [
    "%%R\n",
    "fit2 <- lm(mpg ~ hp + wt + gear, data=mtcars)\n",
    "summary(fit2)"
   ]
  },
  {
   "cell_type": "code",
   "execution_count": null,
   "metadata": {
    "collapsed": false
   },
   "outputs": [],
   "source": [
    "%%R\n",
    "fit3 <- lm(mpg ~ hp + wt, data=mtcars)\n",
    "summary(fit3)"
   ]
  },
  {
   "cell_type": "code",
   "execution_count": null,
   "metadata": {
    "collapsed": false
   },
   "outputs": [],
   "source": [
    "%%R --width 768 --height 768\n",
    "plot(fitted(fit3), resid(fit3))\n",
    "abline(h = 0)"
   ]
  }
 ],
 "metadata": {
  "kernelspec": {
   "display_name": "Python 2",
   "language": "python",
   "name": "python2"
  },
  "language_info": {
   "codemirror_mode": {
    "name": "ipython",
    "version": 2
   },
   "file_extension": ".py",
   "mimetype": "text/x-python",
   "name": "python",
   "nbconvert_exporter": "python",
   "pygments_lexer": "ipython2",
   "version": "2.7.9"
  }
 },
 "nbformat": 4,
 "nbformat_minor": 0
}
