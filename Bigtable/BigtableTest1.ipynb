{
 "cells": [
  {
   "cell_type": "code",
   "execution_count": 1,
   "metadata": {
    "collapsed": true
   },
   "outputs": [],
   "source": [
    "import base64\n",
    "from collections import OrderedDict\n",
    "import json\n",
    "import requests\n",
    "\n",
    "\n",
    "class HbaseRestClient(object):\n",
    "    \"\"\" This class provides a simpler interface to using the HBase REST\n",
    "    API. It includes some common needs such as base64 encoding/decoding\n",
    "    and assembling values into the appropriate data structures.\n",
    "    \"\"\"\n",
    "\n",
    "    def __init__(self, base_url, table_name):\n",
    "        \"\"\" Creates an instance of an Hbase REST client.\n",
    "        :param base_url: The hostname and port of the Hbase REST server.\n",
    "        e.g 'http://130.211.170.242:8080'\n",
    "        :param table_name: The name of the table\n",
    "        :return:\n",
    "        \"\"\"\n",
    "        assert (len(table_name) > 0)\n",
    "        self.base_url = base_url\n",
    "        self.table_name = table_name\n",
    "\n",
    "    def put_row(self, row_key, column, value):\n",
    "        \"\"\" Puts a value into an HBase cell via REST\n",
    "        This puts a value in the fully qualified column name. This assumes\n",
    "        that the table has already been created with the column family in its\n",
    "        schema. If it doesn't exist, you can use create_table() to doso.\n",
    "        :param row_key: The row we want to put a value into.\n",
    "        :param column: The fully qualified column (e.g.\n",
    "        my_column_family:content)\n",
    "        :param value: A string representing the sequence of bytes we want to\n",
    "        put into the cell\n",
    "        :return: None\n",
    "        \"\"\"\n",
    "        row_key_encoded = base64.b64encode(row_key)\n",
    "        column_encoded = base64.b64encode(column)\n",
    "        value_encoded = base64.b64encode(value)\n",
    "\n",
    "        cell = OrderedDict([\n",
    "            (\"key\", row_key_encoded),\n",
    "            (\"Cell\", [{\"column\": column_encoded, \"$\": value_encoded}])\n",
    "        ])\n",
    "        rows = [cell]\n",
    "        json_output = {\"Row\": rows}\n",
    "        r = requests.post(self.base_url + \"/\" + self.table_name + \"/\" + row_key,\n",
    "                          data=json.dumps(json_output),\n",
    "                          headers={\n",
    "                              \"Content-Type\": \"application/json\",\n",
    "                              \"Accept\": \"application/json\",\n",
    "                          }\n",
    "                          )\n",
    "        if r.status_code != 200:\n",
    "            print \"got status code %d when putting\" % r.status_code\n",
    "\n",
    "    def get_row(self, row_key):\n",
    "        \"\"\" Returns a value from the first column in a row.\n",
    "        :param row_key: The row to return the value from\n",
    "        :return: The bytes in the cell represented as a Python string.\n",
    "        \"\"\"\n",
    "        request = requests.get(self.base_url + \"/\" + self.table_name + \"/\" +\n",
    "                               row_key,\n",
    "                               headers={\"Accept\": \"application/json\"})\n",
    "        if request.status_code != 200:\n",
    "            return None\n",
    "        text = json.loads(request.text)\n",
    "        value = base64.b64decode(text['Row'][0]['Cell'][0]['$'])\n",
    "        return value\n",
    "\n",
    "    def delete(self, row_key):\n",
    "        \"\"\" Deletes a row\n",
    "        :param row_key: The row key of the row to delete\n",
    "        :return: None\n",
    "        \"\"\"\n",
    "        requests.delete(self.base_url + \"/\" + self.table_name + \"/\" + row_key)\n",
    "\n",
    "    def create_table(self, table_name, column_family):\n",
    "        \"\"\" Creates a table with a single column family.\n",
    "        It's safe to call if the table already exists, it will just fail\n",
    "        silently.\n",
    "        :param table_name: The name of the\n",
    "        :param column_family: The column family to create the table with.\n",
    "        :return: None\n",
    "        \"\"\"\n",
    "        json_output = {\"name\": table_name,\n",
    "                       \"ColumnSchema\": [{\"name\": column_family}]}\n",
    "        requests.post(self.base_url + '/' + table_name + '/schema',\n",
    "                      data=json.dumps(json_output),\n",
    "                      headers={\n",
    "                          \"Content-Type\": \"application/json\",\n",
    "                          \"Accept\": \"application/json\"\n",
    "                      })\n",
    "\n",
    "    def get_tables(self):\n",
    "        \"\"\" Returns a list of the tables in Hbase\n",
    "        :return: A list of the table names as strings\n",
    "        \"\"\"\n",
    "        r = requests.get(self.base_url)\n",
    "        tables = r.text.split('\\n')\n",
    "        return tables"
   ]
  },
  {
   "cell_type": "code",
   "execution_count": 6,
   "metadata": {
    "collapsed": false
   },
   "outputs": [],
   "source": [
    "#client = HbaseRestClient('http://130.211.143.156:8080', 'some-table2')"
   ]
  },
  {
   "cell_type": "code",
   "execution_count": 7,
   "metadata": {
    "collapsed": false
   },
   "outputs": [
    {
     "data": {
      "text/plain": [
       "[u'some-table2', u'']"
      ]
     },
     "execution_count": 7,
     "metadata": {},
     "output_type": "execute_result"
    }
   ],
   "source": [
    "#client.get_tables()"
   ]
  },
  {
   "cell_type": "code",
   "execution_count": 8,
   "metadata": {
    "collapsed": false
   },
   "outputs": [
    {
     "name": "stdout",
     "output_type": "stream",
     "text": [
      "None\n"
     ]
    }
   ],
   "source": [
    "#print client.create_table('some-table2', 'test')"
   ]
  },
  {
   "cell_type": "code",
   "execution_count": 9,
   "metadata": {
    "collapsed": false
   },
   "outputs": [],
   "source": [
    "#client.put_row('yeehaw', 'test:yippee', 'kayah')"
   ]
  },
  {
   "cell_type": "code",
   "execution_count": 10,
   "metadata": {
    "collapsed": false
   },
   "outputs": [
    {
     "data": {
      "text/plain": [
       "'kayah'"
      ]
     },
     "execution_count": 10,
     "metadata": {},
     "output_type": "execute_result"
    }
   ],
   "source": [
    "#client.get_row('yeehaw')"
   ]
  },
  {
   "cell_type": "code",
   "execution_count": 11,
   "metadata": {
    "collapsed": false
   },
   "outputs": [
    {
     "name": "stdout",
     "output_type": "stream",
     "text": [
      "Done!\n"
     ]
    }
   ],
   "source": [
    "'''import base64\n",
    "import json\n",
    "import random\n",
    "import requests\n",
    "from collections import OrderedDict\n",
    "from string import ascii_uppercase, digits\n",
    "\n",
    "# Use localhost, change IP to external IP of REST server if running on remote\n",
    "# client. use gcloud compute firewall-rules to open firewall rules\n",
    "base_url = 'http://130.211.143.156:8080'\n",
    "table_name = 'some-table2'\n",
    "\n",
    "# Generate a random row_key to minimize chances of collision during testing\n",
    "row_key = ''.join(random.choice(ascii_uppercase + digits) for _ in range(10))\n",
    "\n",
    "# Use a column that you have already created the column family for in the\n",
    "# database (or look at the other example, put_get_with_client.py to see how\n",
    "# this can be done via the REST API)\n",
    "column = \"test:count\"\n",
    "value = \"hello world\"\n",
    "\n",
    "#HBase REST interface requires all these values be encoded.\n",
    "rowKeyEncoded = base64.b64encode(row_key)\n",
    "encodedColumn = base64.b64encode(column)\n",
    "encodedValue = base64.b64encode(value)\n",
    "\n",
    "# We are only mutating one cell in the row, so we create a list of 1 element.\n",
    "rows = []\n",
    "cell = OrderedDict([\n",
    "    (\"key\", rowKeyEncoded),\n",
    "    (\"Cell\", [{\"column\": encodedColumn, \"$\": encodedValue}])\n",
    "])\n",
    "rows.append(cell)\n",
    "\n",
    "# Post our value to our row\n",
    "jsonOutput = {\"Row\": rows}\n",
    "requests.post(base_url + \"/\" + table_name + \"/\" + row_key,\n",
    "              json.dumps(jsonOutput),\n",
    "              headers={\n",
    "                  \"Content-Type\": \"application/json\",\n",
    "                  \"Accept\": \"application/json\",\n",
    "              }\n",
    "              )\n",
    "\n",
    "# Get our row back so we can check the value is there\n",
    "request = requests.get(base_url + \"/\" + table_name + \"/\" + row_key,\n",
    "                       headers={\"Accept\": \"application/json\"})\n",
    "\n",
    "# Verify we receive the value we put there\n",
    "text = json.loads(request.text)\n",
    "got_value = base64.b64decode(text['Row'][0]['Cell'][0]['$'])\n",
    "assert got_value == value\n",
    "\n",
    "\n",
    "# now we can delete the value\n",
    "requests.delete(base_url + \"/\" + table_name + \"/\" +row_key)\n",
    "\n",
    "# verify we now get a 404 when attempting to GET the value\n",
    "request = requests.get(base_url + \"/\" + table_name + \"/\" + row_key,\n",
    "                       headers={\"Accept\": \"application/json\"})\n",
    "assert request.status_code == 404\n",
    "\n",
    "print \"Done!\"'''"
   ]
  }
 ],
 "metadata": {
  "kernelspec": {
   "display_name": "Python 2",
   "language": "python",
   "name": "python2"
  },
  "language_info": {
   "codemirror_mode": {
    "name": "ipython",
    "version": 2
   },
   "file_extension": ".py",
   "mimetype": "text/x-python",
   "name": "python",
   "nbconvert_exporter": "python",
   "pygments_lexer": "ipython2",
   "version": "2.7.9"
  }
 },
 "nbformat": 4,
 "nbformat_minor": 0
}
