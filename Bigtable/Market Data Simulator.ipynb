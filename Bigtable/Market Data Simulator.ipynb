{
 "cells": [
  {
   "cell_type": "markdown",
   "metadata": {},
   "source": [
    "# Market Data Simulator"
   ]
  },
  {
   "cell_type": "markdown",
   "metadata": {},
   "source": [
    "Do you ever need some market data tp try something out?  I do quite often.  About half the time I go to one of the marketplaces for data that are becoming super-super-useful in this regard, and about half the time I'll craft some data to fit the purpose.  This notebook crafts market data with a configurable look-and-feel for a given time range.  Therein lies the intent of the notebook, in this case I want data that looks and feels like FX market data and, in the first instance, I don't care about the properties of the data as much as I care about having a reasonable frequency of ticks for a given time range.\n",
    "\n",
    "The end result is data that looks fine when plotted, is fine to analyze and quick to produce (6 months data in ~45 seconds).\n",
    "\n",
    "Feel free to have fun..."
   ]
  },
  {
   "cell_type": "code",
   "execution_count": 10,
   "metadata": {
    "collapsed": true
   },
   "outputs": [],
   "source": [
    "import random\n",
    "import datetime\n",
    "import pandas as pd"
   ]
  },
  {
   "cell_type": "code",
   "execution_count": 11,
   "metadata": {
    "collapsed": false
   },
   "outputs": [],
   "source": [
    "# Starting point for the mid price.\n",
    "STARTING_MID = 150.0\n",
    "\n",
    "# Minimum value for the mid price.  \n",
    "# N.B. If the random movement of the mid price falls below this minimum \n",
    "# we'll reset it to the minimum which will effectively make it bounce \n",
    "# off the minimum.\n",
    "MIN_MID = 50.0\n",
    "\n",
    "# Starting point for the spread.\n",
    "STARTING_SPREAD = 2.0\n",
    "\n",
    "# Minimum and maximum values for the spread.\n",
    "# N.B. If the random movement of the spread passes the minimum or maximum\n",
    "# we'll resent to the appropriate value which will effectively make it bounce\n",
    "# off these boundaries.\n",
    "MIN_SPREAD = 0.1\n",
    "# Maximum spread should be greater than STARTING_SPREAD\n",
    "MAX_SPREAD = 3.0\n",
    "\n",
    "TIME_FORMAT = '%m/%d/%y %H:%M:%S.%f'\n",
    "\n",
    "# Start and end time.\n",
    "START_TIME = '1/1/15 00:00:00.000'\n",
    "FINISH_TIME = '1/2/15 00:00:00.000'\n",
    "\n",
    "# Time deltas.  At each point we'll choose a delta from this list.\n",
    "# I chose this style of randomization to control the frequency of the ticks such \n",
    "# that the data looks more EBS or Reuters style than it does Currenex style.\n",
    "# This style makes manipulation/analysis somewhat easier.\n",
    "TIME_DELTAS = [\n",
    "  datetime.timedelta(milliseconds=1000), \n",
    "  datetime.timedelta(milliseconds=2000), \n",
    "  datetime.timedelta(milliseconds=4000), \n",
    "  datetime.timedelta(milliseconds=6000), \n",
    "  datetime.timedelta(milliseconds=8000), \n",
    "  datetime.timedelta(milliseconds=10000)]"
   ]
  },
  {
   "cell_type": "code",
   "execution_count": 12,
   "metadata": {
    "collapsed": false
   },
   "outputs": [],
   "source": [
    "start_datetime = datetime.datetime.strptime(START_TIME, TIME_FORMAT)\n",
    "finish_datetime = datetime.datetime.strptime(FINISH_TIME, TIME_FORMAT)\n",
    "\n",
    "current_mid = STARTING_MID\n",
    "current_spread = STARTING_SPREAD\n",
    "\n",
    "# The bid and ask are calculated from the spread, equidistant from the mid with bid lower than ask.\n",
    "current_bid = current_mid - (current_spread/2)\n",
    "current_ask = current_mid + (current_spread/2)\n",
    "\n",
    "current_datetime = start_datetime\n",
    "\n",
    "market_data = pd.DataFrame(columns=['datetime', 'mid', 'spread', 'bid', 'ask'])\n",
    "\n",
    "# Using a list of rows (that get appended to the dataframe at the end) because it's much faster than appending each time.\n",
    "rows_list = []\n",
    "rows_list.append(\n",
    "  {'datetime': current_datetime,\n",
    "   'mid': current_mid,\n",
    "   'spread': current_spread,\n",
    "   'bid': current_bid,\n",
    "   'ask': current_ask\n",
    "  }\n",
    ")\n",
    "\n",
    "while True:\n",
    "  \n",
    "  # Choose a random time increment from the list of deltas.\n",
    "  time_delta = random.choice(TIME_DELTAS)\n",
    "  current_datetime = current_datetime + time_delta\n",
    "  \n",
    "  # If the incremented datetime is beyond the finish datetime break out of the loop\n",
    "  if current_datetime > finish_datetime:\n",
    "    break\n",
    "  \n",
    "  # Choose a random change to the mid.\n",
    "  mid_delta = random.normalvariate(0, 0.1)\n",
    "  current_mid = current_mid + mid_delta\n",
    "  \n",
    "  # Reset the mid to the minimum if necessary.\n",
    "  if current_mid < MIN_MID:\n",
    "    current_mid = MIN_MID\n",
    "  \n",
    "  # Choose a random change to the spread.\n",
    "  spread_delta = random.normalvariate(0, 0.1)\n",
    "  current_spread = current_spread + spread_delta\n",
    "  \n",
    "  # Reset the spread to the min/max if necessary.\n",
    "  if current_spread < MIN_SPREAD:\n",
    "    current_spread = MIN_SPREAD\n",
    "  if current_spread > MAX_SPREAD:\n",
    "    current_spread = MAX_SPREAD\n",
    "  \n",
    "  current_bid = current_mid - (current_spread/2)\n",
    "  current_ask = current_mid + (current_spread/2)\n",
    "  \n",
    "  rows_list.append(\n",
    "    {'datetime': current_datetime,\n",
    "     'mid': current_mid,\n",
    "     'spread': current_spread,\n",
    "     'bid': current_bid,\n",
    "     'ask': current_ask\n",
    "    }\n",
    "  )\n",
    "  \n",
    "# Append all rows to the dataframe and set the index at the datetime.\n",
    "market_data = market_data.append(rows_list)\n",
    "market_data = market_data.set_index('datetime')"
   ]
  },
  {
   "cell_type": "markdown",
   "metadata": {},
   "source": [
    "Let's plot the bid and ask to check things look market data-ey...  Yep, market data-ey..."
   ]
  },
  {
   "cell_type": "code",
   "execution_count": 13,
   "metadata": {
    "collapsed": false
   },
   "outputs": [
    {
     "data": {
      "text/plain": [
       "<matplotlib.axes._subplots.AxesSubplot at 0x7f596872c9d0>"
      ]
     },
     "execution_count": 13,
     "metadata": {},
     "output_type": "execute_result"
    },
    {
     "data": {
      "image/png": "[encoded data removed]",
      "text/plain": [
       "<matplotlib.figure.Figure at 0x7f5968762110>"
      ]
     },
     "metadata": {},
     "output_type": "display_data"
    }
   ],
   "source": [
    "market_data.bid.plot()\n",
    "market_data.ask.plot()"
   ]
  },
  {
   "cell_type": "markdown",
   "metadata": {},
   "source": [
    "The purpose of printing out the final five entries in the data is to allow continutity of a sort.  For example, if you'd like to create market data for January, then for February, you can alter the starting values for the February run to match the ending values for the January run.  This level of automation is fine for my needs here..."
   ]
  },
  {
   "cell_type": "code",
   "execution_count": 14,
   "metadata": {
    "collapsed": false
   },
   "outputs": [
    {
     "data": {
      "text/html": [
       "<div>\n",
       "<table border=\"1\" class=\"dataframe\">\n",
       "  <thead>\n",
       "    <tr style=\"text-align: right;\">\n",
       "      <th></th>\n",
       "      <th>mid</th>\n",
       "      <th>spread</th>\n",
       "      <th>bid</th>\n",
       "      <th>ask</th>\n",
       "    </tr>\n",
       "    <tr>\n",
       "      <th>datetime</th>\n",
       "      <th></th>\n",
       "      <th></th>\n",
       "      <th></th>\n",
       "      <th></th>\n",
       "    </tr>\n",
       "  </thead>\n",
       "  <tbody>\n",
       "    <tr>\n",
       "      <th>2015-01-01 23:59:58</th>\n",
       "      <td>140.307476</td>\n",
       "      <td>1.715176</td>\n",
       "      <td>139.449888</td>\n",
       "      <td>141.165064</td>\n",
       "    </tr>\n",
       "    <tr>\n",
       "      <th>2015-01-01 23:59:50</th>\n",
       "      <td>140.217134</td>\n",
       "      <td>1.673237</td>\n",
       "      <td>139.380516</td>\n",
       "      <td>141.053752</td>\n",
       "    </tr>\n",
       "    <tr>\n",
       "      <th>2015-01-01 23:59:48</th>\n",
       "      <td>140.167850</td>\n",
       "      <td>1.771757</td>\n",
       "      <td>139.281972</td>\n",
       "      <td>141.053729</td>\n",
       "    </tr>\n",
       "    <tr>\n",
       "      <th>2015-01-01 23:59:44</th>\n",
       "      <td>140.220071</td>\n",
       "      <td>1.820813</td>\n",
       "      <td>139.309665</td>\n",
       "      <td>141.130478</td>\n",
       "    </tr>\n",
       "  </tbody>\n",
       "</table>\n",
       "</div>"
      ],
      "text/plain": [
       "                            mid    spread         bid         ask\n",
       "datetime                                                         \n",
       "2015-01-01 23:59:58  140.307476  1.715176  139.449888  141.165064\n",
       "2015-01-01 23:59:50  140.217134  1.673237  139.380516  141.053752\n",
       "2015-01-01 23:59:48  140.167850  1.771757  139.281972  141.053729\n",
       "2015-01-01 23:59:44  140.220071  1.820813  139.309665  141.130478"
      ]
     },
     "execution_count": 14,
     "metadata": {},
     "output_type": "execute_result"
    }
   ],
   "source": [
    "market_data[:-5:-1]"
   ]
  },
  {
   "cell_type": "code",
   "execution_count": 15,
   "metadata": {
    "collapsed": false
   },
   "outputs": [],
   "source": [
    "tmp = market_data.to_csv()"
   ]
  },
  {
   "cell_type": "markdown",
   "metadata": {},
   "source": [
    "Finally, I'm using a GCS specific command to write the CSV formatted data to a bucket in one of my files in GCP."
   ]
  },
  {
   "cell_type": "code",
   "execution_count": 16,
   "metadata": {
    "collapsed": false
   },
   "outputs": [],
   "source": [
    "#%storage write -v tmp -o gs://bingo-ml-1-market-data/dummy-exchange.csv"
   ]
  },
  {
   "cell_type": "code",
   "execution_count": 17,
   "metadata": {
    "collapsed": false
   },
   "outputs": [
    {
     "name": "stdout",
     "output_type": "stream",
     "text": [
      "Copyright 2015, Google, Inc.\n",
      "Licensed under the Apache License, Version 2.0 (the \"License\");\n",
      "you may not use this file except in compliance with the License.\n",
      "You may obtain a copy of the License at \n",
      "http://www.apache.org/licenses/LICENSE-2.0\n",
      "Unless required by applicable law or agreed to in writing, software\n",
      "distributed under the License is distributed on an \"AS IS\" BASIS,\n",
      "WITHOUT WARRANTIES OR CONDITIONS OF ANY KIND, either express or implied.\n",
      "See the License for the specific language governing permissions and\n",
      "limitations under the License.\n"
     ]
    }
   ],
   "source": [
    "print '''Copyright 2015, Google, Inc.\n",
    "Licensed under the Apache License, Version 2.0 (the \"License\");\n",
    "you may not use this file except in compliance with the License.\n",
    "You may obtain a copy of the License at \n",
    "http://www.apache.org/licenses/LICENSE-2.0\n",
    "Unless required by applicable law or agreed to in writing, software\n",
    "distributed under the License is distributed on an \"AS IS\" BASIS,\n",
    "WITHOUT WARRANTIES OR CONDITIONS OF ANY KIND, either express or implied.\n",
    "See the License for the specific language governing permissions and\n",
    "limitations under the License.'''"
   ]
  }
 ],
 "metadata": {
  "kernelspec": {
   "display_name": "Python 2",
   "language": "python",
   "name": "python2"
  },
  "language_info": {
   "codemirror_mode": {
    "name": "ipython",
    "version": 2
   },
   "file_extension": ".py",
   "mimetype": "text/x-python",
   "name": "python",
   "nbconvert_exporter": "python",
   "pygments_lexer": "ipython2",
   "version": "2.7.9"
  }
 },
 "nbformat": 4,
 "nbformat_minor": 0
}
